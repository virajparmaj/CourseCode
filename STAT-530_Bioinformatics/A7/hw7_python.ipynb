{
 "cells": [
  {
   "cell_type": "markdown",
   "metadata": {},
   "source": [
    "# STAT 530 Homework 7\n",
    "\n",
    "## Instructions\n",
    "\n",
    "You may use any packages you'd like. Some analyses are most easily done without packages. In these cases you will need to formulate the problem correctly, by identifying the population, the features, the question type, etc. Multiple answers are possible.\n",
    "\n",
    "Subregion identifiers are provided on Canvas.\n",
    "\n",
    "Export your solutions to HTML and submit the HTML file on Canvas."
   ]
  },
  {
   "cell_type": "markdown",
   "metadata": {},
   "source": [
    "## Problem 1 (2 points)\n",
    "\n",
    "Are spatially distinct subregions of the hippocampus also transcriptionally distinct?\n",
    "\n",
    "a. Answer the question and provide uncertainty quantification (1 point). Include all code.\n",
    "\n",
    "Solution.\n",
    "\n",
    "b. Provide a visualization for your result (1 point).\n",
    "\n",
    "Solution."
   ]
  },
  {
   "cell_type": "code",
   "execution_count": 1,
   "metadata": {},
   "outputs": [
    {
     "name": "stdout",
     "output_type": "stream",
     "text": [
      "Combined shape: (37688, 16)\n",
      "            Cell name  Sample name  # Cells Condition  Batch Brain regions  \\\n",
      "0  AAACAAGTATCTCCCA-1  Sample10SOR     2550       SOR      1     Neocortex   \n",
      "1  AAACATTTCCCGGATT-1  Sample10SOR     2550       SOR      1    Allocortex   \n",
      "2  AAACCCGAACGAAATC-1  Sample10SOR     2550       SOR      1     Neocortex   \n",
      "3  AAACCGGGTAGGTACC-1  Sample10SOR     2550       SOR      1      Thalamus   \n",
      "4  AAACCGTTCGTCCAGG-1  Sample10SOR     2550       SOR      1  Hypothalamus   \n",
      "\n",
      "  Brain regions SCT applied on log norm Hippocampal subregions RSC subregions  \\\n",
      "0                             Neocortex                    NaN            NaN   \n",
      "1                            Allocortex                    NaN            NaN   \n",
      "2                             Neocortex                    NaN            NaN   \n",
      "3                              Thalamus                    NaN            NaN   \n",
      "4                          Hypothalamus                    NaN            NaN   \n",
      "\n",
      "  Secondary auditory cortex Whole Hippocampus cells  Expressed genes  \\\n",
      "0                       NaN                     NaN             7004   \n",
      "1                       NaN                     NaN             7396   \n",
      "2                       NaN                     NaN             6842   \n",
      "3                       NaN                     NaN             4953   \n",
      "4                       NaN                     NaN             6453   \n",
      "\n",
      "   Mitochondrial reads percent  Ribosomal reads percent  Total count  \\\n",
      "0                    15.120227                 7.020105      33332.8   \n",
      "1                    11.243819                 6.214341      40342.2   \n",
      "2                    11.597459                 5.981459      29825.5   \n",
      "3                    20.329883                 6.962971      18067.0   \n",
      "4                    13.355981                 9.812489      29829.3   \n",
      "\n",
      "         FileSource  \n",
      "0  data\\Sample10SOR  \n",
      "1  data\\Sample10SOR  \n",
      "2  data\\Sample10SOR  \n",
      "3  data\\Sample10SOR  \n",
      "4  data\\Sample10SOR  \n"
     ]
    }
   ],
   "source": [
    "import glob\n",
    "import pandas as pd\n",
    "\n",
    "# 1. Glob all .txt files in ./data/\n",
    "file_paths = glob.glob(\"data/*.txt\")\n",
    "\n",
    "# 2. Read & combine into one DataFrame\n",
    "all_dfs = []\n",
    "for fp in file_paths:\n",
    "    df_temp = pd.read_csv(fp, sep=\"\\t\")\n",
    "    # Optionally store which file or sample we got these rows from:\n",
    "    sample_name = fp.split(\"/\")[-1].replace(\".txt\",\"\")\n",
    "    df_temp[\"FileSource\"] = sample_name\n",
    "    all_dfs.append(df_temp)\n",
    "\n",
    "big_df = pd.concat(all_dfs, ignore_index=True)\n",
    "\n",
    "print(f\"Combined shape: {big_df.shape}\")\n",
    "print(big_df.head(5))\n"
   ]
  },
  {
   "cell_type": "code",
   "execution_count": 2,
   "metadata": {},
   "outputs": [
    {
     "name": "stdout",
     "output_type": "stream",
     "text": [
      "Total rows from Hippocampal region: 3063\n"
     ]
    },
    {
     "data": {
      "text/plain": [
       "Hippocampal subregions\n",
       "NaN                 1873\n",
       "Stratum radiatum     337\n",
       "DG                   264\n",
       "CA1                  249\n",
       "CA2+CA3              186\n",
       "Stratum oriens       154\n",
       "Name: count, dtype: int64"
      ]
     },
     "execution_count": 2,
     "metadata": {},
     "output_type": "execute_result"
    }
   ],
   "source": [
    "hipp_df = big_df.loc[big_df[\"Brain regions\"] == \"Hippocampal region\"].copy()\n",
    "\n",
    "print(\"Total rows from Hippocampal region:\", len(hipp_df))\n",
    "hipp_df[\"Hippocampal subregions\"].value_counts(dropna=False)\n"
   ]
  },
  {
   "cell_type": "code",
   "execution_count": 3,
   "metadata": {},
   "outputs": [
    {
     "name": "stdout",
     "output_type": "stream",
     "text": [
      "Rows with a real subregion label: 3063\n"
     ]
    }
   ],
   "source": [
    "hipp_df = hipp_df.loc[hipp_df[\"Hippocampal subregions\"] != \"N/A\"].copy()\n",
    "print(\"Rows with a real subregion label:\", len(hipp_df))\n"
   ]
  },
  {
   "cell_type": "code",
   "execution_count": 4,
   "metadata": {},
   "outputs": [
    {
     "name": "stdout",
     "output_type": "stream",
     "text": [
      "Kruskal-Wallis test on 'Expressed genes' by Hippocampal subregion\n",
      "Statistic = 808.882, p-value = 9.152e-174\n"
     ]
    }
   ],
   "source": [
    "import numpy as np\n",
    "import scipy.stats as st\n",
    "import pandas as pd\n",
    "\n",
    "# Identify unique subregions\n",
    "subregion_groups = hipp_df[\"Hippocampal subregions\"].unique()\n",
    "\n",
    "expr_lists = []\n",
    "valid_subregions = []\n",
    "for subr in subregion_groups:\n",
    "    # Convert to numeric, drop non-numeric and NaN\n",
    "    arr = pd.to_numeric(\n",
    "        hipp_df.loc[hipp_df[\"Hippocampal subregions\"] == subr, \"Expressed genes\"],\n",
    "        errors=\"coerce\"\n",
    "    ).dropna()\n",
    "\n",
    "    # Keep only if we have >=2 points\n",
    "    if len(arr) >= 2:\n",
    "        expr_lists.append(arr)\n",
    "        valid_subregions.append(subr)\n",
    "\n",
    "# If we don't have at least 2 groups with >=2 data points, Kruskal-Wallis is invalid\n",
    "if len(expr_lists) < 2:\n",
    "    print(\"Not enough subregions with >=2 data points to run Kruskal-Wallis.\")\n",
    "else:\n",
    "    kw_stat, kw_p = st.kruskal(*expr_lists)\n",
    "    print(\"Kruskal-Wallis test on 'Expressed genes' by Hippocampal subregion\")\n",
    "    print(f\"Statistic = {kw_stat:.3f}, p-value = {kw_p:.3e}\")\n"
   ]
  },
  {
   "cell_type": "code",
   "execution_count": 5,
   "metadata": {},
   "outputs": [
    {
     "data": {
      "image/png": "[encoded data removed]",
      "text/plain": [
       "<Figure size 1000x600 with 1 Axes>"
      ]
     },
     "metadata": {},
     "output_type": "display_data"
    }
   ],
   "source": [
    "import seaborn as sns\n",
    "import matplotlib.pyplot as plt\n",
    "\n",
    "# Optionally, filter out subregions with fewer than 2 observations to match our test criteria\n",
    "subregion_counts = hipp_df[\"Hippocampal subregions\"].value_counts()\n",
    "valid_subregions = subregion_counts[subregion_counts >= 2].index\n",
    "filtered_hipp_df = hipp_df[hipp_df[\"Hippocampal subregions\"].isin(valid_subregions)]\n",
    "\n",
    "plt.figure(figsize=(10, 6))\n",
    "sns.boxplot(\n",
    "    data=filtered_hipp_df, \n",
    "    x=\"Hippocampal subregions\", \n",
    "    y=\"Expressed genes\"\n",
    ")\n",
    "plt.title(\"Expressed Genes by Hippocampal Subregion\")\n",
    "plt.xlabel(\"Hippocampal Subregion\")\n",
    "plt.ylabel(\"Expressed Genes\")\n",
    "plt.xticks(rotation=30, ha=\"right\")\n",
    "plt.tight_layout()\n",
    "plt.show()\n"
   ]
  },
  {
   "cell_type": "markdown",
   "metadata": {},
   "source": [
    "- The Kruskal–Wallis test yielded a statistically significant result (p-value < 0.05), indicating that the distribution of \"Expressed genes\" differs across the hippocampal subregions.\n",
    "- Uncertainty in the analysis is quantified by the p-value (and potentially by bootstrap confidence intervals), supporting the reliability of the observed differences.\n",
    "- The box plot shows clear variations in the median and spread of \"Expressed genes\" among the different subregions.\n",
    "- Together, these results provide evidence that spatially distinct hippocampal subregions are transcriptionally distinct based on the \"Expressed genes\" metric."
   ]
  },
  {
   "cell_type": "markdown",
   "metadata": {},
   "source": [
    "## Problem 2 (2 points)\n",
    "\n",
    "What genes are involved in the different spatial subregions due to SOR training?\n",
    "\n",
    "a. Report the number of significantly up- and down-regulated genes in each brain region, at an FDR of 0.05, in a figure like Figure 3C in the Vanrobaeys et al. (2023) paper (1 point).\n",
    "\n",
    "Solution.\n",
    "\n",
    "b. Report the top 2 upregulated genes and downregulated genes in each brain region, as quantified by log-fold change (1 point).\n",
    "\n",
    "Solution."
   ]
  },
  {
   "cell_type": "code",
   "execution_count": 6,
   "metadata": {},
   "outputs": [
    {
     "name": "stdout",
     "output_type": "stream",
     "text": [
      "\n",
      "STEP 1:\n",
      "After renaming, columns now:\n",
      "['CellName', 'SampleName', 'NumCells', 'Condition', 'Batch', 'BrainRegions', 'BrainRegionsSCT', 'HippocampalSubregions', 'RSCSubregions', 'SecondaryAuditoryCortex', 'WholeHippocampusCells', 'ExpressedGenes', 'MitochondrialReadsPercent', 'RibosomalReadsPercent', 'TotalCount', 'FileSource']\n"
     ]
    }
   ],
   "source": [
    "print(\"\\nSTEP 1:\")\n",
    "\n",
    "# Rename columns to simpler names for ease of use\n",
    "big_df.rename(columns={\n",
    "    \"Cell name\": \"CellName\",\n",
    "    \"Sample name\": \"SampleName\",\n",
    "    \"# Cells\": \"NumCells\",\n",
    "    \"Condition\": \"Condition\",\n",
    "    \"Batch\": \"Batch\",\n",
    "    \"Brain regions\": \"BrainRegions\",\n",
    "    \"Brain regions SCT applied on log norm\": \"BrainRegionsSCT\",\n",
    "    \"Hippocampal subregions\": \"HippocampalSubregions\",\n",
    "    \"RSC subregions\": \"RSCSubregions\",\n",
    "    \"Secondary auditory cortex\": \"SecondaryAuditoryCortex\",\n",
    "    \"Whole Hippocampus cells\": \"WholeHippocampusCells\",\n",
    "    \"Expressed genes\": \"ExpressedGenes\",\n",
    "    \"Mitochondrial reads percent\": \"MitochondrialReadsPercent\",\n",
    "    \"Ribosomal reads percent\": \"RibosomalReadsPercent\",\n",
    "    \"Total count\": \"TotalCount\",\n",
    "    \"FileSource\": \"FileSource\"\n",
    "}, inplace=True)\n",
    "\n",
    "# Print columns to confirm the renaming\n",
    "print(\"After renaming, columns now:\")\n",
    "print(big_df.columns.tolist())\n",
    "\n"
   ]
  },
  {
   "cell_type": "code",
   "execution_count": 7,
   "metadata": {},
   "outputs": [],
   "source": [
    "# Subset to hippocampal region only, if that's your focus:\n",
    "hipp_df = big_df.loc[big_df[\"BrainRegions\"] == \"Hippocampal region\"].copy()\n",
    "\n",
    "# We want to focus on known subregions (CA1, CA2/3, DG, Stratum radiatum, Stratum oriens).\n",
    "# Drop NaNs in 'HippocampalSubregions':\n",
    "hipp_df = hipp_df.dropna(subset=[\"HippocampalSubregions\"])\n",
    "\n",
    "subregions = hipp_df[\"HippocampalSubregions\"].unique()"
   ]
  },
  {
   "cell_type": "code",
   "execution_count": 8,
   "metadata": {},
   "outputs": [
    {
     "name": "stderr",
     "output_type": "stream",
     "text": [
      "c:\\Users\\viraj\\anaconda3\\envs\\stat530\\lib\\site-packages\\anndata\\_core\\anndata.py:1758: UserWarning: Variable names are not unique. To make them unique, call `.var_names_make_unique`.\n",
      "  utils.warn_names_duplicates(\"var\")\n",
      "c:\\Users\\viraj\\anaconda3\\envs\\stat530\\lib\\site-packages\\anndata\\_core\\anndata.py:1758: UserWarning: Variable names are not unique. To make them unique, call `.var_names_make_unique`.\n",
      "  utils.warn_names_duplicates(\"var\")\n",
      "c:\\Users\\viraj\\anaconda3\\envs\\stat530\\lib\\site-packages\\anndata\\_core\\anndata.py:1758: UserWarning: Variable names are not unique. To make them unique, call `.var_names_make_unique`.\n",
      "  utils.warn_names_duplicates(\"var\")\n",
      "c:\\Users\\viraj\\anaconda3\\envs\\stat530\\lib\\site-packages\\anndata\\_core\\anndata.py:1758: UserWarning: Variable names are not unique. To make them unique, call `.var_names_make_unique`.\n",
      "  utils.warn_names_duplicates(\"var\")\n",
      "c:\\Users\\viraj\\anaconda3\\envs\\stat530\\lib\\site-packages\\anndata\\_core\\anndata.py:1758: UserWarning: Variable names are not unique. To make them unique, call `.var_names_make_unique`.\n",
      "  utils.warn_names_duplicates(\"var\")\n",
      "c:\\Users\\viraj\\anaconda3\\envs\\stat530\\lib\\site-packages\\anndata\\_core\\anndata.py:1758: UserWarning: Variable names are not unique. To make them unique, call `.var_names_make_unique`.\n",
      "  utils.warn_names_duplicates(\"var\")\n",
      "c:\\Users\\viraj\\anaconda3\\envs\\stat530\\lib\\site-packages\\anndata\\_core\\anndata.py:1758: UserWarning: Variable names are not unique. To make them unique, call `.var_names_make_unique`.\n",
      "  utils.warn_names_duplicates(\"var\")\n",
      "c:\\Users\\viraj\\anaconda3\\envs\\stat530\\lib\\site-packages\\anndata\\_core\\anndata.py:1758: UserWarning: Variable names are not unique. To make them unique, call `.var_names_make_unique`.\n",
      "  utils.warn_names_duplicates(\"var\")\n",
      "c:\\Users\\viraj\\anaconda3\\envs\\stat530\\lib\\site-packages\\anndata\\_core\\anndata.py:1758: UserWarning: Variable names are not unique. To make them unique, call `.var_names_make_unique`.\n",
      "  utils.warn_names_duplicates(\"var\")\n",
      "c:\\Users\\viraj\\anaconda3\\envs\\stat530\\lib\\site-packages\\anndata\\_core\\anndata.py:1758: UserWarning: Variable names are not unique. To make them unique, call `.var_names_make_unique`.\n",
      "  utils.warn_names_duplicates(\"var\")\n",
      "c:\\Users\\viraj\\anaconda3\\envs\\stat530\\lib\\site-packages\\anndata\\_core\\anndata.py:1758: UserWarning: Variable names are not unique. To make them unique, call `.var_names_make_unique`.\n",
      "  utils.warn_names_duplicates(\"var\")\n",
      "c:\\Users\\viraj\\anaconda3\\envs\\stat530\\lib\\site-packages\\anndata\\_core\\anndata.py:1758: UserWarning: Variable names are not unique. To make them unique, call `.var_names_make_unique`.\n",
      "  utils.warn_names_duplicates(\"var\")\n",
      "c:\\Users\\viraj\\anaconda3\\envs\\stat530\\lib\\site-packages\\anndata\\_core\\anndata.py:1758: UserWarning: Variable names are not unique. To make them unique, call `.var_names_make_unique`.\n",
      "  utils.warn_names_duplicates(\"var\")\n",
      "c:\\Users\\viraj\\anaconda3\\envs\\stat530\\lib\\site-packages\\anndata\\_core\\anndata.py:1758: UserWarning: Variable names are not unique. To make them unique, call `.var_names_make_unique`.\n",
      "  utils.warn_names_duplicates(\"var\")\n",
      "c:\\Users\\viraj\\anaconda3\\envs\\stat530\\lib\\site-packages\\anndata\\_core\\anndata.py:1758: UserWarning: Variable names are not unique. To make them unique, call `.var_names_make_unique`.\n",
      "  utils.warn_names_duplicates(\"var\")\n",
      "c:\\Users\\viraj\\anaconda3\\envs\\stat530\\lib\\site-packages\\anndata\\_core\\anndata.py:1758: UserWarning: Variable names are not unique. To make them unique, call `.var_names_make_unique`.\n",
      "  utils.warn_names_duplicates(\"var\")\n",
      "c:\\Users\\viraj\\anaconda3\\envs\\stat530\\lib\\site-packages\\anndata\\_core\\anndata.py:1758: UserWarning: Variable names are not unique. To make them unique, call `.var_names_make_unique`.\n",
      "  utils.warn_names_duplicates(\"var\")\n",
      "c:\\Users\\viraj\\anaconda3\\envs\\stat530\\lib\\site-packages\\anndata\\_core\\anndata.py:1758: UserWarning: Variable names are not unique. To make them unique, call `.var_names_make_unique`.\n",
      "  utils.warn_names_duplicates(\"var\")\n",
      "c:\\Users\\viraj\\anaconda3\\envs\\stat530\\lib\\site-packages\\anndata\\_core\\anndata.py:1758: UserWarning: Variable names are not unique. To make them unique, call `.var_names_make_unique`.\n",
      "  utils.warn_names_duplicates(\"var\")\n",
      "c:\\Users\\viraj\\anaconda3\\envs\\stat530\\lib\\site-packages\\anndata\\_core\\anndata.py:1758: UserWarning: Variable names are not unique. To make them unique, call `.var_names_make_unique`.\n",
      "  utils.warn_names_duplicates(\"var\")\n",
      "c:\\Users\\viraj\\anaconda3\\envs\\stat530\\lib\\site-packages\\anndata\\_core\\anndata.py:1758: UserWarning: Variable names are not unique. To make them unique, call `.var_names_make_unique`.\n",
      "  utils.warn_names_duplicates(\"var\")\n",
      "c:\\Users\\viraj\\anaconda3\\envs\\stat530\\lib\\site-packages\\anndata\\_core\\anndata.py:1758: UserWarning: Variable names are not unique. To make them unique, call `.var_names_make_unique`.\n",
      "  utils.warn_names_duplicates(\"var\")\n",
      "c:\\Users\\viraj\\anaconda3\\envs\\stat530\\lib\\site-packages\\anndata\\_core\\anndata.py:1758: UserWarning: Variable names are not unique. To make them unique, call `.var_names_make_unique`.\n",
      "  utils.warn_names_duplicates(\"var\")\n",
      "c:\\Users\\viraj\\anaconda3\\envs\\stat530\\lib\\site-packages\\anndata\\_core\\anndata.py:1758: UserWarning: Variable names are not unique. To make them unique, call `.var_names_make_unique`.\n",
      "  utils.warn_names_duplicates(\"var\")\n",
      "c:\\Users\\viraj\\anaconda3\\envs\\stat530\\lib\\site-packages\\anndata\\_core\\anndata.py:1758: UserWarning: Variable names are not unique. To make them unique, call `.var_names_make_unique`.\n",
      "  utils.warn_names_duplicates(\"var\")\n",
      "c:\\Users\\viraj\\anaconda3\\envs\\stat530\\lib\\site-packages\\anndata\\_core\\anndata.py:1758: UserWarning: Variable names are not unique. To make them unique, call `.var_names_make_unique`.\n",
      "  utils.warn_names_duplicates(\"var\")\n",
      "c:\\Users\\viraj\\anaconda3\\envs\\stat530\\lib\\site-packages\\anndata\\_core\\anndata.py:1758: UserWarning: Variable names are not unique. To make them unique, call `.var_names_make_unique`.\n",
      "  utils.warn_names_duplicates(\"var\")\n",
      "c:\\Users\\viraj\\anaconda3\\envs\\stat530\\lib\\site-packages\\anndata\\_core\\anndata.py:1758: UserWarning: Variable names are not unique. To make them unique, call `.var_names_make_unique`.\n",
      "  utils.warn_names_duplicates(\"var\")\n",
      "C:\\Users\\viraj\\AppData\\Local\\Temp\\ipykernel_49524\\521467723.py:40: FutureWarning: Series.__getitem__ treating keys as positions is deprecated. In a future version, integer keys will always be treated as labels (consistent with DataFrame behavior). To access a value by position, use `ser.iloc[pos]`\n",
      "  batch_categories = [ad.obs['sample_id'][0] for ad in adatas]\n",
      "C:\\Users\\viraj\\AppData\\Local\\Temp\\ipykernel_49524\\521467723.py:41: FutureWarning: Use anndata.concat instead of AnnData.concatenate, AnnData.concatenate is deprecated and will be removed in the future. See the tutorial for concat at: https://anndata.readthedocs.io/en/latest/concatenation.html\n",
      "  adata_all = adatas[0].concatenate(\n"
     ]
    },
    {
     "name": "stdout",
     "output_type": "stream",
     "text": [
      "Combined AnnData shape: (37688, 32285)\n",
      "Shape of SOR samples: (18242, 32285)\n"
     ]
    }
   ],
   "source": [
    "import os\n",
    "import scanpy as sc\n",
    "\n",
    "# Set the path to the folder containing the 14 mouse folders\n",
    "data_dir = r\"C:\\Users\\viraj\\BuildSpace\\Courses\\STAT-530 Bioinformatics\\A5\\Data\"\n",
    "\n",
    "# List subdirectories (each representing one mouse sample)\n",
    "sample_dirs = [os.path.join(data_dir, d) for d in os.listdir(data_dir) \n",
    "               if os.path.isdir(os.path.join(data_dir, d))]\n",
    "\n",
    "# Initialize a list to store the AnnData objects for each sample\n",
    "adatas = []\n",
    "\n",
    "# Loop over each sample folder and read only the .h5 file\n",
    "for sample_folder in sample_dirs:\n",
    "    h5_path = os.path.join(sample_folder, \"filtered_feature_bc_matrix.h5\")\n",
    "    if os.path.exists(h5_path):\n",
    "        # Read the 10x .h5 file into an AnnData object\n",
    "        adata = sc.read_10x_h5(h5_path)\n",
    "        \n",
    "        # Make gene names unique in this sample\n",
    "        adata.var_names_make_unique()\n",
    "        \n",
    "        # Annotate with the sample id (folder name)\n",
    "        sample_id = os.path.basename(sample_folder)\n",
    "        adata.obs['sample_id'] = sample_id\n",
    "        \n",
    "        # Determine condition based on sample_id; adjust as needed.\n",
    "        if \"SOR\" in sample_id.upper():\n",
    "            adata.obs['Condition'] = \"SOR\"\n",
    "        else:\n",
    "            adata.obs['Condition'] = \"homecage\"\n",
    "            \n",
    "        adatas.append(adata)\n",
    "    else:\n",
    "        print(f\"File not found: {h5_path}\")\n",
    "\n",
    "# Concatenate all AnnData objects into one.\n",
    "# Use index_unique='-' to ensure unique cell barcodes.\n",
    "batch_categories = [ad.obs['sample_id'][0] for ad in adatas]\n",
    "adata_all = adatas[0].concatenate(\n",
    "    *adatas[1:], \n",
    "    batch_key='sample_folder', \n",
    "    batch_categories=batch_categories,\n",
    "    index_unique='-'\n",
    ")\n",
    "\n",
    "# After concatenation, ensure variable names are unique (should already be)\n",
    "adata_all.var_names_make_unique()\n",
    "\n",
    "print(\"Combined AnnData shape:\", adata_all.shape)\n",
    "\n",
    "# Optionally, if you want to work only with SOR samples:\n",
    "adata_SOR = adata_all[adata_all.obs['Condition'] == \"SOR\"].copy()\n",
    "print(\"Shape of SOR samples:\", adata_SOR.shape)\n"
   ]
  },
  {
   "cell_type": "code",
   "execution_count": 9,
   "metadata": {},
   "outputs": [
    {
     "name": "stdout",
     "output_type": "stream",
     "text": [
      "Combined shape: (37688, 32285)\n",
      "Conditions: ['SOR', 'homecage']\n"
     ]
    }
   ],
   "source": [
    "import anndata\n",
    "batch_keys = [ad.obs[\"sample_id\"].iloc[0] for ad in adatas]\n",
    "adata_all = anndata.concat(adatas, join=\"outer\", label=\"sample_folder\", keys=batch_keys, index_unique=\"-\")\n",
    "adata_all.var_names_make_unique()\n",
    "print(\"Combined shape:\", adata_all.shape)\n",
    "print(\"Conditions:\", adata_all.obs[\"Condition\"].unique().tolist())\n"
   ]
  },
  {
   "cell_type": "code",
   "execution_count": 10,
   "metadata": {},
   "outputs": [
    {
     "name": "stdout",
     "output_type": "stream",
     "text": [
      "Shape of SOR samples: (18242, 32285)\n"
     ]
    }
   ],
   "source": [
    "adata_SOR = adata_all[adata_all.obs[\"Condition\"] == \"SOR\"].copy()\n",
    "print(\"Shape of SOR samples:\", adata_SOR.shape)\n"
   ]
  },
  {
   "cell_type": "code",
   "execution_count": 11,
   "metadata": {},
   "outputs": [
    {
     "name": "stdout",
     "output_type": "stream",
     "text": [
      "Example extracted cell barcode: AAACAAGTATCTCCCA-1\n",
      "Example from big_df: AAACAAGTATCTCCCA-1\n",
      "Unique hippocampal subregions in SOR data:\n",
      "[nan 'CA2+CA3' 'DG' 'CA1' 'Stratum oriens' 'Stratum radiatum']\n"
     ]
    }
   ],
   "source": [
    "# Extract the first two parts of the cell barcode from the AnnData index.\n",
    "adata_SOR.obs[\"CellName_raw\"] = adata_SOR.obs.index.str.split(\"-\").str[:2].str.join(\"-\")\n",
    "\n",
    "# Show a few examples:\n",
    "print(\"Example extracted cell barcode:\", adata_SOR.obs[\"CellName_raw\"].iloc[0])\n",
    "print(\"Example from big_df:\", big_df[\"CellName\"].iloc[0])\n",
    "\n",
    "# Merge metadata from big_df using the proper key:\n",
    "meta = big_df[[\"CellName\", \"HippocampalSubregions\"]].drop_duplicates(\"CellName\")\n",
    "merged_obs = adata_SOR.obs.reset_index().merge(meta, left_on=\"CellName_raw\", right_on=\"CellName\", how=\"left\").set_index(\"index\")\n",
    "adata_SOR.obs = merged_obs\n",
    "\n",
    "print(\"Unique hippocampal subregions in SOR data:\")\n",
    "print(adata_SOR.obs[\"HippocampalSubregions\"].unique())\n"
   ]
  },
  {
   "cell_type": "code",
   "execution_count": 12,
   "metadata": {},
   "outputs": [
    {
     "name": "stdout",
     "output_type": "stream",
     "text": [
      "After filtering: (18242, 21796)\n",
      "Normalization complete.\n"
     ]
    }
   ],
   "source": [
    "sc.pp.filter_genes(adata_SOR, min_cells=3)\n",
    "print(\"After filtering:\", adata_SOR.shape)\n",
    "sc.pp.normalize_total(adata_SOR, target_sum=1e4)\n",
    "sc.pp.log1p(adata_SOR)\n",
    "print(\"Normalization complete.\")\n"
   ]
  },
  {
   "cell_type": "code",
   "execution_count": 13,
   "metadata": {},
   "outputs": [
    {
     "name": "stdout",
     "output_type": "stream",
     "text": [
      "DE analysis complete.\n"
     ]
    }
   ],
   "source": [
    "sc.tl.rank_genes_groups(adata_SOR, groupby=\"HippocampalSubregions\", method=\"wilcoxon\", n_genes=adata_SOR.shape[1])\n",
    "print(\"DE analysis complete.\")\n"
   ]
  },
  {
   "cell_type": "code",
   "execution_count": 14,
   "metadata": {},
   "outputs": [
    {
     "name": "stdout",
     "output_type": "stream",
     "text": [
      "CA1: Up 256, Down 282\n",
      "CA2+CA3: Up 149, Down 176\n",
      "DG: Up 810, Down 324\n",
      "Stratum oriens: Up 189, Down 99\n",
      "Stratum radiatum: Up 368, Down 550\n"
     ]
    }
   ],
   "source": [
    "deg = adata_SOR.uns[\"rank_genes_groups\"]\n",
    "groups = deg[\"names\"].dtype.names\n",
    "subregion_de = {}\n",
    "for g in groups:\n",
    "    df = pd.DataFrame({\n",
    "        \"gene\": deg[\"names\"][g],\n",
    "        \"pval_adj\": deg[\"pvals_adj\"][g],\n",
    "        \"logfc\": deg[\"logfoldchanges\"][g]\n",
    "    })\n",
    "    df_sig = df[df[\"pval_adj\"] < 0.05]\n",
    "    up = df_sig[df_sig[\"logfc\"] > 0]\n",
    "    down = df_sig[df_sig[\"logfc\"] < 0]\n",
    "    top2_up = up.sort_values(\"logfc\", ascending=False).head(2)\n",
    "    top2_down = down.sort_values(\"logfc\", ascending=True).head(2)\n",
    "    subregion_de[g] = {\n",
    "        \"up_count\": up.shape[0],\n",
    "        \"down_count\": down.shape[0],\n",
    "        \"top2_up\": top2_up,\n",
    "        \"top2_down\": top2_down\n",
    "    }\n",
    "for g in subregion_de:\n",
    "    print(f\"{g}: Up {subregion_de[g]['up_count']}, Down {subregion_de[g]['down_count']}\")\n"
   ]
  },
  {
   "cell_type": "code",
   "execution_count": 15,
   "metadata": {},
   "outputs": [
    {
     "data": {
      "image/png": "[encoded data removed]",
      "text/plain": [
       "<Figure size 800x500 with 1 Axes>"
      ]
     },
     "metadata": {},
     "output_type": "display_data"
    }
   ],
   "source": [
    "sub_list = list(subregion_de.keys())\n",
    "up_counts = [subregion_de[s][\"up_count\"] for s in sub_list]\n",
    "down_counts = [subregion_de[s][\"down_count\"] for s in sub_list]\n",
    "\n",
    "plt.figure(figsize=(8,5))\n",
    "plt.barh(sub_list, [-d for d in down_counts], color=\"blue\", alpha=0.7, label=\"Downregulated\")\n",
    "plt.barh(sub_list, up_counts, color=\"red\", alpha=0.7, label=\"Upregulated\")\n",
    "plt.xlabel(\"Number of DE Genes (FDR < 0.05)\")\n",
    "plt.title(\"DE Genes by Hippocampal Subregion\")\n",
    "plt.legend()\n",
    "plt.tight_layout()\n",
    "plt.show()\n"
   ]
  },
  {
   "cell_type": "code",
   "execution_count": 16,
   "metadata": {},
   "outputs": [
    {
     "name": "stdout",
     "output_type": "stream",
     "text": [
      "\n",
      "=== CA1 ===\n",
      "Top 2 Upregulated:\n",
      "   gene     pval_adj    logfc\n",
      " Fibcd1 2.374376e-02 2.147208\n",
      "Lrrc10b 7.780337e-08 1.788834\n",
      "Top 2 Downregulated:\n",
      " gene  pval_adj     logfc\n",
      "Trbc2  0.032245 -3.409133\n",
      "Ramp3  0.000044 -2.266447\n",
      "\n",
      "=== CA2+CA3 ===\n",
      "Top 2 Upregulated:\n",
      "   gene     pval_adj    logfc\n",
      "Lrrc10b 1.088000e-15 2.391156\n",
      "   Rem2 1.301124e-09 2.236328\n",
      "Top 2 Downregulated:\n",
      " gene  pval_adj     logfc\n",
      "  Tox  0.049241 -3.372380\n",
      "Satb2  0.043829 -2.935846\n",
      "\n",
      "=== DG ===\n",
      "Top 2 Upregulated:\n",
      "gene  pval_adj    logfc\n",
      " Dsp  0.000062 3.418772\n",
      " Lct  0.000120 2.844420\n",
      "Top 2 Downregulated:\n",
      "         gene  pval_adj     logfc\n",
      "        Trbc2  0.001256 -5.197433\n",
      "9130024F11Rik  0.018198 -4.414372\n",
      "\n",
      "=== Stratum oriens ===\n",
      "Top 2 Upregulated:\n",
      "  gene  pval_adj    logfc\n",
      "Fibcd1  0.009011 2.545653\n",
      "Spink8  0.008910 2.205264\n",
      "Top 2 Downregulated:\n",
      " gene  pval_adj     logfc\n",
      "Prkcd  0.047645 -2.525519\n",
      "Ramp3  0.005979 -2.175379\n",
      "\n",
      "=== Stratum radiatum ===\n",
      "Top 2 Upregulated:\n",
      "   gene     pval_adj    logfc\n",
      "  C1ql2 2.762126e-02 2.072859\n",
      "Lrrc10b 1.978417e-12 2.027795\n",
      "Top 2 Downregulated:\n",
      "  gene  pval_adj     logfc\n",
      " Trbc2  0.011376 -3.472079\n",
      "Tcf7l2  0.000281 -2.550077\n"
     ]
    }
   ],
   "source": [
    "for s in sub_list:\n",
    "    print(f\"\\n=== {s} ===\")\n",
    "    print(\"Top 2 Upregulated:\")\n",
    "    print(subregion_de[s][\"top2_up\"].to_string(index=False))\n",
    "    print(\"Top 2 Downregulated:\")\n",
    "    print(subregion_de[s][\"top2_down\"].to_string(index=False))\n"
   ]
  },
  {
   "cell_type": "code",
   "execution_count": null,
   "metadata": {},
   "outputs": [],
   "source": []
  }
 ],
 "metadata": {
  "kernelspec": {
   "display_name": "stat530",
   "language": "python",
   "name": "python3"
  },
  "language_info": {
   "codemirror_mode": {
    "name": "ipython",
    "version": 3
   },
   "file_extension": ".py",
   "mimetype": "text/x-python",
   "name": "python",
   "nbconvert_exporter": "python",
   "pygments_lexer": "ipython3",
   "version": "3.10.16"
  }
 },
 "nbformat": 4,
 "nbformat_minor": 2
}
