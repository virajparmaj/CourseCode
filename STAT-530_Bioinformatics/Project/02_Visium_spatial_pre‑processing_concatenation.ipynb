{
 "cells": [
  {
   "cell_type": "markdown",
   "id": "18c6d789",
   "metadata": {},
   "source": [
    "# Visium preprocessing – load all 14 slides, clean spots, and export one H5AD  \n",
    "In this notebook we read every 10x Visium slide from *Vanrobaeys et al.* (2023),  \n",
    "attach pixel coordinates & subregion labels, drop off‑tissue spots and create a single\n",
    "`adata_vis` object.  At the end we perform a few sanity plots to make sure counts\n",
    "and coordinates look sensible.\n"
   ]
  },
  {
   "cell_type": "code",
   "execution_count": 2,
   "id": "0a47d05f",
   "metadata": {},
   "outputs": [
    {
     "ename": "NotImplementedError",
     "evalue": "The legacy implementation is no longer supported",
     "output_type": "error",
     "traceback": [
      "\u001b[1;31m---------------------------------------------------------------------------\u001b[0m",
      "\u001b[1;31mNotImplementedError\u001b[0m                       Traceback (most recent call last)",
      "Cell \u001b[1;32mIn[2], line 7\u001b[0m\n\u001b[0;32m      4\u001b[0m dask\u001b[38;5;241m.\u001b[39mconfig\u001b[38;5;241m.\u001b[39mset({\u001b[38;5;124m\"\u001b[39m\u001b[38;5;124mdataframe.query-planning\u001b[39m\u001b[38;5;124m\"\u001b[39m: \u001b[38;5;28;01mTrue\u001b[39;00m})\n\u001b[0;32m      6\u001b[0m \u001b[38;5;66;03m# Now import the rest:\u001b[39;00m\n\u001b[1;32m----> 7\u001b[0m \u001b[38;5;28;01mimport\u001b[39;00m\u001b[38;5;250m \u001b[39m\u001b[38;5;21;01msquidpy\u001b[39;00m\u001b[38;5;250m \u001b[39m\u001b[38;5;28;01mas\u001b[39;00m\u001b[38;5;250m \u001b[39m\u001b[38;5;21;01msq\u001b[39;00m\n\u001b[0;32m      8\u001b[0m \u001b[38;5;28;01mimport\u001b[39;00m\u001b[38;5;250m \u001b[39m\u001b[38;5;21;01mscanpy\u001b[39;00m\u001b[38;5;250m \u001b[39m\u001b[38;5;28;01mas\u001b[39;00m\u001b[38;5;250m \u001b[39m\u001b[38;5;21;01msc\u001b[39;00m\n\u001b[0;32m      9\u001b[0m \u001b[38;5;28;01mimport\u001b[39;00m\u001b[38;5;250m \u001b[39m\u001b[38;5;21;01mpandas\u001b[39;00m\u001b[38;5;250m \u001b[39m\u001b[38;5;28;01mas\u001b[39;00m\u001b[38;5;250m \u001b[39m\u001b[38;5;21;01mpd\u001b[39;00m\n",
      "File \u001b[1;32mc:\\Users\\viraj\\anaconda3\\envs\\stat530\\lib\\site-packages\\squidpy\\__init__.py:3\u001b[0m\n\u001b[0;32m      1\u001b[0m \u001b[38;5;28;01mfrom\u001b[39;00m\u001b[38;5;250m \u001b[39m\u001b[38;5;21;01mimportlib\u001b[39;00m\u001b[38;5;250m \u001b[39m\u001b[38;5;28;01mimport\u001b[39;00m metadata\n\u001b[1;32m----> 3\u001b[0m \u001b[38;5;28;01mfrom\u001b[39;00m\u001b[38;5;250m \u001b[39m\u001b[38;5;21;01msquidpy\u001b[39;00m\u001b[38;5;250m \u001b[39m\u001b[38;5;28;01mimport\u001b[39;00m datasets, gr, im, pl, read, tl\n\u001b[0;32m      5\u001b[0m \u001b[38;5;28;01mtry\u001b[39;00m:\n\u001b[0;32m      6\u001b[0m     md \u001b[38;5;241m=\u001b[39m metadata\u001b[38;5;241m.\u001b[39mmetadata(\u001b[38;5;18m__name__\u001b[39m)\n",
      "File \u001b[1;32mc:\\Users\\viraj\\anaconda3\\envs\\stat530\\lib\\site-packages\\squidpy\\gr\\__init__.py:2\u001b[0m\n\u001b[0;32m      1\u001b[0m \u001b[38;5;124;03m\"\"\"The graph module.\"\"\"\u001b[39;00m\n\u001b[1;32m----> 2\u001b[0m \u001b[38;5;28;01mfrom\u001b[39;00m\u001b[38;5;250m \u001b[39m\u001b[38;5;21;01msquidpy\u001b[39;00m\u001b[38;5;21;01m.\u001b[39;00m\u001b[38;5;21;01mgr\u001b[39;00m\u001b[38;5;21;01m.\u001b[39;00m\u001b[38;5;21;01m_build\u001b[39;00m\u001b[38;5;250m \u001b[39m\u001b[38;5;28;01mimport\u001b[39;00m spatial_neighbors\n\u001b[0;32m      3\u001b[0m \u001b[38;5;28;01mfrom\u001b[39;00m\u001b[38;5;250m \u001b[39m\u001b[38;5;21;01msquidpy\u001b[39;00m\u001b[38;5;21;01m.\u001b[39;00m\u001b[38;5;21;01mgr\u001b[39;00m\u001b[38;5;21;01m.\u001b[39;00m\u001b[38;5;21;01m_ligrec\u001b[39;00m\u001b[38;5;250m \u001b[39m\u001b[38;5;28;01mimport\u001b[39;00m ligrec\n\u001b[0;32m      4\u001b[0m \u001b[38;5;28;01mfrom\u001b[39;00m\u001b[38;5;250m \u001b[39m\u001b[38;5;21;01msquidpy\u001b[39;00m\u001b[38;5;21;01m.\u001b[39;00m\u001b[38;5;21;01mgr\u001b[39;00m\u001b[38;5;21;01m.\u001b[39;00m\u001b[38;5;21;01m_nhood\u001b[39;00m\u001b[38;5;250m \u001b[39m\u001b[38;5;28;01mimport\u001b[39;00m centrality_scores, interaction_matrix, nhood_enrichment\n",
      "File \u001b[1;32mc:\\Users\\viraj\\anaconda3\\envs\\stat530\\lib\\site-packages\\squidpy\\gr\\_build.py:24\u001b[0m\n\u001b[0;32m     22\u001b[0m \u001b[38;5;28;01mfrom\u001b[39;00m\u001b[38;5;250m \u001b[39m\u001b[38;5;21;01msklearn\u001b[39;00m\u001b[38;5;21;01m.\u001b[39;00m\u001b[38;5;21;01mmetrics\u001b[39;00m\u001b[38;5;21;01m.\u001b[39;00m\u001b[38;5;21;01mpairwise\u001b[39;00m\u001b[38;5;250m \u001b[39m\u001b[38;5;28;01mimport\u001b[39;00m cosine_similarity, euclidean_distances\n\u001b[0;32m     23\u001b[0m \u001b[38;5;28;01mfrom\u001b[39;00m\u001b[38;5;250m \u001b[39m\u001b[38;5;21;01msklearn\u001b[39;00m\u001b[38;5;21;01m.\u001b[39;00m\u001b[38;5;21;01mneighbors\u001b[39;00m\u001b[38;5;250m \u001b[39m\u001b[38;5;28;01mimport\u001b[39;00m NearestNeighbors\n\u001b[1;32m---> 24\u001b[0m \u001b[38;5;28;01mfrom\u001b[39;00m\u001b[38;5;250m \u001b[39m\u001b[38;5;21;01mspatialdata\u001b[39;00m\u001b[38;5;250m \u001b[39m\u001b[38;5;28;01mimport\u001b[39;00m SpatialData\n\u001b[0;32m     26\u001b[0m \u001b[38;5;28;01mfrom\u001b[39;00m\u001b[38;5;250m \u001b[39m\u001b[38;5;21;01msquidpy\u001b[39;00m\u001b[38;5;21;01m.\u001b[39;00m\u001b[38;5;21;01m_constants\u001b[39;00m\u001b[38;5;21;01m.\u001b[39;00m\u001b[38;5;21;01m_constants\u001b[39;00m\u001b[38;5;250m \u001b[39m\u001b[38;5;28;01mimport\u001b[39;00m CoordType, Transform\n\u001b[0;32m     27\u001b[0m \u001b[38;5;28;01mfrom\u001b[39;00m\u001b[38;5;250m \u001b[39m\u001b[38;5;21;01msquidpy\u001b[39;00m\u001b[38;5;21;01m.\u001b[39;00m\u001b[38;5;21;01m_constants\u001b[39;00m\u001b[38;5;21;01m.\u001b[39;00m\u001b[38;5;21;01m_pkg_constants\u001b[39;00m\u001b[38;5;250m \u001b[39m\u001b[38;5;28;01mimport\u001b[39;00m Key\n",
      "File \u001b[1;32mc:\\Users\\viraj\\anaconda3\\envs\\stat530\\lib\\site-packages\\spatialdata\\__init__.py:6\u001b[0m\n\u001b[0;32m      3\u001b[0m \u001b[38;5;28;01mimport\u001b[39;00m\u001b[38;5;250m \u001b[39m\u001b[38;5;21;01mdask\u001b[39;00m\n\u001b[0;32m      5\u001b[0m dask\u001b[38;5;241m.\u001b[39mconfig\u001b[38;5;241m.\u001b[39mset({\u001b[38;5;124m\"\u001b[39m\u001b[38;5;124mdataframe.query-planning\u001b[39m\u001b[38;5;124m\"\u001b[39m: \u001b[38;5;28;01mFalse\u001b[39;00m})\n\u001b[1;32m----> 6\u001b[0m \u001b[38;5;28;01mimport\u001b[39;00m\u001b[38;5;250m \u001b[39m\u001b[38;5;21;01mdask\u001b[39;00m\u001b[38;5;21;01m.\u001b[39;00m\u001b[38;5;21;01mdataframe\u001b[39;00m\u001b[38;5;250m \u001b[39m\u001b[38;5;28;01mas\u001b[39;00m\u001b[38;5;250m \u001b[39m\u001b[38;5;21;01mdd\u001b[39;00m\n\u001b[0;32m      8\u001b[0m \u001b[38;5;66;03m# Setting `dataframe.query-planning` to False is effective only if run before `dask.dataframe` is initialized. In\u001b[39;00m\n\u001b[0;32m      9\u001b[0m \u001b[38;5;66;03m# the case in which the user had initilized `dask.dataframe` before, we would have DASK_EXPER_ENABLED set to `True`.\u001b[39;00m\n\u001b[0;32m     10\u001b[0m \u001b[38;5;66;03m# Here we check that this does not happen.\u001b[39;00m\n\u001b[0;32m     11\u001b[0m \u001b[38;5;28;01mif\u001b[39;00m \u001b[38;5;28mhasattr\u001b[39m(dd, \u001b[38;5;124m\"\u001b[39m\u001b[38;5;124mDASK_EXPR_ENABLED\u001b[39m\u001b[38;5;124m\"\u001b[39m) \u001b[38;5;129;01mand\u001b[39;00m dd\u001b[38;5;241m.\u001b[39mDASK_EXPR_ENABLED:\n",
      "File \u001b[1;32mc:\\Users\\viraj\\anaconda3\\envs\\stat530\\lib\\site-packages\\dask\\dataframe\\__init__.py:14\u001b[0m\n\u001b[0;32m      9\u001b[0m         \u001b[38;5;28;01mraise\u001b[39;00m \u001b[38;5;167;01mNotImplementedError\u001b[39;00m(\u001b[38;5;124m\"\u001b[39m\u001b[38;5;124mThe legacy implementation is no longer supported\u001b[39m\u001b[38;5;124m\"\u001b[39m)\n\u001b[0;32m     11\u001b[0m     \u001b[38;5;28;01mreturn\u001b[39;00m \u001b[38;5;28;01mTrue\u001b[39;00m\n\u001b[1;32m---> 14\u001b[0m \u001b[43m_dask_expr_enabled\u001b[49m\u001b[43m(\u001b[49m\u001b[43m)\u001b[49m\n\u001b[0;32m     17\u001b[0m \u001b[38;5;28;01mimport\u001b[39;00m\u001b[38;5;250m \u001b[39m\u001b[38;5;21;01mdask\u001b[39;00m\u001b[38;5;21;01m.\u001b[39;00m\u001b[38;5;21;01marray\u001b[39;00m\u001b[38;5;21;01m.\u001b[39;00m\u001b[38;5;21;01m_array_expr\u001b[39;00m\u001b[38;5;21;01m.\u001b[39;00m\u001b[38;5;21;01m_backends\u001b[39;00m  \u001b[38;5;66;03m# Import this to register array dispatch # noqa: F401\u001b[39;00m\n\u001b[0;32m     19\u001b[0m \u001b[38;5;66;03m# Ensure that dtypes are registered\u001b[39;00m\n",
      "File \u001b[1;32mc:\\Users\\viraj\\anaconda3\\envs\\stat530\\lib\\site-packages\\dask\\dataframe\\__init__.py:9\u001b[0m, in \u001b[0;36m_dask_expr_enabled\u001b[1;34m()\u001b[0m\n\u001b[0;32m      7\u001b[0m use_dask_expr \u001b[38;5;241m=\u001b[39m dask\u001b[38;5;241m.\u001b[39mconfig\u001b[38;5;241m.\u001b[39mget(\u001b[38;5;124m\"\u001b[39m\u001b[38;5;124mdataframe.query-planning\u001b[39m\u001b[38;5;124m\"\u001b[39m)\n\u001b[0;32m      8\u001b[0m \u001b[38;5;28;01mif\u001b[39;00m use_dask_expr \u001b[38;5;129;01mis\u001b[39;00m \u001b[38;5;28;01mFalse\u001b[39;00m:\n\u001b[1;32m----> 9\u001b[0m     \u001b[38;5;28;01mraise\u001b[39;00m \u001b[38;5;167;01mNotImplementedError\u001b[39;00m(\u001b[38;5;124m\"\u001b[39m\u001b[38;5;124mThe legacy implementation is no longer supported\u001b[39m\u001b[38;5;124m\"\u001b[39m)\n\u001b[0;32m     11\u001b[0m \u001b[38;5;28;01mreturn\u001b[39;00m \u001b[38;5;28;01mTrue\u001b[39;00m\n",
      "\u001b[1;31mNotImplementedError\u001b[0m: The legacy implementation is no longer supported"
     ]
    }
   ],
   "source": [
    "# ─────────── Dask config patch ───────────\n",
    "import dask\n",
    "# Turn on the new “expression” engine so spatialdata can import\n",
    "dask.config.set({\"dataframe.query-planning\": True})\n",
    "\n",
    "# Now import the rest:\n",
    "import squidpy as sq\n",
    "import scanpy as sc\n",
    "import pandas as pd\n",
    "import numpy as np\n",
    "import os, glob, re\n",
    "import matplotlib.pyplot as plt\n",
    "import seaborn as sns\n",
    "%matplotlib inline\n",
    "# ───────────────────────────────────────────\n"
   ]
  },
  {
   "cell_type": "markdown",
   "id": "bf2a3b8b",
   "metadata": {},
   "source": [
    "## 1 · Import spatial toolkits and detect slide folders  \n",
    "The first code block brings in *Squidpy* (spatial analysis) and *Scanpy* (AnnData\n",
    "backend), then lists every directory that matches `Sample*`.  \n",
    "We expect to see **14 folders**; if not, double‑check the path.\n"
   ]
  },
  {
   "cell_type": "code",
   "execution_count": 1,
   "metadata": {},
   "outputs": [
    {
     "name": "stderr",
     "output_type": "stream",
     "text": [
      "c:\\Users\\viraj\\anaconda3\\envs\\stat530\\lib\\site-packages\\anndata\\utils.py:434: FutureWarning: Importing read_csv from `anndata` is deprecated. Import anndata.io.read_csv instead.\n",
      "  warnings.warn(msg, FutureWarning)\n",
      "c:\\Users\\viraj\\anaconda3\\envs\\stat530\\lib\\site-packages\\anndata\\utils.py:434: FutureWarning: Importing read_excel from `anndata` is deprecated. Import anndata.io.read_excel instead.\n",
      "  warnings.warn(msg, FutureWarning)\n",
      "c:\\Users\\viraj\\anaconda3\\envs\\stat530\\lib\\site-packages\\anndata\\utils.py:434: FutureWarning: Importing read_hdf from `anndata` is deprecated. Import anndata.io.read_hdf instead.\n",
      "  warnings.warn(msg, FutureWarning)\n",
      "c:\\Users\\viraj\\anaconda3\\envs\\stat530\\lib\\site-packages\\anndata\\utils.py:434: FutureWarning: Importing read_loom from `anndata` is deprecated. Import anndata.io.read_loom instead.\n",
      "  warnings.warn(msg, FutureWarning)\n",
      "c:\\Users\\viraj\\anaconda3\\envs\\stat530\\lib\\site-packages\\anndata\\utils.py:434: FutureWarning: Importing read_mtx from `anndata` is deprecated. Import anndata.io.read_mtx instead.\n",
      "  warnings.warn(msg, FutureWarning)\n",
      "c:\\Users\\viraj\\anaconda3\\envs\\stat530\\lib\\site-packages\\anndata\\utils.py:434: FutureWarning: Importing read_text from `anndata` is deprecated. Import anndata.io.read_text instead.\n",
      "  warnings.warn(msg, FutureWarning)\n",
      "c:\\Users\\viraj\\anaconda3\\envs\\stat530\\lib\\site-packages\\anndata\\utils.py:434: FutureWarning: Importing read_umi_tools from `anndata` is deprecated. Import anndata.io.read_umi_tools instead.\n",
      "  warnings.warn(msg, FutureWarning)\n"
     ]
    },
    {
     "ename": "NotImplementedError",
     "evalue": "The legacy implementation is no longer supported",
     "output_type": "error",
     "traceback": [
      "\u001b[1;31m---------------------------------------------------------------------------\u001b[0m",
      "\u001b[1;31mNotImplementedError\u001b[0m                       Traceback (most recent call last)",
      "Cell \u001b[1;32mIn[1], line 2\u001b[0m\n\u001b[0;32m      1\u001b[0m \u001b[38;5;66;03m# Code 1 – Imports & folder scan\u001b[39;00m\n\u001b[1;32m----> 2\u001b[0m \u001b[38;5;28;01mimport\u001b[39;00m\u001b[38;5;250m \u001b[39m\u001b[38;5;21;01msquidpy\u001b[39;00m\u001b[38;5;250m \u001b[39m\u001b[38;5;28;01mas\u001b[39;00m\u001b[38;5;250m \u001b[39m\u001b[38;5;21;01msq\u001b[39;00m\u001b[38;5;241m,\u001b[39m\u001b[38;5;250m \u001b[39m\u001b[38;5;21;01mscanpy\u001b[39;00m\u001b[38;5;250m \u001b[39m\u001b[38;5;28;01mas\u001b[39;00m\u001b[38;5;250m \u001b[39m\u001b[38;5;21;01msc\u001b[39;00m\u001b[38;5;241m,\u001b[39m\u001b[38;5;250m \u001b[39m\u001b[38;5;21;01mpandas\u001b[39;00m\u001b[38;5;250m \u001b[39m\u001b[38;5;28;01mas\u001b[39;00m\u001b[38;5;250m \u001b[39m\u001b[38;5;21;01mpd\u001b[39;00m\u001b[38;5;241m,\u001b[39m\u001b[38;5;250m \u001b[39m\u001b[38;5;21;01mnumpy\u001b[39;00m\u001b[38;5;250m \u001b[39m\u001b[38;5;28;01mas\u001b[39;00m\u001b[38;5;250m \u001b[39m\u001b[38;5;21;01mnp\u001b[39;00m\u001b[38;5;241m,\u001b[39m\u001b[38;5;250m \u001b[39m\u001b[38;5;21;01mos\u001b[39;00m\u001b[38;5;241m,\u001b[39m\u001b[38;5;250m \u001b[39m\u001b[38;5;21;01mglob\u001b[39;00m\u001b[38;5;241m,\u001b[39m\u001b[38;5;250m \u001b[39m\u001b[38;5;21;01mre\u001b[39;00m\u001b[38;5;241m,\u001b[39m\u001b[38;5;250m \u001b[39m\u001b[38;5;21;01mmatplotlib\u001b[39;00m\u001b[38;5;21;01m.\u001b[39;00m\u001b[38;5;21;01mpyplot\u001b[39;00m\u001b[38;5;250m \u001b[39m\u001b[38;5;28;01mas\u001b[39;00m\u001b[38;5;250m \u001b[39m\u001b[38;5;21;01mplt\u001b[39;00m\u001b[38;5;241m,\u001b[39m\u001b[38;5;250m \u001b[39m\u001b[38;5;21;01mseaborn\u001b[39;00m\u001b[38;5;250m \u001b[39m\u001b[38;5;28;01mas\u001b[39;00m\u001b[38;5;250m \u001b[39m\u001b[38;5;21;01msns\u001b[39;00m\n\u001b[0;32m      3\u001b[0m get_ipython()\u001b[38;5;241m.\u001b[39mrun_line_magic(\u001b[38;5;124m'\u001b[39m\u001b[38;5;124mmatplotlib\u001b[39m\u001b[38;5;124m'\u001b[39m, \u001b[38;5;124m'\u001b[39m\u001b[38;5;124minline\u001b[39m\u001b[38;5;124m'\u001b[39m)\n\u001b[0;32m      5\u001b[0m ROOT \u001b[38;5;241m=\u001b[39m \u001b[38;5;124m\"\u001b[39m\u001b[38;5;124m../data\u001b[39m\u001b[38;5;124m\"\u001b[39m               \u001b[38;5;66;03m# change if your slides live elsewhere\u001b[39;00m\n",
      "File \u001b[1;32mc:\\Users\\viraj\\anaconda3\\envs\\stat530\\lib\\site-packages\\squidpy\\__init__.py:3\u001b[0m\n\u001b[0;32m      1\u001b[0m \u001b[38;5;28;01mfrom\u001b[39;00m\u001b[38;5;250m \u001b[39m\u001b[38;5;21;01mimportlib\u001b[39;00m\u001b[38;5;250m \u001b[39m\u001b[38;5;28;01mimport\u001b[39;00m metadata\n\u001b[1;32m----> 3\u001b[0m \u001b[38;5;28;01mfrom\u001b[39;00m\u001b[38;5;250m \u001b[39m\u001b[38;5;21;01msquidpy\u001b[39;00m\u001b[38;5;250m \u001b[39m\u001b[38;5;28;01mimport\u001b[39;00m datasets, gr, im, pl, read, tl\n\u001b[0;32m      5\u001b[0m \u001b[38;5;28;01mtry\u001b[39;00m:\n\u001b[0;32m      6\u001b[0m     md \u001b[38;5;241m=\u001b[39m metadata\u001b[38;5;241m.\u001b[39mmetadata(\u001b[38;5;18m__name__\u001b[39m)\n",
      "File \u001b[1;32mc:\\Users\\viraj\\anaconda3\\envs\\stat530\\lib\\site-packages\\squidpy\\gr\\__init__.py:2\u001b[0m\n\u001b[0;32m      1\u001b[0m \u001b[38;5;124;03m\"\"\"The graph module.\"\"\"\u001b[39;00m\n\u001b[1;32m----> 2\u001b[0m \u001b[38;5;28;01mfrom\u001b[39;00m\u001b[38;5;250m \u001b[39m\u001b[38;5;21;01msquidpy\u001b[39;00m\u001b[38;5;21;01m.\u001b[39;00m\u001b[38;5;21;01mgr\u001b[39;00m\u001b[38;5;21;01m.\u001b[39;00m\u001b[38;5;21;01m_build\u001b[39;00m\u001b[38;5;250m \u001b[39m\u001b[38;5;28;01mimport\u001b[39;00m spatial_neighbors\n\u001b[0;32m      3\u001b[0m \u001b[38;5;28;01mfrom\u001b[39;00m\u001b[38;5;250m \u001b[39m\u001b[38;5;21;01msquidpy\u001b[39;00m\u001b[38;5;21;01m.\u001b[39;00m\u001b[38;5;21;01mgr\u001b[39;00m\u001b[38;5;21;01m.\u001b[39;00m\u001b[38;5;21;01m_ligrec\u001b[39;00m\u001b[38;5;250m \u001b[39m\u001b[38;5;28;01mimport\u001b[39;00m ligrec\n\u001b[0;32m      4\u001b[0m \u001b[38;5;28;01mfrom\u001b[39;00m\u001b[38;5;250m \u001b[39m\u001b[38;5;21;01msquidpy\u001b[39;00m\u001b[38;5;21;01m.\u001b[39;00m\u001b[38;5;21;01mgr\u001b[39;00m\u001b[38;5;21;01m.\u001b[39;00m\u001b[38;5;21;01m_nhood\u001b[39;00m\u001b[38;5;250m \u001b[39m\u001b[38;5;28;01mimport\u001b[39;00m centrality_scores, interaction_matrix, nhood_enrichment\n",
      "File \u001b[1;32mc:\\Users\\viraj\\anaconda3\\envs\\stat530\\lib\\site-packages\\squidpy\\gr\\_build.py:24\u001b[0m\n\u001b[0;32m     22\u001b[0m \u001b[38;5;28;01mfrom\u001b[39;00m\u001b[38;5;250m \u001b[39m\u001b[38;5;21;01msklearn\u001b[39;00m\u001b[38;5;21;01m.\u001b[39;00m\u001b[38;5;21;01mmetrics\u001b[39;00m\u001b[38;5;21;01m.\u001b[39;00m\u001b[38;5;21;01mpairwise\u001b[39;00m\u001b[38;5;250m \u001b[39m\u001b[38;5;28;01mimport\u001b[39;00m cosine_similarity, euclidean_distances\n\u001b[0;32m     23\u001b[0m \u001b[38;5;28;01mfrom\u001b[39;00m\u001b[38;5;250m \u001b[39m\u001b[38;5;21;01msklearn\u001b[39;00m\u001b[38;5;21;01m.\u001b[39;00m\u001b[38;5;21;01mneighbors\u001b[39;00m\u001b[38;5;250m \u001b[39m\u001b[38;5;28;01mimport\u001b[39;00m NearestNeighbors\n\u001b[1;32m---> 24\u001b[0m \u001b[38;5;28;01mfrom\u001b[39;00m\u001b[38;5;250m \u001b[39m\u001b[38;5;21;01mspatialdata\u001b[39;00m\u001b[38;5;250m \u001b[39m\u001b[38;5;28;01mimport\u001b[39;00m SpatialData\n\u001b[0;32m     26\u001b[0m \u001b[38;5;28;01mfrom\u001b[39;00m\u001b[38;5;250m \u001b[39m\u001b[38;5;21;01msquidpy\u001b[39;00m\u001b[38;5;21;01m.\u001b[39;00m\u001b[38;5;21;01m_constants\u001b[39;00m\u001b[38;5;21;01m.\u001b[39;00m\u001b[38;5;21;01m_constants\u001b[39;00m\u001b[38;5;250m \u001b[39m\u001b[38;5;28;01mimport\u001b[39;00m CoordType, Transform\n\u001b[0;32m     27\u001b[0m \u001b[38;5;28;01mfrom\u001b[39;00m\u001b[38;5;250m \u001b[39m\u001b[38;5;21;01msquidpy\u001b[39;00m\u001b[38;5;21;01m.\u001b[39;00m\u001b[38;5;21;01m_constants\u001b[39;00m\u001b[38;5;21;01m.\u001b[39;00m\u001b[38;5;21;01m_pkg_constants\u001b[39;00m\u001b[38;5;250m \u001b[39m\u001b[38;5;28;01mimport\u001b[39;00m Key\n",
      "File \u001b[1;32mc:\\Users\\viraj\\anaconda3\\envs\\stat530\\lib\\site-packages\\spatialdata\\__init__.py:6\u001b[0m\n\u001b[0;32m      3\u001b[0m \u001b[38;5;28;01mimport\u001b[39;00m\u001b[38;5;250m \u001b[39m\u001b[38;5;21;01mdask\u001b[39;00m\n\u001b[0;32m      5\u001b[0m dask\u001b[38;5;241m.\u001b[39mconfig\u001b[38;5;241m.\u001b[39mset({\u001b[38;5;124m\"\u001b[39m\u001b[38;5;124mdataframe.query-planning\u001b[39m\u001b[38;5;124m\"\u001b[39m: \u001b[38;5;28;01mFalse\u001b[39;00m})\n\u001b[1;32m----> 6\u001b[0m \u001b[38;5;28;01mimport\u001b[39;00m\u001b[38;5;250m \u001b[39m\u001b[38;5;21;01mdask\u001b[39;00m\u001b[38;5;21;01m.\u001b[39;00m\u001b[38;5;21;01mdataframe\u001b[39;00m\u001b[38;5;250m \u001b[39m\u001b[38;5;28;01mas\u001b[39;00m\u001b[38;5;250m \u001b[39m\u001b[38;5;21;01mdd\u001b[39;00m\n\u001b[0;32m      8\u001b[0m \u001b[38;5;66;03m# Setting `dataframe.query-planning` to False is effective only if run before `dask.dataframe` is initialized. In\u001b[39;00m\n\u001b[0;32m      9\u001b[0m \u001b[38;5;66;03m# the case in which the user had initilized `dask.dataframe` before, we would have DASK_EXPER_ENABLED set to `True`.\u001b[39;00m\n\u001b[0;32m     10\u001b[0m \u001b[38;5;66;03m# Here we check that this does not happen.\u001b[39;00m\n\u001b[0;32m     11\u001b[0m \u001b[38;5;28;01mif\u001b[39;00m \u001b[38;5;28mhasattr\u001b[39m(dd, \u001b[38;5;124m\"\u001b[39m\u001b[38;5;124mDASK_EXPR_ENABLED\u001b[39m\u001b[38;5;124m\"\u001b[39m) \u001b[38;5;129;01mand\u001b[39;00m dd\u001b[38;5;241m.\u001b[39mDASK_EXPR_ENABLED:\n",
      "File \u001b[1;32mc:\\Users\\viraj\\anaconda3\\envs\\stat530\\lib\\site-packages\\dask\\dataframe\\__init__.py:14\u001b[0m\n\u001b[0;32m      9\u001b[0m         \u001b[38;5;28;01mraise\u001b[39;00m \u001b[38;5;167;01mNotImplementedError\u001b[39;00m(\u001b[38;5;124m\"\u001b[39m\u001b[38;5;124mThe legacy implementation is no longer supported\u001b[39m\u001b[38;5;124m\"\u001b[39m)\n\u001b[0;32m     11\u001b[0m     \u001b[38;5;28;01mreturn\u001b[39;00m \u001b[38;5;28;01mTrue\u001b[39;00m\n\u001b[1;32m---> 14\u001b[0m \u001b[43m_dask_expr_enabled\u001b[49m\u001b[43m(\u001b[49m\u001b[43m)\u001b[49m\n\u001b[0;32m     17\u001b[0m \u001b[38;5;28;01mimport\u001b[39;00m\u001b[38;5;250m \u001b[39m\u001b[38;5;21;01mdask\u001b[39;00m\u001b[38;5;21;01m.\u001b[39;00m\u001b[38;5;21;01marray\u001b[39;00m\u001b[38;5;21;01m.\u001b[39;00m\u001b[38;5;21;01m_array_expr\u001b[39;00m\u001b[38;5;21;01m.\u001b[39;00m\u001b[38;5;21;01m_backends\u001b[39;00m  \u001b[38;5;66;03m# Import this to register array dispatch # noqa: F401\u001b[39;00m\n\u001b[0;32m     19\u001b[0m \u001b[38;5;66;03m# Ensure that dtypes are registered\u001b[39;00m\n",
      "File \u001b[1;32mc:\\Users\\viraj\\anaconda3\\envs\\stat530\\lib\\site-packages\\dask\\dataframe\\__init__.py:9\u001b[0m, in \u001b[0;36m_dask_expr_enabled\u001b[1;34m()\u001b[0m\n\u001b[0;32m      7\u001b[0m use_dask_expr \u001b[38;5;241m=\u001b[39m dask\u001b[38;5;241m.\u001b[39mconfig\u001b[38;5;241m.\u001b[39mget(\u001b[38;5;124m\"\u001b[39m\u001b[38;5;124mdataframe.query-planning\u001b[39m\u001b[38;5;124m\"\u001b[39m)\n\u001b[0;32m      8\u001b[0m \u001b[38;5;28;01mif\u001b[39;00m use_dask_expr \u001b[38;5;129;01mis\u001b[39;00m \u001b[38;5;28;01mFalse\u001b[39;00m:\n\u001b[1;32m----> 9\u001b[0m     \u001b[38;5;28;01mraise\u001b[39;00m \u001b[38;5;167;01mNotImplementedError\u001b[39;00m(\u001b[38;5;124m\"\u001b[39m\u001b[38;5;124mThe legacy implementation is no longer supported\u001b[39m\u001b[38;5;124m\"\u001b[39m)\n\u001b[0;32m     11\u001b[0m \u001b[38;5;28;01mreturn\u001b[39;00m \u001b[38;5;28;01mTrue\u001b[39;00m\n",
      "\u001b[1;31mNotImplementedError\u001b[0m: The legacy implementation is no longer supported"
     ]
    }
   ],
   "source": [
    "# Code 1 – Imports & folder scan\n",
    "import squidpy as sq, scanpy as sc, pandas as pd, numpy as np, os, glob, re, matplotlib.pyplot as plt, seaborn as sns\n",
    "%matplotlib inline\n",
    "\n",
    "ROOT = \"../data\"               # change if your slides live elsewhere\n",
    "slide_dirs = sorted(glob.glob(os.path.join(ROOT, \"Sample*\")))\n",
    "\n",
    "print(f\"Found {len(slide_dirs)} candidate folders:\")\n",
    "for d in slide_dirs:\n",
    "    print(\"  •\", os.path.basename(d))\n",
    "assert len(slide_dirs) == 14, \"⚠️ Expected 14 slides – please verify the path!\"\n"
   ]
  },
  {
   "cell_type": "markdown",
   "id": "b63eac42",
   "metadata": {},
   "source": [
    "## 2 · Load each slide, join `tissue_positions_list.csv`, and remove off‑tissue spots  \n",
    "For every slide we:  \n",
    "1.  Load the filtered HDF5 counts.  \n",
    "2.  Merge pixel coordinates & `in_tissue` flag.  \n",
    "3.  Attach any available `subregion_map.csv`.  \n",
    "4.  Drop spots where `in_tissue == 0`.  \n",
    "We print the number of remaining tissue spots so we can spot obvious mistakes\n",
    "(very low counts would signal a mis‑matched barcode list).\n"
   ]
  },
  {
   "cell_type": "code",
   "execution_count": null,
   "id": "c07f7817",
   "metadata": {},
   "outputs": [],
   "source": [
    "# Code 2 – Iterate and build a list of single‑slide AnnData objects\n",
    "vis_list = []\n",
    "\n",
    "for sdir in slide_dirs:\n",
    "    sid   = os.path.basename(sdir)             # e.g. \"Sample1SOR\"\n",
    "    h5    = os.path.join(sdir, \"filtered_feature_bc_matrix.h5\")\n",
    "    tpos  = os.path.join(sdir, \"tissue_positions_list.csv\")\n",
    "    subr  = os.path.join(sdir, \"subregion_map.csv\")\n",
    "    \n",
    "    # 1) Load raw counts + feature table\n",
    "    ad    = sq.datasets.visium_10x_h5(h5)\n",
    "    ad.var_names_make_unique()\n",
    "    ad.obs_names_make_unique()\n",
    "    ad.obs[\"sample\"] = sid\n",
    "    \n",
    "    # 2) Merge pixel coordinates & tissue flag\n",
    "    tdf = pd.read_csv(tpos, header=None,\n",
    "                      names=[\"barcode\",\"in_tissue\",\"array_row\",\"array_col\",\"pxl_row\",\"pxl_col\"]).set_index(\"barcode\")\n",
    "    ad.obs = ad.obs.join(tdf.loc[ad.obs_names])\n",
    "    \n",
    "    # 3) Optional: subregion labels\n",
    "    if os.path.exists(subr):\n",
    "        srf = pd.read_csv(subr).set_index(\"barcode\")\n",
    "        ad.obs = ad.obs.join(srf, how=\"left\")\n",
    "    \n",
    "    # 4) Keep in‑tissue spots only\n",
    "    pre = ad.n_obs\n",
    "    ad  = ad[ad.obs[\"in_tissue\"] == 1].copy()\n",
    "    print(f\"✓ {sid}: kept {ad.n_obs}/{pre} on‑tissue spots\")\n",
    "    \n",
    "    vis_list.append(ad)\n"
   ]
  },
  {
   "cell_type": "markdown",
   "id": "d27fbd03",
   "metadata": {},
   "source": [
    "## 3 · Concatenate all slides to one `adata_vis` object  \n",
    "We glue the list together, attaching the `sample` label as a batch key.\n",
    "Then we plot the spot count per slide to catch imbalances (e.g., slides with\n",
    "almost no spots left).\n"
   ]
  },
  {
   "cell_type": "code",
   "execution_count": null,
   "id": "b276e16b",
   "metadata": {},
   "outputs": [],
   "source": [
    "# Code 3 – Merge & bar chart\n",
    "adata_vis = vis_list[0].concatenate(*vis_list[1:], join=\"outer\",\n",
    "                                    batch_key=\"sample\",\n",
    "                                    batch_categories=[ad.obs[\"sample\"][0] for ad in vis_list])\n",
    "\n",
    "print(\"Merged AnnData shape (spots × genes):\", adata_vis.shape)\n",
    "print(\"Unique samples:\", adata_vis.obs[\"sample\"].unique())\n",
    "\n",
    "# Bar plot – spots per sample\n",
    "spot_counts = adata_vis.obs[\"sample\"].value_counts().sort_index()\n",
    "spot_counts.plot(kind=\"barh\", figsize=(6,4), color=\"steelblue\")\n",
    "plt.title(\"Number of tissue spots per slide\")\n",
    "for i, v in enumerate(spot_counts.values):\n",
    "    plt.text(v+10, i, str(v), va=\"center\")\n",
    "plt.show()\n"
   ]
  },
  {
   "cell_type": "markdown",
   "id": "a4c00270",
   "metadata": {},
   "source": [
    "## 4 · Build spatial neighbour graphs (6 nearest)  \n",
    "Squidpy needs a neighbour graph to run Moran’s I, Hotspot, etc.  \n",
    "We use the Visium grid coordinates (`array_row/array_col`) so distance reflects\n",
    "physical neighbourhood on the slide.\n"
   ]
  },
  {
   "cell_type": "code",
   "execution_count": null,
   "id": "3710015a",
   "metadata": {},
   "outputs": [],
   "source": [
    "# Code 4 – Spatial neighbours\n",
    "sq.gr.spatial_neighbors(adata_vis, coord_type=\"grid\", n_neigh=6)\n",
    "print(\"✓ Spatial neighbour graph stored in `adata_vis.obsp['spatial_connectivities']`\")\n",
    "print(\"Non‑zero connections:\", adata_vis.obsp[\"spatial_connectivities\"].nnz)\n"
   ]
  },
  {
   "cell_type": "markdown",
   "id": "5fd7e7e7",
   "metadata": {},
   "source": [
    "## 5 · Normalise counts per spot and log‑transform  \n",
    "This quick scaling makes gene expression roughly comparable between spots.\n",
    "We will redo a more sophisticated normalisation if needed later, but log‑CP10K\n",
    "is fine for initial IEG hotspot detection.\n"
   ]
  },
  {
   "cell_type": "code",
   "execution_count": null,
   "id": "aadf5edb",
   "metadata": {},
   "outputs": [],
   "source": [
    "# Code 5 – Normalise\n",
    "sc.pp.normalize_total(adata_vis, target_sum=1e4)\n",
    "sc.pp.log1p(adata_vis)\n",
    "print(\"Log‑CP10K normalisation complete.\")\n"
   ]
  },
  {
   "cell_type": "markdown",
   "id": "4bca09fc",
   "metadata": {},
   "source": [
    "## 6 · Visual sanity check – plot Fos counts on a sample slide  \n",
    "We pick a hippocampal slide (e.g., `Sample1SOR`) and see if *Fos* has any\n",
    "visible hotspots.  A blank plot or uniformly zero spots would indicate a\n",
    "gene‑name mismatch or failed normalisation.\n"
   ]
  },
  {
   "cell_type": "code",
   "execution_count": null,
   "id": "47adb781",
   "metadata": {},
   "outputs": [],
   "source": [
    "# Code 6 – Quick spatial plot\n",
    "target = \"Sample1SOR\"\n",
    "test   = adata_vis[adata_vis.obs[\"sample\"] == target].copy()\n",
    "\n",
    "if \"Fos\" in test.var_names:\n",
    "    sq.pl.spatial_scatter(test, color=\"Fos\", cmap=\"inferno\", figsize=(4,4))\n",
    "    plt.title(f\"Fos counts – {target}\")\n",
    "else:\n",
    "    print(\"⚠️ Fos not found; check gene‑name casing or annotation file.\")\n"
   ]
  },
  {
   "cell_type": "markdown",
   "id": "8f5f6be3",
   "metadata": {},
   "source": [
    "## 7 · Save the concatenated, normalised Visium dataset  \n",
    "The file `visium_all.h5ad` will be read by Notebook 03 for IEG hotspot analysis.\n"
   ]
  },
  {
   "cell_type": "code",
   "execution_count": null,
   "id": "09bef538",
   "metadata": {},
   "outputs": [],
   "source": [
    "# Code 7 – Write file\n",
    "adata_vis.write_h5ad(\"visium_all.h5ad\", compression=\"gzip\")\n",
    "print(\"🎉  Saved to visium_all.h5ad  – ready for downstream IEG mapping\")\n"
   ]
  }
 ],
 "metadata": {
  "kernelspec": {
   "display_name": "stat530",
   "language": "python",
   "name": "python3"
  },
  "language_info": {
   "codemirror_mode": {
    "name": "ipython",
    "version": 3
   },
   "file_extension": ".py",
   "mimetype": "text/x-python",
   "name": "python",
   "nbconvert_exporter": "python",
   "pygments_lexer": "ipython3",
   "version": "3.10.16"
  }
 },
 "nbformat": 4,
 "nbformat_minor": 5
}
