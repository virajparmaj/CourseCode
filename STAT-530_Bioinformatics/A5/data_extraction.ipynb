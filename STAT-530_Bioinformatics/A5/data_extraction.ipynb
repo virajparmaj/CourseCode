{
 "cells": [
  {
   "cell_type": "code",
   "execution_count": 2,
   "metadata": {},
   "outputs": [
    {
     "name": "stdout",
     "output_type": "stream",
     "text": [
      "Extraction completed and original .tar.gz files have been removed.\n"
     ]
    }
   ],
   "source": [
    "import os\n",
    "import tarfile\n",
    "\n",
    "def extract_selected_files(folder_path):\n",
    "    \"\"\"\n",
    "    1. Scans the specified folder for .tar.gz files.\n",
    "    2. For each .tar.gz file:\n",
    "       - Creates a new folder with the same name minus the .tar.gz extension.\n",
    "       - Extracts only .csv and .h5 files from the 'spatial' folder inside the tar.\n",
    "       - Preserves the original file names but places them directly in the new folder (no subfolders).\n",
    "       - Deletes the .tar.gz file after successful extraction.\n",
    "    \"\"\"\n",
    "\n",
    "    # List all items in the folder\n",
    "    for filename in os.listdir(folder_path):\n",
    "        if filename.endswith(\".tar.gz\"):\n",
    "            # Build the full path to the .tar.gz file\n",
    "            tar_file_path = os.path.join(folder_path, filename)\n",
    "\n",
    "            # Create the new folder name by removing \".tar.gz\"\n",
    "            folder_name = filename.replace(\".tar.gz\", \"\")\n",
    "            new_folder_path = os.path.join(folder_path, folder_name)\n",
    "            \n",
    "            # Create the folder if it doesn't exist\n",
    "            os.makedirs(new_folder_path, exist_ok=True)\n",
    "\n",
    "            # Open the .tar.gz file\n",
    "            with tarfile.open(tar_file_path, \"r:gz\") as tar:\n",
    "                # Iterate through each member in the tar archive\n",
    "                for member in tar.getmembers():\n",
    "                    # We only want files in 'spatial/' that end with .csv or .h5\n",
    "                    if \"spatial/\" in member.name and (member.name.endswith(\".csv\") or member.name.endswith(\".h5\")):\n",
    "                        # Extract just the file object (no directories) to memory\n",
    "                        extracted_file = tar.extractfile(member)\n",
    "                        if extracted_file is not None:\n",
    "                            # Get the base filename (e.g., tissue_positions_list.csv or filtered_feature_bc_matrix.h5)\n",
    "                            base_filename = os.path.basename(member.name)\n",
    "                            \n",
    "                            # Create the full path for saving this file in our new folder\n",
    "                            output_file_path = os.path.join(new_folder_path, base_filename)\n",
    "                            \n",
    "                            # Write the extracted data to the new location\n",
    "                            with open(output_file_path, \"wb\") as f_out:\n",
    "                                f_out.write(extracted_file.read())\n",
    "            \n",
    "            # After successful extraction, delete the .tar.gz file\n",
    "            os.remove(tar_file_path)\n",
    "\n",
    "\n",
    "if __name__ == \"__main__\":\n",
    "    # Update this path to point to your A5 folder\n",
    "    a5_folder_path = r\"C:\\Users\\viraj\\BuildSpace\\Courses\\STAT-530 Bioinformatics\\A5\"\n",
    "\n",
    "    extract_selected_files(a5_folder_path)\n",
    "    print(\"Extraction completed and original .tar.gz files have been removed.\")\n"
   ]
  },
  {
   "cell_type": "code",
   "execution_count": 5,
   "metadata": {},
   "outputs": [
    {
     "name": "stdout",
     "output_type": "stream",
     "text": [
      "sample_folders <- c(\n",
      ")\n"
     ]
    }
   ],
   "source": [
    "import os\n",
    "\n",
    "def extract_sample_folders(folder_path):\n",
    "    \"\"\"\n",
    "    1. Lists all .tar.gz files in the given folder.\n",
    "    2. Extracts the code name from each file name by removing the '.tar.gz' extension,\n",
    "       splitting the remaining name by underscores, and taking the last element.\n",
    "    3. Constructs an R vector definition with the extracted code names.\n",
    "    \"\"\"\n",
    "    # List all files ending with .tar.gz in the directory\n",
    "    tar_files = [f for f in os.listdir(folder_path) if f.endswith(\".tar.gz\")]\n",
    "    \n",
    "    # Sort the file list for consistent ordering (optional)\n",
    "    tar_files.sort()\n",
    "    \n",
    "    sample_names = []\n",
    "    for tar_file in tar_files:\n",
    "        # Remove the .tar.gz extension\n",
    "        base_name = tar_file.replace(\".tar.gz\", \"\")\n",
    "        # Split the name by underscores and take the last part as the sample name\n",
    "        parts = base_name.split(\"_\")\n",
    "        sample_name = parts[-1]\n",
    "        sample_names.append(sample_name)\n",
    "    \n",
    "    # Build the R vector definition as a string\n",
    "    r_vector = \"sample_folders <- c(\\n\"\n",
    "    for i, name in enumerate(sample_names):\n",
    "        if i < len(sample_names) - 1:\n",
    "            r_vector += f'  \"{name}\",\\n'\n",
    "        else:\n",
    "            r_vector += f'  \"{name}\"\\n'\n",
    "    r_vector += \")\"\n",
    "    \n",
    "    return r_vector\n",
    "\n",
    "if __name__ == \"__main__\":\n",
    "    # Update this to the path where your .tar.gz files are located.\n",
    "    folder_path = r\"C:\\Users\\viraj\\BuildSpace\\Courses\\STAT-530 Bioinformatics\\A5\"\n",
    "    \n",
    "    # Extract the sample names and print the R vector code\n",
    "    r_code = extract_sample_folders(folder_path)\n",
    "    print(r_code)\n"
   ]
  },
  {
   "cell_type": "code",
   "execution_count": null,
   "metadata": {},
   "outputs": [],
   "source": []
  }
 ],
 "metadata": {
  "kernelspec": {
   "display_name": "Python 3",
   "language": "python",
   "name": "python3"
  },
  "language_info": {
   "codemirror_mode": {
    "name": "ipython",
    "version": 3
   },
   "file_extension": ".py",
   "mimetype": "text/x-python",
   "name": "python",
   "nbconvert_exporter": "python",
   "pygments_lexer": "ipython3",
   "version": "3.11.3"
  }
 },
 "nbformat": 4,
 "nbformat_minor": 2
}
