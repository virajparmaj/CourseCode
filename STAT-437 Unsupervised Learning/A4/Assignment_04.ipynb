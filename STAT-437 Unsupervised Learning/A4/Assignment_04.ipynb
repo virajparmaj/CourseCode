{
 "cells": [
  {
   "cell_type": "markdown",
   "metadata": {},
   "source": [
    "# Homework Assignment 4 - [30 points]\n",
    "\n",
    "\n",
    "In this analysis, we will perform two case studies.\n",
    "<hr>\n",
    "\n",
    "**Due: 2/21/2025**"
   ]
  },
  {
   "cell_type": "markdown",
   "metadata": {},
   "source": [
    "<hr>\n",
    "\n",
    "## <u>Case Study 1</u>: Wheat Seed Analysis Continued\n",
    "\n",
    "Suppose that you are biologist working for an agricultural company. Specifically, you would like to learn more about some of the biological properties of three types of wheat seeds: Kama wheat seeds, Canadian wheat seeds, and Rosa wheat seeds.\n",
    "\n",
    "The attached `seeds_modified_ver2.csv` contains seven numerical attributes for Kama seeds, Canadian seeds, and Rosa seeds. In this analysis we would like to answer the following research questions.\n",
    "### <u>Research Questions</u>:\n",
    "\n",
    "1. Does there exist a clustering structure in this dataset?\n",
    "2. If so, what can we say about the clusters in the dataset?\n",
    "3. Is this dataset an ideal dataset to use with k-means?\n",
    "4. How do the Kama, Canadian, and Rosa seed labels associate with the underyling clustering structure in this dataset?\n",
    "5. Is there any evidence of sub-types of seed classes in this dataset?\n",
    "6. Is there any evidence of sub-clusters in this dataset?"
   ]
  },
  {
   "cell_type": "markdown",
   "metadata": {},
   "source": [
    "### Imports"
   ]
  },
  {
   "cell_type": "code",
   "execution_count": null,
   "metadata": {},
   "outputs": [],
   "source": []
  },
  {
   "cell_type": "markdown",
   "metadata": {},
   "source": [
    "### 1. Data Reading and Preprocessing\n",
    "\n",
    "#### 1.1. Reading dataset\n",
    "\n",
    "Read the `seeds_modified_ver2.csv` dataset into a dataframe. You can assume that this dataset has no missing values."
   ]
  },
  {
   "cell_type": "code",
   "execution_count": null,
   "metadata": {},
   "outputs": [],
   "source": []
  },
  {
   "cell_type": "markdown",
   "metadata": {},
   "source": [
    "#### 1.2. Scale the dataset\n",
    "\n",
    "Create a copy of your dataframe from 1.1 that is comprised of just the numerical variables. Then create a new dataframe (or overwrite this dataframe) that has scaled the numerical variables."
   ]
  },
  {
   "cell_type": "code",
   "execution_count": null,
   "metadata": {},
   "outputs": [],
   "source": []
  },
  {
   "cell_type": "code",
   "execution_count": null,
   "metadata": {},
   "outputs": [],
   "source": []
  },
  {
   "cell_type": "code",
   "execution_count": null,
   "metadata": {
    "scrolled": true
   },
   "outputs": [],
   "source": []
  },
  {
   "cell_type": "markdown",
   "metadata": {},
   "source": [
    "### 2. Pre-Cluster Analysis\n",
    "\n",
    "#### 2.1.  t-SNE Plots\n",
    "\n",
    "Using 6 different perplexity values and at least two random states for each perplexity value, map your **scaled** seeds dataset onto a two-dimensional dataset using the t-SNE algorithm. Show your projected coordinates in a scatterplot for each combination of random state and perplexity value. **In addition, for each of these scatterplots, you should color-code the points by the corresponding label in the seed_class column.**"
   ]
  },
  {
   "cell_type": "code",
   "execution_count": null,
   "metadata": {
    "scrolled": false
   },
   "outputs": [],
   "source": []
  },
  {
   "cell_type": "markdown",
   "metadata": {},
   "source": [
    "#### 2.2.  Use your t-SNE plots to answer the following questions.\n",
    "\n",
    "* <u>2.2.1.</u> Do these plots suggest that the scaled dataset is clusterable? Explain.\n",
    "\n",
    "\n",
    "* <u>2.2.2.</u> How many clusters do these t-SNE plots suggest exist in the scaled dataset? Explain. (This answer is subjective. As long as your reasoning is accurate and explained, then you will get full credit).\n",
    "\n",
    "\n",
    "* <u>2.2.3.</u> What do these t-SNE plots suggest about the shapes of the clusters in the scaled dataset? Explain. (This answer is subjective. As long as your reasoning is accurate and explained, then you will get full credit).\n",
    "\n",
    "\n",
    "* <u>2.2.4.</u> What do these t-SNe plots suggest about whether the clusters in the scaled dataset are well-separated? Explain. (This answer is subjective. As long as your reasoning is accurate and explained, then you will get full credit).\n",
    "\n",
    "\n",
    "* <u>2.2.5.</u> Do these t-SNE plots suggest that the clusters in the scaled dataset roughly balanced in size? Explain. (This answer is subjective. As long as your reasoning is accurate and explained, then you will get full credit).\n",
    "\n",
    "\n",
    "**Hint: Make sure you consider the scaling of the x-axis and y-axis tick marks of the t-SNE plots to ensure your shape interpretations are accurate.** \n"
   ]
  },
  {
   "cell_type": "markdown",
   "metadata": {},
   "source": []
  },
  {
   "cell_type": "markdown",
   "metadata": {},
   "source": [
    "#### 2.3. Pick one t-SNE plot.\n",
    "\n",
    "Of the plots that you created above, pick a perplexity value and random state that best reflects what you suggested in your answers to the questions in 2.2 and show the corresponding t-SNE plot below.\n",
    "\n",
    "**Hint: Make sure your x-axis and y-axis in the t-SNE plots are visualized at the same scale in order to ensure that your shape interpretations are accurate.** \n",
    "\n",
    "Ex:\n",
    "\n",
    "```plt.xlim([-12,12])```\n",
    "\n",
    "```plt.ylim([-12,12])```\n"
   ]
  },
  {
   "cell_type": "code",
   "execution_count": null,
   "metadata": {},
   "outputs": [],
   "source": []
  },
  {
   "cell_type": "markdown",
   "metadata": {},
   "source": [
    "#### 2.4. [1 pt] Underlying Clustering Structure and Seed Class Association\n",
    "\n",
    "How strong is the association between the three seed classes and the clusters suggested by the t-SNE algorithm? Explain."
   ]
  },
  {
   "cell_type": "markdown",
   "metadata": {},
   "source": []
  },
  {
   "cell_type": "markdown",
   "metadata": {},
   "source": [
    "#### 2.5. Sub-types of Seed Classes\n",
    "\n",
    "Do you think these plots suggest that there exist different sub-types of **seed classes** in this dataset? Explain. (This answer is subjective. As long as your reasoning is accurate and explained, then you will get full credit).\n"
   ]
  },
  {
   "cell_type": "markdown",
   "metadata": {},
   "source": []
  },
  {
   "cell_type": "markdown",
   "metadata": {},
   "source": [
    "#### 2.6. Sub-Clusters\n",
    "\n",
    "Do you think these plots suggest that there may exist a set of \"main clusters\" in this dataset, and then that some of these \"main clusters\" may be comprised of smaller **\"subclusters\"**? Explain. (This answer is subjective. As long as your reasoning is accurate and explained, then you will get full credit).\n"
   ]
  },
  {
   "cell_type": "markdown",
   "metadata": {},
   "source": []
  },
  {
   "cell_type": "markdown",
   "metadata": {},
   "source": [
    "### 3. k-Means Cluster Analysis - Using Elbow Plot Method for Parameter Tuning\n",
    "\n",
    "\n",
    "#### 3.1. k-means Elbow Plot\n",
    "Create a k-means elbow plot for your seeds dataset."
   ]
  },
  {
   "cell_type": "code",
   "execution_count": null,
   "metadata": {},
   "outputs": [],
   "source": []
  },
  {
   "cell_type": "markdown",
   "metadata": {},
   "source": [
    "#### 3.2. k-means Clustering\n",
    "\n",
    "Use the number of clusters suggestd by the k-means elbow plot to cluster the dataset with k-means use a random seed of 437."
   ]
  },
  {
   "cell_type": "code",
   "execution_count": null,
   "metadata": {},
   "outputs": [],
   "source": []
  },
  {
   "cell_type": "markdown",
   "metadata": {},
   "source": [
    "#### 3.3. t-SNE and k-means\n",
    "\n",
    "Color code the points in your selected t-SNE plot with the k-means cluster labels from 3.2. "
   ]
  },
  {
   "cell_type": "code",
   "execution_count": null,
   "metadata": {},
   "outputs": [],
   "source": []
  },
  {
   "cell_type": "markdown",
   "metadata": {},
   "source": [
    "#### 3.4. t-SNE vs. k-means\n",
    "\n",
    "To what extent does the clustering suggested by k-means (using the elbow-plot method for k selection) agree with the clustering structure suggested by the t-SNE plot?"
   ]
  },
  {
   "cell_type": "markdown",
   "metadata": {},
   "source": []
  },
  {
   "cell_type": "markdown",
   "metadata": {},
   "source": [
    "### 4. k-Means Cluster Analysis - Using t-SNE plots for Parameter Tuning"
   ]
  },
  {
   "cell_type": "markdown",
   "metadata": {},
   "source": [
    "#### 4.1. k-means Clustering\n",
    "\n",
    "Use the total number of \"subclusters\" you detected in your t-SNE plots to select the number of clusters to ask k-means. Run k-means again with this new $k$ value. Use a random state of 437."
   ]
  },
  {
   "cell_type": "markdown",
   "metadata": {},
   "source": []
  },
  {
   "cell_type": "code",
   "execution_count": null,
   "metadata": {},
   "outputs": [],
   "source": []
  },
  {
   "cell_type": "markdown",
   "metadata": {},
   "source": [
    "#### 4.2.. t-SNE and k-means\n",
    "\n",
    "Color code the points in your selected t-SNE plot with the k-means cluster labels from above."
   ]
  },
  {
   "cell_type": "code",
   "execution_count": null,
   "metadata": {},
   "outputs": [],
   "source": []
  },
  {
   "cell_type": "markdown",
   "metadata": {},
   "source": [
    "#### 4.3. t-SNE vs. k-means\n",
    "\n",
    "To what extent does the clustering suggested by k-means (using the t-SNE plot for k selection) agree with the clustering structure suggested by the t-SNE plot?"
   ]
  },
  {
   "cell_type": "markdown",
   "metadata": {},
   "source": []
  },
  {
   "cell_type": "markdown",
   "metadata": {},
   "source": [
    "#### 4.4. More Analysis\n",
    "\n",
    "Plot each pair of attributes in your scaled dataset and color code the points by your k-mean cluster labels from 4.1."
   ]
  },
  {
   "cell_type": "code",
   "execution_count": null,
   "metadata": {},
   "outputs": [],
   "source": []
  },
  {
   "cell_type": "markdown",
   "metadata": {},
   "source": [
    "### 5. k-Medoids Cluster Analysis\n",
    "\n",
    "\n",
    "#### 5.1. k-medoids Clustering\n",
    "\n",
    "Next, cluster your scaled seeds dataset into the number of clusters that you selected in 4.1 (ie. the number of subclusters your t-SNE plot suggested) using k-Medoids. Use a random state of 437.\n"
   ]
  },
  {
   "cell_type": "code",
   "execution_count": null,
   "metadata": {},
   "outputs": [],
   "source": []
  },
  {
   "cell_type": "markdown",
   "metadata": {},
   "source": [
    "#### 5.2 t-SNE and k-Medoids\n",
    "\n",
    "Color code the points in your selected t-SNE plot with the k-means cluster labels from 5.1."
   ]
  },
  {
   "cell_type": "code",
   "execution_count": null,
   "metadata": {},
   "outputs": [],
   "source": []
  },
  {
   "cell_type": "markdown",
   "metadata": {},
   "source": [
    "#### 5.3. t-SNE vs. k-medoids\n",
    "\n",
    "To what extent does the clustering suggested by k-medoids (using the t-SNE plot for k selection) agree with the clustering structure suggested by the t-SNE plot?"
   ]
  },
  {
   "cell_type": "markdown",
   "metadata": {},
   "source": []
  },
  {
   "cell_type": "markdown",
   "metadata": {},
   "source": [
    "#### 5.4. More Analysis\n",
    "\n",
    "Plot each pair of attributes in your scaled dataset and color code the points by your k-mean cluster labels from 5.1."
   ]
  },
  {
   "cell_type": "code",
   "execution_count": null,
   "metadata": {},
   "outputs": [],
   "source": []
  },
  {
   "cell_type": "markdown",
   "metadata": {},
   "source": [
    "## <u>Case Study 2</u>: Using t-SNE Plots for Different Types of Numerical Variables\n",
    "\n",
    "Recall that the t-SNE algorithm that we have discussed so far is only meant to be used for a purely numerical dataset. Even transforming categorical variables into 0/1 indicator variables may cause your resulting t-SNE plots to lose their interpretative value.\n",
    "\n",
    "In certain settings, we also need to be careful about using t-SNE plots when using discrete variables as well.\n",
    "\n",
    "In this case study below we will use the t-SNE algorithm on the following 8 datasets:\n",
    "* dataset1.csv\n",
    "* dataset1_integer_x.csv\n",
    "* dataset2.csv\n",
    "* dataset2_integer_x.csv\n",
    "* dataset3.csv\n",
    "* dataset3_integer_x.csv\n",
    "* dataset4.csv\n",
    "* dataset4_integer_x.csv\n",
    "\n",
    "\n",
    "Each of the **'dataset#.csv'** files contain artificially generated 2 dimensional values that are all continuous. Each of the **'dataset#_integer_x.csv'** files include the same dataset as in the corresponding **'dataset#.csv'**, but the first variable's continuous values have been discretized into integer values.\n",
    "\n",
    "We will examine each of these datasets with our t-SNE algorithm to build an intution for:\n",
    "* when the t-SNE algorithm may or may not be reliable in effectively describing the underlying clustering structure of different types of numerical datasets and\n",
    "* when you should be skeptical about the interpretative value of your t-SNE plots for a high dimensional dataset."
   ]
  },
  {
   "cell_type": "markdown",
   "metadata": {},
   "source": [
    "## 1. Dataset 1"
   ]
  },
  {
   "cell_type": "markdown",
   "metadata": {},
   "source": [
    "\n",
    "\n",
    "### 1.1. Continuous Dataset\n",
    "\n",
    "#### 1.1.1 t-SNE Plots\n",
    "\n",
    "First, read the dataset1.csv file into a dataframe. Then use 6 different perplexity values and at least two random states for each perplexity value two map this 2-d dataframe onto another two-dimensional dataset using the t-SNE algorithm. Show your projected coordinates in a scatterplot for each combination of random state and perplexity value."
   ]
  },
  {
   "cell_type": "code",
   "execution_count": null,
   "metadata": {},
   "outputs": [],
   "source": []
  },
  {
   "cell_type": "code",
   "execution_count": null,
   "metadata": {
    "scrolled": false
   },
   "outputs": [],
   "source": []
  },
  {
   "cell_type": "markdown",
   "metadata": {},
   "source": [
    "#### 1.1.2. Interpretation\n",
    "\n",
    "Use your t-SNE plots above to answer the following questions.\n",
    "\n",
    "1. Is this dataset clusterable?\n",
    "2. If so, how many clusters does the dataset have?\n",
    "3. If so, are the clusters spherical?\n",
    "4. If so, are the clusters well-separated?\n",
    "5. If you have identified some \"main clusters\" from these plots, is there strong evidence that some of these \"main clusters\" may be comprised of some \"subclusters\"?"
   ]
  },
  {
   "cell_type": "markdown",
   "metadata": {},
   "source": []
  },
  {
   "cell_type": "markdown",
   "metadata": {},
   "source": [
    "#### 1.1.3. Corroborating\n",
    "\n",
    "The purpose of this case study is to build intuition about how/why the t-SNE algorithm works the way that it does under different scenarios. Plot your original dataset1 data and confirm (or deny) which of your answers that you gave above were true or false. If an interpretation that you made from the t-SNE plot was wrong, explain why the t-SNE algorithm may not be as effective in interpreting the underlying clustering structure for this particular dataset."
   ]
  },
  {
   "cell_type": "code",
   "execution_count": null,
   "metadata": {},
   "outputs": [],
   "source": []
  },
  {
   "cell_type": "markdown",
   "metadata": {},
   "source": []
  },
  {
   "cell_type": "markdown",
   "metadata": {},
   "source": [
    "\n",
    "\n",
    "### 1.2. Partially Discretized Dataset\n",
    "\n",
    "#### 1.2.1 t-SNE Plots\n",
    "\n",
    "First, read the dataset1_integer_x.csv file into a dataframe. Then use 6 different perplexity values and at least two random states for each perplexity value two map this 2-d dataframe onto another two-dimensional dataset using the t-SNE algorithm. Show your projected coordinates in a scatterplot for each combination of random state and perplexity value."
   ]
  },
  {
   "cell_type": "code",
   "execution_count": null,
   "metadata": {},
   "outputs": [],
   "source": []
  },
  {
   "cell_type": "code",
   "execution_count": null,
   "metadata": {
    "scrolled": false
   },
   "outputs": [],
   "source": []
  },
  {
   "cell_type": "markdown",
   "metadata": {},
   "source": [
    "#### 1.2.2. Interpretation\n",
    "\n",
    "Use your t-SNE plots above to answer the following questions.\n",
    "\n",
    "1. Is this dataset clusterable?\n",
    "2. If so, how many clusters does the dataset have?\n",
    "3. If so, are the clusters spherical?\n",
    "4. If so, are the clusters well-separated?\n",
    "5. If you have identified some \"main clusters\" from these plots, is there strong evidence that some of these \"main clusters\" may be comprised of some \"subclusters\"?"
   ]
  },
  {
   "cell_type": "markdown",
   "metadata": {},
   "source": []
  },
  {
   "cell_type": "markdown",
   "metadata": {},
   "source": [
    "#### 1.2.3. Different t-SNE Plots\n",
    "\n",
    "Plot your original dataset1_integer_x.csv data. Were you interpretations of the t-SNE plots for the continuous dataset from 1.1 different from your interpretation of the t-SNE plots for the partially discretized dataset from 1.2?\n",
    "* If so, explain why you may have had different interpretation and/or seen different t-SNE plots.\n",
    "* If not, explain why they may have been mostly the same."
   ]
  },
  {
   "cell_type": "code",
   "execution_count": null,
   "metadata": {},
   "outputs": [],
   "source": []
  },
  {
   "cell_type": "markdown",
   "metadata": {},
   "source": []
  },
  {
   "cell_type": "markdown",
   "metadata": {},
   "source": [
    "## 2. Dataset 2"
   ]
  },
  {
   "cell_type": "markdown",
   "metadata": {},
   "source": [
    "\n",
    "\n",
    "### 2.1. Continuous Dataset\n",
    "\n",
    "#### 2.1.1 t-SNE Plots\n",
    "\n",
    "First, read the dataset2.csv file into a dataframe. Then use 6 different perplexity values and at least two random states for each perplexity value two map this 2-d dataframe onto another two-dimensional dataset using the t-SNE algorithm. Show your projected coordinates in a scatterplot for each combination of random state and perplexity value."
   ]
  },
  {
   "cell_type": "code",
   "execution_count": null,
   "metadata": {},
   "outputs": [],
   "source": []
  },
  {
   "cell_type": "code",
   "execution_count": null,
   "metadata": {
    "scrolled": false
   },
   "outputs": [],
   "source": []
  },
  {
   "cell_type": "markdown",
   "metadata": {},
   "source": [
    "#### 2.1.2. Interpretation\n",
    "\n",
    "Use your t-SNE plots above to answer the following questions.\n",
    "\n",
    "1. Is this dataset clusterable?\n",
    "2. If so, how many clusters does the dataset have?\n",
    "3. If so, are the clusters spherical?\n",
    "4. If so, are the clusters well-separated?\n",
    "5. If you have identified some \"main clusters\" from these plots, is there strong evidence that some of these \"main clusters\" may be comprised of some \"subclusters\"?"
   ]
  },
  {
   "cell_type": "markdown",
   "metadata": {},
   "source": []
  },
  {
   "cell_type": "markdown",
   "metadata": {},
   "source": [
    "#### 2.1.3. Corroborating\n",
    "\n",
    "The purpose of this case study is to build intuition about how/why the t-SNE algorithm works the way that it does under different scenarios. Plot your original dataset2 data and confirm (or deny) which of your answers that you gave above were true or false. If an interpretation that you made from the t-SNE plot was wrong, explain why the t-SNE algorithm may not be as effective in interpreting the underlying clustering structure for this particular dataset."
   ]
  },
  {
   "cell_type": "code",
   "execution_count": null,
   "metadata": {},
   "outputs": [],
   "source": []
  },
  {
   "cell_type": "markdown",
   "metadata": {},
   "source": []
  },
  {
   "cell_type": "markdown",
   "metadata": {},
   "source": [
    "\n",
    "\n",
    "### 2.2. Partially Discretized Dataset\n",
    "\n",
    "#### 2.2.1 t-SNE Plots\n",
    "\n",
    "First, read the dataset2_integer_x.csv file into a dataframe. Then use 6 different perplexity values and at least two random states for each perplexity value two map this 2-d dataframe onto another two-dimensional dataset using the t-SNE algorithm. Show your projected coordinates in a scatterplot for each combination of random state and perplexity value."
   ]
  },
  {
   "cell_type": "code",
   "execution_count": null,
   "metadata": {},
   "outputs": [],
   "source": []
  },
  {
   "cell_type": "code",
   "execution_count": null,
   "metadata": {
    "scrolled": false
   },
   "outputs": [],
   "source": []
  },
  {
   "cell_type": "markdown",
   "metadata": {},
   "source": [
    "#### 2.2.2. Interpretation\n",
    "\n",
    "Use your t-SNE plots above to answer the following questions.\n",
    "\n",
    "1. Is this dataset clusterable?\n",
    "2. If so, how many clusters does the dataset have?\n",
    "3. If so, are the clusters spherical?\n",
    "4. If so, are the clusters well-separated?\n",
    "5. If you have identified some \"main clusters\" from these plots, is there strong evidence that some of these \"main clusters\" may be comprised of some \"subclusters\"?"
   ]
  },
  {
   "cell_type": "markdown",
   "metadata": {},
   "source": []
  },
  {
   "cell_type": "markdown",
   "metadata": {},
   "source": [
    "#### 2.2.3. Different t-SNE Plots\n",
    "\n",
    "Plot your original dataset2_integer_x.csv data. Were your interpretations of the t-SNE plots for the continuous dataset from 2.1 different from your interpretation of the t-SNE plots for the partially discretized dataset from 2.2? \n",
    "* If so, explain why you may have had different interpretation and/or seen different t-SNE plots.\n",
    "* If not, explain why they may have been mostly the same."
   ]
  },
  {
   "cell_type": "code",
   "execution_count": null,
   "metadata": {},
   "outputs": [],
   "source": []
  },
  {
   "cell_type": "markdown",
   "metadata": {},
   "source": []
  },
  {
   "cell_type": "markdown",
   "metadata": {},
   "source": [
    "## 3. Dataset 3"
   ]
  },
  {
   "cell_type": "markdown",
   "metadata": {},
   "source": [
    "\n",
    "\n",
    "### 3.1. Continuous Dataset\n",
    "\n",
    "#### 3.1.1 t-SNE Plots\n",
    "\n",
    "First, read the dataset3.csv file into a dataframe. Then use 6 different perplexity values and at least two random states for each perplexity value two map this 2-d dataframe onto another two-dimensional dataset using the t-SNE algorithm. Show your projected coordinates in a scatterplot for each combination of random state and perplexity value."
   ]
  },
  {
   "cell_type": "code",
   "execution_count": null,
   "metadata": {},
   "outputs": [],
   "source": []
  },
  {
   "cell_type": "code",
   "execution_count": null,
   "metadata": {
    "scrolled": false
   },
   "outputs": [],
   "source": []
  },
  {
   "cell_type": "markdown",
   "metadata": {},
   "source": [
    "#### 3.1.2. Interpretation\n",
    "\n",
    "Use your t-SNE plots above to answer the following questions.\n",
    "\n",
    "1. Is this dataset clusterable?\n",
    "2. If so, how many clusters does the dataset have?\n",
    "3. If so, are the clusters spherical?\n",
    "4. If so, are the clusters well-separated?\n",
    "5. If you have identified some \"main clusters\" from these plots, is there strong evidence that some of these \"main clusters\" may be comprised of some \"subclusters\"?"
   ]
  },
  {
   "cell_type": "markdown",
   "metadata": {},
   "source": []
  },
  {
   "cell_type": "markdown",
   "metadata": {},
   "source": [
    "#### 3.1.3. Corroborating\n",
    "\n",
    "The purpose of this case study is to build intuition about how/why the t-SNE algorithm works the way that it does under different scenarios. Plot your original dataset3 data and confirm (or deny) which of your answers that you gave above were true or false. If an interpretation that you made from the t-SNE plot was wrong, explain why the t-SNE algorithm may not be as effective in interpreting the underlying clustering structure for this particular dataset."
   ]
  },
  {
   "cell_type": "code",
   "execution_count": null,
   "metadata": {},
   "outputs": [],
   "source": []
  },
  {
   "cell_type": "markdown",
   "metadata": {},
   "source": []
  },
  {
   "cell_type": "markdown",
   "metadata": {},
   "source": [
    "\n",
    "\n",
    "### 3.2. Partially Discretized Dataset\n",
    "\n",
    "#### 3.2.1 t-SNE Plots\n",
    "\n",
    "First, read the dataset3_integer_x.csv file into a dataframe. Then use 6 different perplexity values and at least two random states for each perplexity value two map this 2-d dataframe onto another two-dimensional dataset using the t-SNE algorithm. Show your projected coordinates in a scatterplot for each combination of random state and perplexity value.\n",
    "\n",
    "#-------------------"
   ]
  },
  {
   "cell_type": "code",
   "execution_count": null,
   "metadata": {},
   "outputs": [],
   "source": []
  },
  {
   "cell_type": "code",
   "execution_count": null,
   "metadata": {
    "scrolled": false
   },
   "outputs": [],
   "source": []
  },
  {
   "cell_type": "markdown",
   "metadata": {},
   "source": [
    "#### 3.2.2. Interpretation\n",
    "\n",
    "Use your t-SNE plots above to answer the following questions.\n",
    "\n",
    "1. Is this dataset clusterable?\n",
    "2. If so, how many clusters does the dataset have?\n",
    "3. If so, are the clusters spherical?\n",
    "4. If so, are the clusters well-separated?\n",
    "5. If you have identified some \"main clusters\" from these plots, is there strong evidence that some of these \"main clusters\" may be comprised of some \"subclusters\"?"
   ]
  },
  {
   "cell_type": "markdown",
   "metadata": {},
   "source": []
  },
  {
   "cell_type": "markdown",
   "metadata": {},
   "source": [
    "#### 3.2.3. Different t-SNE Plots\n",
    "\n",
    "Plot your original dataset3_integer_x.csv data. Were your interpretations of the t-SNE plots for the continuous dataset from 3.1 different from your interpretation of the t-SNE plots for the partially discretized dataset from 3.2? \n",
    "* If so, explain why you may have had different interpretation and/or seen different t-SNE plots.\n",
    "* If not, explain why they may have been mostly the same."
   ]
  },
  {
   "cell_type": "code",
   "execution_count": null,
   "metadata": {},
   "outputs": [],
   "source": []
  },
  {
   "cell_type": "markdown",
   "metadata": {},
   "source": []
  },
  {
   "cell_type": "markdown",
   "metadata": {},
   "source": [
    "## 4. Dataset 4"
   ]
  },
  {
   "cell_type": "markdown",
   "metadata": {},
   "source": [
    "\n",
    "\n",
    "### 4.1. Continuous Dataset\n",
    "\n",
    "#### 4.1.1 t-SNE Plots\n",
    "\n",
    "First, read the dataset4.csv file into a dataframe. Then use 6 different perplexity values and at least two random states for each perplexity value two map this 2-d dataframe onto another two-dimensional dataset using the t-SNE algorithm. Show your projected coordinates in a scatterplot for each combination of random state and perplexity value."
   ]
  },
  {
   "cell_type": "code",
   "execution_count": null,
   "metadata": {},
   "outputs": [],
   "source": []
  },
  {
   "cell_type": "code",
   "execution_count": null,
   "metadata": {
    "scrolled": false
   },
   "outputs": [],
   "source": []
  },
  {
   "cell_type": "markdown",
   "metadata": {},
   "source": [
    "#### 4.1.2. Interpretation\n",
    "\n",
    "Use your t-SNE plots above to answer the following questions.\n",
    "\n",
    "1. Is this dataset clusterable?\n",
    "2. If so, how many clusters does the dataset have?\n",
    "3. If so, are the clusters spherical?\n",
    "4. If so, are the clusters well-separated?\n",
    "5. If you have identified some \"main clusters\" from these plots, is there strong evidence that some of these \"main clusters\" may be comprised of some \"subclusters\"?"
   ]
  },
  {
   "cell_type": "markdown",
   "metadata": {},
   "source": []
  },
  {
   "cell_type": "markdown",
   "metadata": {},
   "source": [
    "#### 4.1.3. Corroborating\n",
    "\n",
    "The purpose of this case study is to build intuition about how/why the t-SNE algorithm works the way that it does under different scenarios. Plot your original dataset4 data and confirm (or deny) which of your answers that you gave above were true or false. If an interpretation that you made from the t-SNE plot was wrong, explain why the t-SNE algorithm may not be as effective in interpreting the underlying clustering structure for this particular dataset."
   ]
  },
  {
   "cell_type": "code",
   "execution_count": null,
   "metadata": {},
   "outputs": [],
   "source": []
  },
  {
   "cell_type": "markdown",
   "metadata": {},
   "source": []
  },
  {
   "cell_type": "markdown",
   "metadata": {},
   "source": [
    "\n",
    "\n",
    "### 4.2. Partially Discretized Dataset\n",
    "\n",
    "#### 4.2.1 t-SNE Plots\n",
    "\n",
    "First, read the dataset4_integer_x.csv file into a dataframe. Then use 6 different perplexity values and at least two random states for each perplexity value two map this 2-d dataframe onto another two-dimensional dataset using the t-SNE algorithm. Show your projected coordinates in a scatterplot for each combination of random state and perplexity value."
   ]
  },
  {
   "cell_type": "code",
   "execution_count": null,
   "metadata": {},
   "outputs": [],
   "source": []
  },
  {
   "cell_type": "code",
   "execution_count": null,
   "metadata": {
    "scrolled": false
   },
   "outputs": [],
   "source": []
  },
  {
   "cell_type": "markdown",
   "metadata": {},
   "source": [
    "#### 4.2.2. Interpretation\n",
    "\n",
    "Use your t-SNE plots above to answer the following questions.\n",
    "\n",
    "1. Is this dataset clusterable?\n",
    "2. If so, how many clusters does the dataset have?\n",
    "3. If so, are the clusters spherical?\n",
    "4. If so, are the clusters well-separated?\n",
    "5. If you have identified some \"main clusters\" from these plots, is there strong evidence that some of these \"main clusters\" may be comprised of some \"subclusters\"?\n",
    "\n",
    "#-------------------"
   ]
  },
  {
   "cell_type": "markdown",
   "metadata": {},
   "source": []
  },
  {
   "cell_type": "markdown",
   "metadata": {},
   "source": [
    "#### 4.2.3. Different t-SNE Plots\n",
    "\n",
    "Plot your original dataset4_integer_x.csv data. Were you interpretations of the t-SNE plots for the continuous datast from 4.1 different from your interpretation of the t-SNE plots for the partially discretized dataset from 4.2? If so, explain why you may have had different interpretation and/or seen different t-SNE plots."
   ]
  },
  {
   "cell_type": "code",
   "execution_count": null,
   "metadata": {},
   "outputs": [],
   "source": []
  },
  {
   "cell_type": "markdown",
   "metadata": {},
   "source": []
  },
  {
   "cell_type": "code",
   "execution_count": null,
   "metadata": {},
   "outputs": [],
   "source": []
  }
 ],
 "metadata": {
  "kernelspec": {
   "display_name": "Python 3 (ipykernel)",
   "language": "python",
   "name": "python3"
  },
  "language_info": {
   "codemirror_mode": {
    "name": "ipython",
    "version": 3
   },
   "file_extension": ".py",
   "mimetype": "text/x-python",
   "name": "python",
   "nbconvert_exporter": "python",
   "pygments_lexer": "ipython3",
   "version": "3.9.12"
  }
 },
 "nbformat": 4,
 "nbformat_minor": 4
}
