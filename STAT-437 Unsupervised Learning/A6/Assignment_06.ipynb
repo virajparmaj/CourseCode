{
 "cells": [
  {
   "cell_type": "markdown",
   "metadata": {},
   "source": [
    "# Assignment 6 - [30 points]\n",
    "\n",
    "##  Seattle Airbnb Listing Analysis\n",
    "\n",
    "Suppose that you work as a data scientist at Airbnb. You'd like to learn more about the main different types of Airbnb listings in the Seattle area and then use this information to advertise these different types of listings to interested customers. \n",
    "\n",
    "The following dataset is a sample of available Airbnb listings in Seattle, WA. These listings were collected in January 2016, and filtered to just contain listings from some of the most popular Seattle neighborhoods (for Airbnb listings) and just contain listings that are either in a house or apartment property. Rows with missing values have already been dropped from the dataset.\n",
    "\n",
    "This dataset contains the following variables.\n",
    "\n",
    "**Listing Information**\n",
    "The dataset contains the following information about the Airbnb *listing*:\n",
    "* <u>price</u>: price of the listing (per night)(in US dollars)\n",
    "* <u>review_scores_rating</u>: the average rating of the listing [0,100] (100 is the best)\n",
    "* <u>number_of_reviews</u>: the number of reviews for the listing\n",
    "* <u>security_deposit</u>: the security deposit required for the listing (in US dollars)\n",
    "* <u>cleaning_fee</u>: the cleaning fee required for the listing (in US dollars)\n",
    "* <u>neighborhood</u>: the neighborhood of Seattle the listing is located in\n",
    "* <u>property_type</u>: is the listing in a 'House' or 'Apartment'\n",
    "* <u>room_type</u>: is the listing a 'Entire home/apt', 'Private room', or 'Shared room'\n",
    "* <u>accommodates</u>: how many guests will the listing accommodate\n",
    "* <u>bathrooms</u>:how many bathrooms does the listing have\n",
    "* <u>beds</u>: how many beds does the listing have\n",
    "\n",
    "**Host Information**\n",
    "The dataset also contains the following information about the *host* of the given Airbnb listing:\n",
    "* <u>host_is_superhost</u>: is the host a \"superhost\": t=True, f=False\n",
    "* <u>host_has_profile_pic</u>: does the host have a profile pic in their bio: t=True, f=False\n",
    "* <u>host_response_time</u>: how fast will the host respond to requests (on average)\n",
    "* <u>host_acceptance_rate</u>: what percent of booking requests will the host accept\n",
    "\n",
    "### <u>Case Study 1</u>: Reduced Dataset - *Just Categorical Variables*\n",
    "\n",
    "In this assignment 6, we would like to try clustering our Airbnb listing dataset for now using just the categorical variables. In assignment 7 we will consider the full dataset which will use the categorical and the numerical variables.\n",
    "\n",
    "### <u>Research Goals</u>:\n",
    "\n",
    "In this analysis, we have the following research goals.\n",
    "\n",
    "1. Identify larger \"main clusters\" of Airbnb listings in the Seattle area. In general, we would like for most of our listings to be clustered in with a larger sized clusters, rather than be separated as small or singleton clusters.\n",
    "2. We would also like to identify potential sub-clusters of listings within each of the \"main clusters.\"\n",
    "3. What attributes characterize each of these clusters and sub-clusters?"
   ]
  },
  {
   "cell_type": "markdown",
   "metadata": {},
   "source": [
    "#### Imports"
   ]
  },
  {
   "cell_type": "code",
   "execution_count": null,
   "metadata": {},
   "outputs": [],
   "source": []
  },
  {
   "cell_type": "markdown",
   "metadata": {},
   "source": [
    "## 1. Data Preprocessing and Cleaning\n",
    "\n",
    "### 1.1. Original Dataset\n",
    "Read the seattle_airbnb_listings_cleaned.csv into a dataframe. This dataframe has already been cleaned (rows with missing values have already been dropped)."
   ]
  },
  {
   "cell_type": "code",
   "execution_count": null,
   "metadata": {},
   "outputs": [],
   "source": []
  },
  {
   "cell_type": "code",
   "execution_count": null,
   "metadata": {},
   "outputs": [],
   "source": []
  },
  {
   "cell_type": "markdown",
   "metadata": {},
   "source": [
    "### 1.2. Categorical Dataset\n",
    "\n",
    "Next, create a dataframe that is just comprised of the categorical variables."
   ]
  },
  {
   "cell_type": "code",
   "execution_count": null,
   "metadata": {},
   "outputs": [],
   "source": []
  },
  {
   "cell_type": "code",
   "execution_count": null,
   "metadata": {},
   "outputs": [],
   "source": []
  },
  {
   "cell_type": "markdown",
   "metadata": {},
   "source": [
    "### 1.3. Label Encoding\n",
    "\n",
    "Next, label encode this dataframe that is comprised of just your numerical variables. *That is, each distinct value in each of your categorical variables should be represented with a number.*"
   ]
  },
  {
   "cell_type": "code",
   "execution_count": null,
   "metadata": {},
   "outputs": [],
   "source": []
  },
  {
   "cell_type": "markdown",
   "metadata": {},
   "source": [
    "### 1.4 Hamming distance matrix\n",
    "\n",
    "Finally, create a Hamming distance matrix of your categorical variables."
   ]
  },
  {
   "cell_type": "code",
   "execution_count": null,
   "metadata": {},
   "outputs": [],
   "source": []
  },
  {
   "cell_type": "markdown",
   "metadata": {},
   "source": [
    "## 2. Clusterability\n",
    "\n",
    "### 2.1. t-SNE Plots\n",
    "Using 6 different perplexity values and at least two random states for each perplexity value, map this **distance matrix** onto a two-dimensional dataset with the t-SNE algorithm. Show your projected coordinates in a scatterplot for each combination of random states and perplexity value."
   ]
  },
  {
   "cell_type": "code",
   "execution_count": null,
   "metadata": {
    "scrolled": false
   },
   "outputs": [],
   "source": []
  },
  {
   "cell_type": "markdown",
   "metadata": {},
   "source": [
    "### 2.2 Assessing Clustering Structure\n",
    "\n",
    "Answer the following questions below.\n",
    "\n",
    "1. Does the t-SNE algorith suggest that this dataset is clusterable?\n",
    "2. How many \"main clusters\" do you think that this dataset has? *[Subjective Answer: As long as your logic is correct, you will not lose points].*\n",
    "\n",
    "Finally, pick out a random state and perplexity value that reflects the answers to your questions and show the corresponding t-SNE plot below."
   ]
  },
  {
   "cell_type": "markdown",
   "metadata": {},
   "source": []
  },
  {
   "cell_type": "code",
   "execution_count": null,
   "metadata": {},
   "outputs": [],
   "source": []
  },
  {
   "cell_type": "markdown",
   "metadata": {},
   "source": [
    "### 2.3. Association between the Attributes and the Clustering Structure Suggested by the t-SNE Plots\n",
    "\n",
    "Finally, we would like to assess how each of our 7 categorical attributes is individually associated with the clustering structure suggested by our selected t-SNE from 2.2. In the code below, plot your t-SNE plot 7 times, each time color coding the points by each of the 7 categorical attributes."
   ]
  },
  {
   "cell_type": "code",
   "execution_count": null,
   "metadata": {
    "scrolled": false
   },
   "outputs": [],
   "source": []
  },
  {
   "cell_type": "markdown",
   "metadata": {},
   "source": [
    "### 2.4. Interpretation\n",
    "\n",
    "Select one of the smaller *highly* dense clouds of points in your t-SNE plot. Do the categorical attribute values in the points in this dense cloud that you selected differ at all?"
   ]
  },
  {
   "cell_type": "markdown",
   "metadata": {},
   "source": []
  },
  {
   "cell_type": "markdown",
   "metadata": {},
   "source": [
    "## 3. K-Modes - *Parameter Selection*\n",
    "\n",
    "Next, we would like to cluster this dataset with the k-modes algorithm. We would like to explore what the best values of $k$  would be to use in this clustering algorithm to meet our research goals.\n"
   ]
  },
  {
   "cell_type": "markdown",
   "metadata": {},
   "source": [
    "### 3.1. Elbow Plot\n",
    "\n",
    "Create an elbow plot for the k-modes algorithm. Your plot should assess clusterings with k=1, k=2,..., k=16 clusters. For each k, run a single k-modes algorithm, using a random state of 100."
   ]
  },
  {
   "cell_type": "code",
   "execution_count": null,
   "metadata": {},
   "outputs": [],
   "source": []
  },
  {
   "cell_type": "code",
   "execution_count": null,
   "metadata": {},
   "outputs": [],
   "source": []
  },
  {
   "cell_type": "markdown",
   "metadata": {},
   "source": [
    "### 3.2. t-SNE Plots\n",
    "\n",
    "For k=1, k=2,..., k=10, run the k-modes clustering algorithm on your dataset, using a random state of 100. For each of your clusterings, plot a t-SNE plot in which you have color coded the points by their cluster labels."
   ]
  },
  {
   "cell_type": "code",
   "execution_count": null,
   "metadata": {
    "scrolled": false
   },
   "outputs": [],
   "source": []
  },
  {
   "cell_type": "markdown",
   "metadata": {},
   "source": [
    "### 3.3. Interpretation\n",
    "\n",
    "How many clusters does your elbow plot suggest are in this dataset? Does the k-modes clustering with this k number of clusters *strongly* agree with the clustering structured suggested by the t-SNE plot?"
   ]
  },
  {
   "cell_type": "markdown",
   "metadata": {},
   "source": []
  },
  {
   "cell_type": "markdown",
   "metadata": {},
   "source": [
    "### 3.4. Clustering Again\n",
    "\n",
    "Use the value of k that you selected in your elbow plot to cluster the dataset one more time using k-modes."
   ]
  },
  {
   "cell_type": "code",
   "execution_count": null,
   "metadata": {},
   "outputs": [],
   "source": []
  },
  {
   "cell_type": "markdown",
   "metadata": {},
   "source": [
    "### 3.5. Cluster Modes\n",
    "\n",
    "Display the modes for each of your clusters in this clustering that you found in 3.4. Your modes should be *unencoded* so you are able to examine the actual attribute values that correspond to each of the modes."
   ]
  },
  {
   "cell_type": "code",
   "execution_count": null,
   "metadata": {},
   "outputs": [],
   "source": []
  },
  {
   "cell_type": "code",
   "execution_count": null,
   "metadata": {},
   "outputs": [],
   "source": []
  },
  {
   "cell_type": "markdown",
   "metadata": {},
   "source": [
    "### 3.6. Describing the Clusters\n",
    "\n",
    "Next, we would like to describe how each of our 7 categorical attributes *associates* with each of the clusters in our clustering.\n",
    "\n",
    "#### 3.6.1. Cluster Label Distribution for each Distinct Attribute Level\n",
    "\n",
    "First, create 7 side-by-side barplot figures.\n",
    "\n",
    "1. One that visualizes the relationship between neighborhood and cluster labels.\n",
    "2. One that visualizes the relationship between property_type and cluster labels.\n",
    "\n",
    "...\n",
    "\n",
    "7. One that visualizes the relationship between host_identity_verified and cluster labels.\n",
    "\n",
    "For each of these figures, your \"attribute\" should be in the \"x-axis\"."
   ]
  },
  {
   "cell_type": "code",
   "execution_count": null,
   "metadata": {
    "scrolled": false
   },
   "outputs": [],
   "source": []
  },
  {
   "cell_type": "markdown",
   "metadata": {},
   "source": [
    "#### 3.6.2. Plot Interpretation\n",
    "\n",
    "Which cluster do Wallingford listing houses most belong to?"
   ]
  },
  {
   "cell_type": "markdown",
   "metadata": {},
   "source": []
  },
  {
   "cell_type": "markdown",
   "metadata": {},
   "source": [
    "#### 3.6.3. Cluster Label Distribution for each Distinct Attribute Level\n",
    "\n",
    "Next, create 7 side-by-side barplot figures.\n",
    "\n",
    "1. One that visualizes the relationship between neighborhood and cluster labels.\n",
    "2. One that visualizes the relationship between property_type and cluster labels.\n",
    "\n",
    "...\n",
    "\n",
    "7. One that visualizes the relationship between host_identity_verified and cluster labels.\n",
    "\n",
    "For each of these figures, your \"cluster labels\" should be in the \"x-axis\"."
   ]
  },
  {
   "cell_type": "code",
   "execution_count": null,
   "metadata": {
    "scrolled": false
   },
   "outputs": [],
   "source": []
  },
  {
   "cell_type": "markdown",
   "metadata": {},
   "source": [
    "#### 3.6.4. Plot Interpretation\n",
    "\n",
    "Which neighborhood to the the listings in cluster 1 most belong to?"
   ]
  },
  {
   "cell_type": "markdown",
   "metadata": {},
   "source": []
  },
  {
   "cell_type": "markdown",
   "metadata": {},
   "source": [
    "## 4. Hierarchical Agglomerative Clustering\n",
    "\n",
    "Next, we would like to cluster our Hamming distance matrix with hierarchical agglomerative clustering using single linkage, complete linkage, and average linkage.\n",
    "\n"
   ]
  },
  {
   "cell_type": "markdown",
   "metadata": {},
   "source": [
    "### 4.1. Single Linkage\n",
    "\n",
    "#### 4.1.1. Dendrogram\n",
    "\n",
    "Create a dendrogram using hierarchical agglomerative clustering with single linkage for using your Hamming distance matrix. \n",
    "* Because this is a small dataset, we do not need/want to truncate our dendrogram results. You should be able to see the indices of each of your observations at the leaves of your dendrogram tree.\n",
    "* Make sure you are able to read the indices labels in your dendrogram."
   ]
  },
  {
   "cell_type": "code",
   "execution_count": null,
   "metadata": {},
   "outputs": [],
   "source": []
  },
  {
   "cell_type": "code",
   "execution_count": null,
   "metadata": {},
   "outputs": [],
   "source": []
  },
  {
   "cell_type": "code",
   "execution_count": null,
   "metadata": {
    "scrolled": false
   },
   "outputs": [],
   "source": []
  },
  {
   "cell_type": "markdown",
   "metadata": {},
   "source": [
    "#### 4.1.2  t-SNE Individual Clustering Visualization\n",
    "\n",
    "Then for each of the clusterings with k=2,k=3,...,k=10 clusters, color code the points in your selected t-SNE plot with the respective cluster labels."
   ]
  },
  {
   "cell_type": "code",
   "execution_count": null,
   "metadata": {
    "scrolled": false
   },
   "outputs": [],
   "source": []
  },
  {
   "cell_type": "markdown",
   "metadata": {},
   "source": [
    "### 4.2. Complete Linkage\n",
    "\n",
    "#### 4.2.1. Dendrogram\n",
    "\n",
    "Create a dendrogram using hierarchical agglomerative clustering with complete linkage using your Hamming distance matrix.\n",
    "* Because this is a small dataset, we do not need/want to truncate our dendrogram results. You should be able to see the indices of each of your observations at the leaves of your dendrogram tree.\n",
    "* Make sure you are able to read the indices labels in your dendrogram."
   ]
  },
  {
   "cell_type": "code",
   "execution_count": null,
   "metadata": {},
   "outputs": [],
   "source": []
  },
  {
   "cell_type": "code",
   "execution_count": null,
   "metadata": {
    "scrolled": false
   },
   "outputs": [],
   "source": []
  },
  {
   "cell_type": "markdown",
   "metadata": {},
   "source": [
    "#### 4.2.2  t-SNE Individual Clustering Visualization\n",
    "\n",
    "Then for each of the clusterings with k=2,k=3,...,k=10 clusters, color code the points in your selected t-SNE plot with the respective cluster labels."
   ]
  },
  {
   "cell_type": "code",
   "execution_count": null,
   "metadata": {
    "scrolled": false
   },
   "outputs": [],
   "source": []
  },
  {
   "cell_type": "markdown",
   "metadata": {},
   "source": [
    "### 4.3. Average Linkage\n",
    "\n",
    "#### 4.3.1. Dendrogram\n",
    "\n",
    "Create a dendrogram using hierarchical agglomerative clustering with average linkage using your Hamming distance matrix.\n",
    "* Because this is a small dataset, we do not need/want to truncate our dendrogram results. You should be able to see the indices of each of your observations at the leaves of your dendrogram tree.\n",
    "* Make sure you are able to read the indices labels in your dendrogram."
   ]
  },
  {
   "cell_type": "code",
   "execution_count": null,
   "metadata": {},
   "outputs": [],
   "source": []
  },
  {
   "cell_type": "code",
   "execution_count": null,
   "metadata": {
    "scrolled": false
   },
   "outputs": [],
   "source": []
  },
  {
   "cell_type": "markdown",
   "metadata": {},
   "source": [
    "#### 4.3.2 t-SNE Individual Clustering Visualization\n",
    "\n",
    "Then for each of the clusterings with k=2,k=3,...,k=10 clusters, color code the points in your selected t-SNE plot with the respective cluster labels."
   ]
  },
  {
   "cell_type": "code",
   "execution_count": null,
   "metadata": {
    "scrolled": false
   },
   "outputs": [],
   "source": []
  },
  {
   "cell_type": "markdown",
   "metadata": {},
   "source": [
    "### 4.4. Dendrogram Comparison \n",
    "\n",
    "Out of the three dendrograms that were created, which one do you think best helped us BOTH:\n",
    "* identifify any \"main clusters\" that exist in the dataset that are larger in size (as opposed to small singleton clusters) AND\n",
    "* identifty clusters in which we have evidence to suggest are meaningfully separated from each other in the dataset?\n",
    "\n",
    "Explain."
   ]
  },
  {
   "cell_type": "markdown",
   "metadata": {},
   "source": []
  },
  {
   "cell_type": "markdown",
   "metadata": {},
   "source": [
    "### Note:\n",
    "\n",
    "Note that a more complete analysis may have also explored what attributes characterize some of the clusterings found in this \"best\" dendrogram that you selected in 4.4."
   ]
  },
  {
   "cell_type": "code",
   "execution_count": null,
   "metadata": {},
   "outputs": [],
   "source": []
  }
 ],
 "metadata": {
  "kernelspec": {
   "display_name": "Python 3 (ipykernel)",
   "language": "python",
   "name": "python3"
  },
  "language_info": {
   "codemirror_mode": {
    "name": "ipython",
    "version": 3
   },
   "file_extension": ".py",
   "mimetype": "text/x-python",
   "name": "python",
   "nbconvert_exporter": "python",
   "pygments_lexer": "ipython3",
   "version": "3.9.12"
  }
 },
 "nbformat": 4,
 "nbformat_minor": 4
}
