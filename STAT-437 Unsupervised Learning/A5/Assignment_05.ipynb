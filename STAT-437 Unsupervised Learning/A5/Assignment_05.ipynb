{
 "cells": [
  {
   "cell_type": "markdown",
   "metadata": {},
   "source": [
    "# Homework Assignment 5 - [30 points]\n",
    "\n",
    "<hr>\n"
   ]
  },
  {
   "cell_type": "markdown",
   "metadata": {},
   "source": [
    "## <u>Case Study</u>: Global City Well-Being Analysis\n",
    "\n",
    "\n",
    "### Motivation:\n",
    "\n",
    "Understanding the dynamics of urban living is useful for policymakers, businesses, and individuals considering relocation. By analyzing key factors that contribute to the quality of life in cities, we can gain insights into the strengths and weaknesses of different urban environments. \n",
    "\n",
    "Clustering cities based on numerical `\"well-being metrics\"` like such as:\n",
    "* `Purchase Power`\n",
    "* `Health Care`\n",
    "* `Pollution`\n",
    "* `Quality of Life`\n",
    "* `Crime Rating`\n",
    "* the price of a `Cappuccino`, `Wine`, `Gasoline`\n",
    "* `Avg_Rent`, and\n",
    "* `Avg_Disposable_Income`\n",
    "\n",
    "allows us to identify patterns and group cities with similar characteristics. \n",
    "\n",
    "By analyzing any clusters that we find, this can help people wanting to move make informed decisions about where to live, where to invest, and how to improve urban conditions. The results of such clustering can provide a foundation for further analysis and strategic planning in urban development.\n",
    "\n",
    "\n",
    "\n",
    "\n",
    "### Dataset Background\n",
    "\n",
    "\n",
    "The observations in the `movehub_data_cleaned.csv` file in the zip file contains data for each of these numerical attribute values for each of these for global cities. This data was extracted from movehub.com.\n",
    "The full dataset and more information about the full dataset can be found here:\n",
    "https://www.kaggle.com/datasets/blitzr/movehub-city-rankings?select=movehubqualityoflife.csv\n",
    "\n",
    "\n",
    "\n",
    "### Research Questions\n",
    "\n",
    "In this analysis we would like to answer the following research questions.\n",
    "\n",
    "### <u>Research Questions</u>:\n",
    "1. Is there any evidence to suggest that that there is a clustering structure in the cities in this dataset?\n",
    "2. If so, how many clusters are there?\n",
    "3. What city attributes characterize these clusters?\n",
    "4. What city properties characterize the two second most dissimilar groups of cities.\n",
    "5. What city properties characterize the two second most dissimilar groups of cities.\n"
   ]
  },
  {
   "cell_type": "markdown",
   "metadata": {},
   "source": [
    "### Imports"
   ]
  },
  {
   "cell_type": "code",
   "execution_count": null,
   "metadata": {},
   "outputs": [],
   "source": []
  },
  {
   "cell_type": "markdown",
   "metadata": {},
   "source": [
    "## 1. Data Processing\n",
    "\n",
    "### 1.1. Dataset\n",
    "Read the **movehub_data_cleaned.csv** file into a dataframe and show the first 5 rows. You can assume that this dataset has no missing values."
   ]
  },
  {
   "cell_type": "code",
   "execution_count": null,
   "metadata": {},
   "outputs": [],
   "source": []
  },
  {
   "cell_type": "markdown",
   "metadata": {},
   "source": [
    "### 1.2. Scaling?\n",
    "\n",
    "We would not like for any one particular variable to dominate the nature of the clustering structure as well as any of the algorithms that detect clusterings.\n",
    "\n",
    "1. With this in mind, should we scale this dataset? Explain.\n",
    "2. If so, scale this dataset. **You should use this scaled dataset for all remaining cluster analyses.**"
   ]
  },
  {
   "cell_type": "code",
   "execution_count": null,
   "metadata": {},
   "outputs": [],
   "source": []
  },
  {
   "cell_type": "code",
   "execution_count": null,
   "metadata": {},
   "outputs": [],
   "source": []
  },
  {
   "cell_type": "code",
   "execution_count": null,
   "metadata": {},
   "outputs": [],
   "source": []
  },
  {
   "cell_type": "markdown",
   "metadata": {},
   "source": []
  },
  {
   "cell_type": "markdown",
   "metadata": {},
   "source": [
    "## 2. Basic Descriptive Analytics\n",
    "\n",
    "1. Plot a scatterplot of for every pair of your scaled numerical variables.\n",
    "2. Do you see any outliers in your dataset so far?\n",
    "3. Are all possible outliers in your dataset detectable with the scatterplots below?"
   ]
  },
  {
   "cell_type": "code",
   "execution_count": null,
   "metadata": {},
   "outputs": [],
   "source": []
  },
  {
   "cell_type": "markdown",
   "metadata": {},
   "source": []
  },
  {
   "cell_type": "markdown",
   "metadata": {},
   "source": [
    "## 3. Clusterability\n",
    "\n",
    "\n",
    "### 3.1.  t-SNE Plots\n",
    "\n",
    "Using 6 different perplexity values and at least two random states for each perplexity value, map the numerical variables in this dataset onto a two-dimensional dataset using the t-SNE algorithm. Show your projected coordinates in a scatterplot for each combination of random state and perplexity value."
   ]
  },
  {
   "cell_type": "code",
   "execution_count": null,
   "metadata": {
    "scrolled": false
   },
   "outputs": [],
   "source": []
  },
  {
   "cell_type": "markdown",
   "metadata": {},
   "source": [
    "### 3.2.  Use your t-SNE plots to answer the following questions.\n",
    "Some answers are subjective. As long as your reasoning is accurate and explained, then you will get full credit).\n",
    "\n",
    "* <u>3.2.1.</u> Do these plots suggest that the dataset is clusterable? Explain.\n",
    "\n",
    "* <u>3.2.2.</u> If so, what do these plots suggest about how many clusters are in the original dataset? Explain. \n",
    "\n",
    "* <u>3.2.3.</u> If so, what do these plots suggest about how well-separated the clusters are in the original dataset? Explain. \n"
   ]
  },
  {
   "cell_type": "markdown",
   "metadata": {},
   "source": []
  },
  {
   "cell_type": "markdown",
   "metadata": {},
   "source": [
    "### 3.3. Selecting a t-SNE plot\n",
    "\n",
    "Of the plots that you created above, pick a perplexity value and random state that best reflects what you suggested in your answers to the questions in 3.2 and show the corresponding t-SNE plot below. **In addition, overlay the 'City' labels for each of these points.**"
   ]
  },
  {
   "cell_type": "code",
   "execution_count": null,
   "metadata": {},
   "outputs": [],
   "source": []
  },
  {
   "cell_type": "code",
   "execution_count": null,
   "metadata": {},
   "outputs": [],
   "source": []
  },
  {
   "cell_type": "markdown",
   "metadata": {},
   "source": [
    "## 4. Clustering Algorithm Selection\n",
    "\n",
    "To learn about which clusters are most dissimilar to each other in our clusterings, let's use a hierarchical agglomerative clustering algorithm. Let's first consult the average silhouette score to help us decide which linkage function to use.\n",
    "\n",
    "### 4.1.  Average Silhouette Score Plots\n",
    "\n",
    "Create 4 average silhouette score plots with this dataset, one for each of the following clustering algorithms:\n",
    "* Hierarchical agglomerative clustering with single linkage\n",
    "* Hierarchical agglomerative clustering with average linkage\n",
    "* Hierarchical agglomerative clustering with complete linkage\n",
    "* Hierarchical agglomerative clustering with Ward's linkage\n",
    "\n",
    "Each of your average silhouette score plots should plot the average silhouette score for clusterings created with this algorithm with k=2, k=3, ..., k=11 clusters, respectively."
   ]
  },
  {
   "cell_type": "code",
   "execution_count": null,
   "metadata": {},
   "outputs": [],
   "source": []
  },
  {
   "cell_type": "markdown",
   "metadata": {},
   "source": [
    "### 4.2. Which clustering algorithm and k?\n",
    "\n",
    "Which hierarchical agglomerative clustering algorithm and cluster number are the plots above suggesting will yield the best cohesion and separation?"
   ]
  },
  {
   "cell_type": "markdown",
   "metadata": {},
   "source": []
  },
  {
   "cell_type": "markdown",
   "metadata": {},
   "source": [
    "## 5. Hierarchical Agglomerative Clustering with Single Linkage\n",
    "\n",
    "Let's try out hierarchical agglomerative clustering with single linkage."
   ]
  },
  {
   "cell_type": "markdown",
   "metadata": {},
   "source": [
    "### 5.1.  Dendrogram\n",
    "\n",
    "Create a dendrogram using hierarchical agglomerative clustering with single linkage for the dataset. \n",
    "* Label the points with the 'City' column.\n",
    "* Make sure you are able to read the city labels in your dendrogram."
   ]
  },
  {
   "cell_type": "code",
   "execution_count": null,
   "metadata": {},
   "outputs": [],
   "source": []
  },
  {
   "cell_type": "markdown",
   "metadata": {},
   "source": [
    "### 5.2. t-SNE Individual Clustering Visualization\n",
    "\n",
    "Then for each of the clusterings with k=2,k=3,...,k=11 clusters, color code the points in your selected t-SNE plot with the respective cluster labels."
   ]
  },
  {
   "cell_type": "code",
   "execution_count": null,
   "metadata": {
    "scrolled": false
   },
   "outputs": [],
   "source": []
  },
  {
   "cell_type": "markdown",
   "metadata": {},
   "source": [
    "## 6. Hierarchical Agglomerative Clustering with Complete Linkage\n",
    "\n",
    "Let's try out hierarchical agglomerative clustering with complete linkage."
   ]
  },
  {
   "cell_type": "markdown",
   "metadata": {},
   "source": [
    "### 6.1.  Dendrogram\n",
    "\n",
    "Create a dendrogram using hierarchical agglomerative clustering with complete linkage for the dataset. \n",
    "* Label the points with the 'City' column.\n",
    "* Make sure you are able to read the city labels in your dendrogram."
   ]
  },
  {
   "cell_type": "code",
   "execution_count": null,
   "metadata": {},
   "outputs": [],
   "source": []
  },
  {
   "cell_type": "markdown",
   "metadata": {},
   "source": [
    "### 6.2. t-SNE Individual Clustering Visualization\n",
    "\n",
    "Then for each of the clusterings with k=2,k=3,...,k=11 clusters, color code the points in your selected t-SNE plot with the respective cluster labels."
   ]
  },
  {
   "cell_type": "code",
   "execution_count": null,
   "metadata": {
    "scrolled": false
   },
   "outputs": [],
   "source": []
  },
  {
   "cell_type": "markdown",
   "metadata": {},
   "source": [
    "## 7. Hierarchical Agglomerative Clustering with Average Linkage\n",
    "\n",
    "Let's try out hierarchical agglomerative clustering with average linkage."
   ]
  },
  {
   "cell_type": "markdown",
   "metadata": {},
   "source": [
    "### 7.1.  Dendrogram\n",
    "\n",
    "Create a dendrogram using hierarchical agglomerative clustering with average linkage for the dataset. \n",
    "* Label the points with the 'City' column.\n",
    "* Make sure you are able to read the city labels in your dendrogram."
   ]
  },
  {
   "cell_type": "code",
   "execution_count": null,
   "metadata": {},
   "outputs": [],
   "source": []
  },
  {
   "cell_type": "markdown",
   "metadata": {},
   "source": [
    "### 7.2. t-SNE Individual Clustering Visualization\n",
    "\n",
    "Then for each of the clusterings with k=2,k=3,...,k=11 clusters, color code the points in your selected t-SNE plot with the respective cluster labels."
   ]
  },
  {
   "cell_type": "code",
   "execution_count": null,
   "metadata": {
    "scrolled": false
   },
   "outputs": [],
   "source": []
  },
  {
   "cell_type": "markdown",
   "metadata": {},
   "source": [
    "## 8. Hierarchical Agglomerative Clustering with Ward's Linkage\n",
    "\n",
    "Let's try out hierarchical agglomerative clustering with Ward's linkage."
   ]
  },
  {
   "cell_type": "markdown",
   "metadata": {},
   "source": [
    "### 8.1.  Dendrogram\n",
    "\n",
    "Create a dendrogram using hierarchical agglomerative clustering with Ward's linkage for the dataset. \n",
    "* Label the points with the 'City' column.\n",
    "* Make sure you are able to read the city labels in your dendrogram."
   ]
  },
  {
   "cell_type": "code",
   "execution_count": null,
   "metadata": {},
   "outputs": [],
   "source": []
  },
  {
   "cell_type": "markdown",
   "metadata": {},
   "source": [
    "### 8.2. t-SNE Individual Clustering Visualization\n",
    "\n",
    "Then for each of the clusterings with k=2,k=3,...,k=11 clusters, color code the points in your selected t-SNE plot with the respective cluster labels."
   ]
  },
  {
   "cell_type": "code",
   "execution_count": null,
   "metadata": {
    "scrolled": false
   },
   "outputs": [],
   "source": []
  },
  {
   "cell_type": "markdown",
   "metadata": {},
   "source": [
    "## 9. Algorithm Comparison"
   ]
  },
  {
   "cell_type": "markdown",
   "metadata": {},
   "source": [
    "### 9.1 Best Performance\n",
    "\n",
    "### Specific Research Goals\n",
    "\n",
    "* **Find Some Larger Clusters**: Suppose for this analysis we ideally would like to find *some* larger meaningful clusters of cities. \n",
    "* **Some Smaller Clusters Ok**: However, if there were a few small clusters of cities in our final clustering that happened to be deemed distinct enough by the algorithm, then we were ok with some of our clusters being small. \n",
    "* **Finding the Inherent Clusters**: Ideally, we would like for our returned clusters (in particular the larger ones) to be closely aligned with the actual inherent clusters that exist in the dataset.\n",
    "\n",
    "\n",
    "With these particular research stipulations above in mind, which of our 4 dendrogram performed the best? Explain."
   ]
  },
  {
   "cell_type": "markdown",
   "metadata": {},
   "source": []
  },
  {
   "cell_type": "markdown",
   "metadata": {},
   "source": [
    "### 9.2. Effectiveness of Average Silhouette Score\n",
    "\n",
    "Does the clustering with the best cohesion and separation (according to the average silhouette score) align with the \"best\" clustering(s) that we picked out in 9.1? Explain."
   ]
  },
  {
   "cell_type": "markdown",
   "metadata": {},
   "source": []
  },
  {
   "cell_type": "markdown",
   "metadata": {},
   "source": [
    "### 9.3 City Similarities\n",
    "\n",
    "1. Which city is the nearest neighbor to Chicago in this dataset?\n",
    "2. Which city has the furthest away nearest neighbor in this dataset?"
   ]
  },
  {
   "cell_type": "markdown",
   "metadata": {},
   "source": []
  },
  {
   "cell_type": "markdown",
   "metadata": {},
   "source": [
    "## 10. Post-Cluster Analysis\n",
    "\n",
    "\n",
    "Let's choose to examine the hierarchical agglomerative clustering results with the linkage function that we selected in 9.1."
   ]
  },
  {
   "cell_type": "markdown",
   "metadata": {},
   "source": [
    "### 10.1. Two Most Distinct Clusters\n",
    "\n",
    "1. What cities were in the two most distinct clusters found by this clustering algorithm (ie. the two clusters that were merged together last)?\n",
    "2. How would you characterize these two most distinct clusters found by this clustering algorithm (ie. the two clusters that were merged together last)?"
   ]
  },
  {
   "cell_type": "code",
   "execution_count": null,
   "metadata": {},
   "outputs": [],
   "source": []
  },
  {
   "cell_type": "code",
   "execution_count": null,
   "metadata": {},
   "outputs": [],
   "source": []
  },
  {
   "cell_type": "code",
   "execution_count": null,
   "metadata": {},
   "outputs": [],
   "source": []
  },
  {
   "cell_type": "markdown",
   "metadata": {},
   "source": []
  },
  {
   "cell_type": "code",
   "execution_count": null,
   "metadata": {
    "scrolled": false
   },
   "outputs": [],
   "source": []
  },
  {
   "cell_type": "markdown",
   "metadata": {},
   "source": [
    "### 10.2. Two Second Most Distinct Clusters\n",
    "\n",
    "1. What cities were in the two second most distinct clusters found by this clustering algorithm (ie. the two clusters that were merged together second to last)?\n",
    "2. How would you characterize these two second most distinct clusters found by this clustering algorithm?"
   ]
  },
  {
   "cell_type": "code",
   "execution_count": null,
   "metadata": {},
   "outputs": [],
   "source": []
  },
  {
   "cell_type": "code",
   "execution_count": null,
   "metadata": {},
   "outputs": [],
   "source": []
  },
  {
   "cell_type": "code",
   "execution_count": null,
   "metadata": {},
   "outputs": [],
   "source": []
  },
  {
   "cell_type": "code",
   "execution_count": null,
   "metadata": {},
   "outputs": [],
   "source": []
  },
  {
   "cell_type": "markdown",
   "metadata": {},
   "source": []
  },
  {
   "cell_type": "code",
   "execution_count": null,
   "metadata": {
    "scrolled": false
   },
   "outputs": [],
   "source": []
  }
 ],
 "metadata": {
  "kernelspec": {
   "display_name": "Python 3 (ipykernel)",
   "language": "python",
   "name": "python3"
  },
  "language_info": {
   "codemirror_mode": {
    "name": "ipython",
    "version": 3
   },
   "file_extension": ".py",
   "mimetype": "text/x-python",
   "name": "python",
   "nbconvert_exporter": "python",
   "pygments_lexer": "ipython3",
   "version": "3.9.12"
  }
 },
 "nbformat": 4,
 "nbformat_minor": 4
}
