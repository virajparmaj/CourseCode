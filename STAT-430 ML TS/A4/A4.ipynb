{
 "cells": [
  {
   "cell_type": "markdown",
   "id": "f08bee3f",
   "metadata": {},
   "source": [
    "## 1. Data Loading & Inspection\n"
   ]
  },
  {
   "cell_type": "code",
   "execution_count": 3,
   "id": "db7867cb",
   "metadata": {},
   "outputs": [
    {
     "name": "stdout",
     "output_type": "stream",
     "text": [
      "(4773, 6)\n"
     ]
    },
    {
     "data": {
      "application/vnd.microsoft.datawrangler.viewer.v0+json": {
       "columns": [
        {
         "name": "date",
         "rawType": "datetime64[ns]",
         "type": "datetime"
        },
        {
         "name": "open_price",
         "rawType": "float64",
         "type": "float"
        },
        {
         "name": "high_price",
         "rawType": "float64",
         "type": "float"
        },
        {
         "name": "low_price",
         "rawType": "float64",
         "type": "float"
        },
        {
         "name": "close_price",
         "rawType": "float64",
         "type": "float"
        },
        {
         "name": "volume",
         "rawType": "float64",
         "type": "float"
        },
        {
         "name": "adjclose_price",
         "rawType": "float64",
         "type": "float"
        }
       ],
       "conversionMethod": "pd.DataFrame",
       "ref": "942941c9-62e5-4836-a275-fb5d36ac0398",
       "rows": [
        [
         "2021-01-28 00:00:00",
         "265.0",
         "483.0",
         "112.25",
         "193.6000061035156",
         "58815800.0",
         "193.6000061035156"
        ],
        [
         "2021-01-27 00:00:00",
         "354.8299865722656",
         "380.0",
         "249.0",
         "347.510009765625",
         "93396700.0",
         "347.510009765625"
        ],
        [
         "2021-01-26 00:00:00",
         "88.55999755859375",
         "150.0",
         "80.19999694824219",
         "147.97999572753906",
         "178588000.0",
         "147.97999572753906"
        ],
        [
         "2021-01-25 00:00:00",
         "96.7300033569336",
         "159.17999267578125",
         "61.130001068115234",
         "76.79000091552734",
         "177874000.0",
         "76.79000091552734"
        ],
        [
         "2021-01-22 00:00:00",
         "42.59000015258789",
         "76.76000213623047",
         "42.31999969482422",
         "65.01000213623047",
         "196784300.0",
         "65.01000213623047"
        ]
       ],
       "shape": {
        "columns": 6,
        "rows": 5
       }
      },
      "text/html": [
       "<div>\n",
       "<style scoped>\n",
       "    .dataframe tbody tr th:only-of-type {\n",
       "        vertical-align: middle;\n",
       "    }\n",
       "\n",
       "    .dataframe tbody tr th {\n",
       "        vertical-align: top;\n",
       "    }\n",
       "\n",
       "    .dataframe thead th {\n",
       "        text-align: right;\n",
       "    }\n",
       "</style>\n",
       "<table border=\"1\" class=\"dataframe\">\n",
       "  <thead>\n",
       "    <tr style=\"text-align: right;\">\n",
       "      <th></th>\n",
       "      <th>open_price</th>\n",
       "      <th>high_price</th>\n",
       "      <th>low_price</th>\n",
       "      <th>close_price</th>\n",
       "      <th>volume</th>\n",
       "      <th>adjclose_price</th>\n",
       "    </tr>\n",
       "    <tr>\n",
       "      <th>date</th>\n",
       "      <th></th>\n",
       "      <th></th>\n",
       "      <th></th>\n",
       "      <th></th>\n",
       "      <th></th>\n",
       "      <th></th>\n",
       "    </tr>\n",
       "  </thead>\n",
       "  <tbody>\n",
       "    <tr>\n",
       "      <th>2021-01-28</th>\n",
       "      <td>265.000000</td>\n",
       "      <td>483.000000</td>\n",
       "      <td>112.250000</td>\n",
       "      <td>193.600006</td>\n",
       "      <td>58815800.0</td>\n",
       "      <td>193.600006</td>\n",
       "    </tr>\n",
       "    <tr>\n",
       "      <th>2021-01-27</th>\n",
       "      <td>354.829987</td>\n",
       "      <td>380.000000</td>\n",
       "      <td>249.000000</td>\n",
       "      <td>347.510010</td>\n",
       "      <td>93396700.0</td>\n",
       "      <td>347.510010</td>\n",
       "    </tr>\n",
       "    <tr>\n",
       "      <th>2021-01-26</th>\n",
       "      <td>88.559998</td>\n",
       "      <td>150.000000</td>\n",
       "      <td>80.199997</td>\n",
       "      <td>147.979996</td>\n",
       "      <td>178588000.0</td>\n",
       "      <td>147.979996</td>\n",
       "    </tr>\n",
       "    <tr>\n",
       "      <th>2021-01-25</th>\n",
       "      <td>96.730003</td>\n",
       "      <td>159.179993</td>\n",
       "      <td>61.130001</td>\n",
       "      <td>76.790001</td>\n",
       "      <td>177874000.0</td>\n",
       "      <td>76.790001</td>\n",
       "    </tr>\n",
       "    <tr>\n",
       "      <th>2021-01-22</th>\n",
       "      <td>42.590000</td>\n",
       "      <td>76.760002</td>\n",
       "      <td>42.320000</td>\n",
       "      <td>65.010002</td>\n",
       "      <td>196784300.0</td>\n",
       "      <td>65.010002</td>\n",
       "    </tr>\n",
       "  </tbody>\n",
       "</table>\n",
       "</div>"
      ],
      "text/plain": [
       "            open_price  high_price   low_price  close_price       volume  \\\n",
       "date                                                                       \n",
       "2021-01-28  265.000000  483.000000  112.250000   193.600006   58815800.0   \n",
       "2021-01-27  354.829987  380.000000  249.000000   347.510010   93396700.0   \n",
       "2021-01-26   88.559998  150.000000   80.199997   147.979996  178588000.0   \n",
       "2021-01-25   96.730003  159.179993   61.130001    76.790001  177874000.0   \n",
       "2021-01-22   42.590000   76.760002   42.320000    65.010002  196784300.0   \n",
       "\n",
       "            adjclose_price  \n",
       "date                        \n",
       "2021-01-28      193.600006  \n",
       "2021-01-27      347.510010  \n",
       "2021-01-26      147.979996  \n",
       "2021-01-25       76.790001  \n",
       "2021-01-22       65.010002  "
      ]
     },
     "metadata": {},
     "output_type": "display_data"
    },
    {
     "name": "stdout",
     "output_type": "stream",
     "text": [
      "<class 'pandas.core.frame.DataFrame'>\n",
      "DatetimeIndex: 4773 entries, 2021-01-28 to 2002-02-13\n",
      "Data columns (total 6 columns):\n",
      " #   Column          Non-Null Count  Dtype  \n",
      "---  ------          --------------  -----  \n",
      " 0   open_price      4773 non-null   float64\n",
      " 1   high_price      4773 non-null   float64\n",
      " 2   low_price       4773 non-null   float64\n",
      " 3   close_price     4773 non-null   float64\n",
      " 4   volume          4773 non-null   float64\n",
      " 5   adjclose_price  4773 non-null   float64\n",
      "dtypes: float64(6)\n",
      "memory usage: 261.0 KB\n",
      "None\n"
     ]
    },
    {
     "data": {
      "image/png": "[encoded data removed]",
      "text/plain": [
       "<Figure size 1000x400 with 1 Axes>"
      ]
     },
     "metadata": {},
     "output_type": "display_data"
    }
   ],
   "source": [
    "import pandas as pd\n",
    "import matplotlib.pyplot as plt\n",
    "\n",
    "# Load CSV, parse dates, set index\n",
    "df = pd.read_csv(\n",
    "    'C:/Users/viraj/BuildSpace/Courses/STAT-430 ML TS/A1/GME_stock.csv',\n",
    "    parse_dates=['date'],\n",
    "    index_col='date'\n",
    ")\n",
    "\n",
    "# Quick look\n",
    "print(df.shape)\n",
    "display(df.head())\n",
    "print(df.info())\n",
    "\n",
    "# Plot close price\n",
    "plt.figure(figsize=(10,4))\n",
    "df['close_price'].plot(title='GME Close Price')\n",
    "plt.show()\n"
   ]
  },
  {
   "cell_type": "markdown",
   "id": "75abacbb",
   "metadata": {},
   "source": [
    "## 2. Cleaning & Missing Values\n"
   ]
  },
  {
   "cell_type": "code",
   "execution_count": 4,
   "id": "ff837321",
   "metadata": {},
   "outputs": [
    {
     "name": "stdout",
     "output_type": "stream",
     "text": [
      "Missing values before fill:\n",
      " open_price        0\n",
      "high_price        0\n",
      "low_price         0\n",
      "close_price       0\n",
      "volume            0\n",
      "adjclose_price    0\n",
      "dtype: int64\n",
      "Missing values after fill:\n",
      " open_price        0\n",
      "high_price        0\n",
      "low_price         0\n",
      "close_price       0\n",
      "volume            0\n",
      "adjclose_price    0\n",
      "dtype: int64\n"
     ]
    }
   ],
   "source": [
    "# Check for gaps/missing\n",
    "print(\"Missing values before fill:\\n\", df.isna().sum())\n",
    "\n",
    "# Forward-fill\n",
    "df = df.ffill()\n",
    "\n",
    "print(\"Missing values after fill:\\n\", df.isna().sum())\n"
   ]
  },
  {
   "cell_type": "markdown",
   "id": "c4de52f0",
   "metadata": {},
   "source": [
    "## 3. Feature Engineering\n"
   ]
  },
  {
   "cell_type": "code",
   "execution_count": null,
   "id": "55b5f104",
   "metadata": {},
   "outputs": [
    {
     "data": {
      "application/vnd.microsoft.datawrangler.viewer.v0+json": {
       "columns": [
        {
         "name": "date",
         "rawType": "datetime64[ns]",
         "type": "datetime"
        },
        {
         "name": "close_price",
         "rawType": "float64",
         "type": "float"
        },
        {
         "name": "ma_5",
         "rawType": "float64",
         "type": "float"
        },
        {
         "name": "std_5",
         "rawType": "float64",
         "type": "float"
        }
       ],
       "conversionMethod": "pd.DataFrame",
       "ref": "114ab738-bbc2-4908-ab47-4b3e50644aee",
       "rows": [
        [
         "2021-01-28 00:00:00",
         "193.6000061035156",
         null,
         null
        ],
        [
         "2021-01-27 00:00:00",
         "347.510009765625",
         null,
         null
        ],
        [
         "2021-01-26 00:00:00",
         "147.97999572753906",
         null,
         null
        ],
        [
         "2021-01-25 00:00:00",
         "76.79000091552734",
         null,
         null
        ],
        [
         "2021-01-22 00:00:00",
         "65.01000213623047",
         "166.1780029296875",
         "114.22522676271187"
        ],
        [
         "2021-01-21 00:00:00",
         "43.02999877929688",
         "136.06400146484376",
         "124.56806268362682"
        ],
        [
         "2021-01-20 00:00:00",
         "39.119998931884766",
         "74.3859992980957",
         "43.979126888153836"
        ],
        [
         "2021-01-19 00:00:00",
         "39.36000061035156",
         "52.662000274658205",
         "17.23178758242095"
        ],
        [
         "2021-01-15 00:00:00",
         "35.5",
         "44.40400009155273",
         "11.823060269272963"
        ],
        [
         "2021-01-14 00:00:00",
         "39.90999984741211",
         "39.38399963378906",
         "2.6798186259884775"
        ]
       ],
       "shape": {
        "columns": 3,
        "rows": 10
       }
      },
      "text/html": [
       "<div>\n",
       "<style scoped>\n",
       "    .dataframe tbody tr th:only-of-type {\n",
       "        vertical-align: middle;\n",
       "    }\n",
       "\n",
       "    .dataframe tbody tr th {\n",
       "        vertical-align: top;\n",
       "    }\n",
       "\n",
       "    .dataframe thead th {\n",
       "        text-align: right;\n",
       "    }\n",
       "</style>\n",
       "<table border=\"1\" class=\"dataframe\">\n",
       "  <thead>\n",
       "    <tr style=\"text-align: right;\">\n",
       "      <th></th>\n",
       "      <th>close_price</th>\n",
       "      <th>ma_5</th>\n",
       "      <th>std_5</th>\n",
       "    </tr>\n",
       "    <tr>\n",
       "      <th>date</th>\n",
       "      <th></th>\n",
       "      <th></th>\n",
       "      <th></th>\n",
       "    </tr>\n",
       "  </thead>\n",
       "  <tbody>\n",
       "    <tr>\n",
       "      <th>2021-01-28</th>\n",
       "      <td>193.600006</td>\n",
       "      <td>NaN</td>\n",
       "      <td>NaN</td>\n",
       "    </tr>\n",
       "    <tr>\n",
       "      <th>2021-01-27</th>\n",
       "      <td>347.510010</td>\n",
       "      <td>NaN</td>\n",
       "      <td>NaN</td>\n",
       "    </tr>\n",
       "    <tr>\n",
       "      <th>2021-01-26</th>\n",
       "      <td>147.979996</td>\n",
       "      <td>NaN</td>\n",
       "      <td>NaN</td>\n",
       "    </tr>\n",
       "    <tr>\n",
       "      <th>2021-01-25</th>\n",
       "      <td>76.790001</td>\n",
       "      <td>NaN</td>\n",
       "      <td>NaN</td>\n",
       "    </tr>\n",
       "    <tr>\n",
       "      <th>2021-01-22</th>\n",
       "      <td>65.010002</td>\n",
       "      <td>166.178003</td>\n",
       "      <td>114.225227</td>\n",
       "    </tr>\n",
       "    <tr>\n",
       "      <th>2021-01-21</th>\n",
       "      <td>43.029999</td>\n",
       "      <td>136.064001</td>\n",
       "      <td>124.568063</td>\n",
       "    </tr>\n",
       "    <tr>\n",
       "      <th>2021-01-20</th>\n",
       "      <td>39.119999</td>\n",
       "      <td>74.385999</td>\n",
       "      <td>43.979127</td>\n",
       "    </tr>\n",
       "    <tr>\n",
       "      <th>2021-01-19</th>\n",
       "      <td>39.360001</td>\n",
       "      <td>52.662000</td>\n",
       "      <td>17.231788</td>\n",
       "    </tr>\n",
       "    <tr>\n",
       "      <th>2021-01-15</th>\n",
       "      <td>35.500000</td>\n",
       "      <td>44.404000</td>\n",
       "      <td>11.823060</td>\n",
       "    </tr>\n",
       "    <tr>\n",
       "      <th>2021-01-14</th>\n",
       "      <td>39.910000</td>\n",
       "      <td>39.384000</td>\n",
       "      <td>2.679819</td>\n",
       "    </tr>\n",
       "  </tbody>\n",
       "</table>\n",
       "</div>"
      ],
      "text/plain": [
       "            close_price        ma_5       std_5\n",
       "date                                           \n",
       "2021-01-28   193.600006         NaN         NaN\n",
       "2021-01-27   347.510010         NaN         NaN\n",
       "2021-01-26   147.979996         NaN         NaN\n",
       "2021-01-25    76.790001         NaN         NaN\n",
       "2021-01-22    65.010002  166.178003  114.225227\n",
       "2021-01-21    43.029999  136.064001  124.568063\n",
       "2021-01-20    39.119999   74.385999   43.979127\n",
       "2021-01-19    39.360001   52.662000   17.231788\n",
       "2021-01-15    35.500000   44.404000   11.823060\n",
       "2021-01-14    39.910000   39.384000    2.679819"
      ]
     },
     "metadata": {},
     "output_type": "display_data"
    },
    {
     "name": "stdout",
     "output_type": "stream",
     "text": [
      "After dropna: (4769, 8)\n"
     ]
    }
   ],
   "source": [
    "df['ma_5']  = df['close_price'].rolling(window=5).mean()\n",
    "df['std_5'] = df['close_price'].rolling(window=5).std()\n",
    "\n",
    "display(df[['close_price','ma_5','std_5']].head(10))\n",
    "\n",
    "# Drop rows with NaNs from rolling\n",
    "df.dropna(inplace=True)\n",
    "print(\"After dropna:\", df.shape)\n"
   ]
  },
  {
   "cell_type": "markdown",
   "id": "5a3aea6f",
   "metadata": {},
   "source": [
    "## 4. Train / Validation / Test Split\n"
   ]
  },
  {
   "cell_type": "code",
   "execution_count": 6,
   "id": "4aea82ef",
   "metadata": {},
   "outputs": [
    {
     "name": "stdout",
     "output_type": "stream",
     "text": [
      "Train / Val / Test sizes: (3338, 8) (953, 8) (478, 8)\n"
     ]
    }
   ],
   "source": [
    "n = len(df)\n",
    "train_idx = int(n * 0.7)\n",
    "val_idx   = train_idx + int(n * 0.2)\n",
    "\n",
    "train = df.iloc[:train_idx]\n",
    "val   = df.iloc[train_idx:val_idx]\n",
    "test  = df.iloc[val_idx:]\n",
    "\n",
    "print(\"Train / Val / Test sizes:\", train.shape, val.shape, test.shape)\n"
   ]
  },
  {
   "cell_type": "markdown",
   "id": "0112dced",
   "metadata": {},
   "source": [
    "## 5. Window Generation (Supervised Framing)\n"
   ]
  },
  {
   "cell_type": "code",
   "execution_count": null,
   "id": "23260e3b",
   "metadata": {},
   "outputs": [
    {
     "name": "stdout",
     "output_type": "stream",
     "text": [
      "1-step shapes: (3328, 10) (3328, 1)\n",
      "3-step shapes: (3326, 10) (3326, 3)\n"
     ]
    }
   ],
   "source": [
    "import numpy as np\n",
    "\n",
    "def create_windows(series, W, H):\n",
    "    X, y = [], []\n",
    "    arr = series.values\n",
    "    for i in range(len(arr) - W - H + 1):\n",
    "        X.append(arr[i:i+W])\n",
    "        y.append(arr[i+W:i+W+H])\n",
    "    return np.array(X), np.array(y)\n",
    "\n",
    "W = 10     \n",
    "# 1-step ahead\n",
    "X_tr1, y_tr1 = create_windows(train['close_price'], W, 1)\n",
    "X_v1,  y_v1  = create_windows(val['close_price'],   W, 1)\n",
    "X_te1, y_te1 = create_windows(test['close_price'],  W, 1)\n",
    "\n",
    "print(\"1-step shapes:\", X_tr1.shape, y_tr1.shape)\n",
    "\n",
    "# 3-step ahead\n",
    "X_tr3, y_tr3 = create_windows(train['close_price'], W, 3)\n",
    "X_v3,  y_v3  = create_windows(val['close_price'],   W, 3)\n",
    "\n",
    "print(\"3-step shapes:\", X_tr3.shape, y_tr3.shape)\n"
   ]
  },
  {
   "cell_type": "markdown",
   "id": "b1bd2d05",
   "metadata": {},
   "source": [
    "## 6. Baseline: “Yesterday’s Price”\n"
   ]
  },
  {
   "cell_type": "code",
   "execution_count": 8,
   "id": "99958dda",
   "metadata": {},
   "outputs": [
    {
     "name": "stdout",
     "output_type": "stream",
     "text": [
      "Baseline MAE (1-step): 0.33937964130939635\n"
     ]
    }
   ],
   "source": [
    "from sklearn.metrics import mean_absolute_error\n",
    "\n",
    "y_pred_base = X_v1[:, -1]           # last value of window\n",
    "mae_base    = mean_absolute_error(y_v1.flatten(), y_pred_base)\n",
    "print(\"Baseline MAE (1-step):\", mae_base)\n"
   ]
  },
  {
   "cell_type": "markdown",
   "id": "60d7d483",
   "metadata": {},
   "source": [
    "## 7A. 1-Step Ahead: Fully-Connected Networks\n"
   ]
  },
  {
   "cell_type": "code",
   "execution_count": 9,
   "id": "98656e76",
   "metadata": {},
   "outputs": [
    {
     "name": "stdout",
     "output_type": "stream",
     "text": [
      "Model: \"sequential\"\n",
      "_________________________________________________________________\n",
      " Layer (type)                Output Shape              Param #   \n",
      "=================================================================\n",
      " dense (Dense)               (None, 64)                704       \n",
      "                                                                 \n",
      " dense_1 (Dense)             (None, 32)                2080      \n",
      "                                                                 \n",
      " dense_2 (Dense)             (None, 1)                 33        \n",
      "                                                                 \n",
      "=================================================================\n",
      "Total params: 2,817\n",
      "Trainable params: 2,817\n",
      "Non-trainable params: 0\n",
      "_________________________________________________________________\n",
      "None\n",
      "FCN1 Val MAE: 0.382840096950531\n",
      "Model: \"sequential_1\"\n",
      "_________________________________________________________________\n",
      " Layer (type)                Output Shape              Param #   \n",
      "=================================================================\n",
      " dense_3 (Dense)             (None, 128)               1408      \n",
      "                                                                 \n",
      " dense_4 (Dense)             (None, 64)                8256      \n",
      "                                                                 \n",
      " dropout (Dropout)           (None, 64)                0         \n",
      "                                                                 \n",
      " dense_5 (Dense)             (None, 1)                 65        \n",
      "                                                                 \n",
      "=================================================================\n",
      "Total params: 9,729\n",
      "Trainable params: 9,729\n",
      "Non-trainable params: 0\n",
      "_________________________________________________________________\n",
      "None\n",
      "FCN2 Val MAE: 0.365847110748291\n"
     ]
    }
   ],
   "source": [
    "import tensorflow as tf\n",
    "from tensorflow.keras import layers, models\n",
    "\n",
    "# Architecture 1\n",
    "model_fcn1 = models.Sequential([\n",
    "    layers.Input(shape=(W,)),\n",
    "    layers.Dense(64, activation='relu'),\n",
    "    layers.Dense(32, activation='relu'),\n",
    "    layers.Dense(1)\n",
    "])\n",
    "model_fcn1.compile('adam', 'mse', metrics=['mae'])\n",
    "print(model_fcn1.summary())\n",
    "hist1 = model_fcn1.fit(X_tr1, y_tr1, epochs=20, validation_data=(X_v1,y_v1), verbose=0)\n",
    "print(\"FCN1 Val MAE:\", hist1.history['val_mae'][-1])\n",
    "\n",
    "# Architecture 2\n",
    "model_fcn2 = models.Sequential([\n",
    "    layers.Input(shape=(W,)),\n",
    "    layers.Dense(128, activation='leaky_relu'),\n",
    "    layers.Dense(64, activation='leaky_relu'),\n",
    "    layers.Dropout(0.2),\n",
    "    layers.Dense(1)\n",
    "])\n",
    "model_fcn2.compile('adam', 'mse', metrics=['mae'])\n",
    "print(model_fcn2.summary())\n",
    "hist2 = model_fcn2.fit(X_tr1, y_tr1, epochs=20, validation_data=(X_v1,y_v1), verbose=0)\n",
    "print(\"FCN2 Val MAE:\", hist2.history['val_mae'][-1])\n"
   ]
  },
  {
   "cell_type": "markdown",
   "id": "2048f6f3",
   "metadata": {},
   "source": [
    "## 7B. 1-Step Ahead: Simple RNNs\n"
   ]
  },
  {
   "cell_type": "code",
   "execution_count": null,
   "id": "e6173541",
   "metadata": {},
   "outputs": [
    {
     "name": "stdout",
     "output_type": "stream",
     "text": [
      "RNN1 Val MAE: 0.8404712080955505\n",
      "RNN2 Val MAE: 0.8204792141914368\n"
     ]
    }
   ],
   "source": [
    "from tensorflow.keras.layers import SimpleRNN\n",
    "\n",
    "X_tr1_r = X_tr1.reshape(-1, W, 1)\n",
    "X_v1_r  = X_v1.reshape(-1, W, 1)\n",
    "\n",
    "# Architecture 1\n",
    "model_rnn1 = models.Sequential([\n",
    "    layers.Input(shape=(W,1)),\n",
    "    SimpleRNN(32),\n",
    "    layers.Dense(1)\n",
    "])\n",
    "model_rnn1.compile('adam','mse',metrics=['mae'])\n",
    "hist3 = model_rnn1.fit(X_tr1_r, y_tr1, epochs=20, validation_data=(X_v1_r,y_v1), verbose=0)\n",
    "print(\"RNN1 Val MAE:\", hist3.history['val_mae'][-1])\n",
    "\n",
    "# Architecture 2\n",
    "model_rnn2 = models.Sequential([\n",
    "    layers.Input(shape=(W,1)),\n",
    "    SimpleRNN(64, return_sequences=True),\n",
    "    SimpleRNN(32),\n",
    "    layers.Dense(1)\n",
    "])\n",
    "model_rnn2.compile('adam','mse',metrics=['mae'])\n",
    "hist4 = model_rnn2.fit(X_tr1_r, y_tr1, epochs=20, validation_data=(X_v1_r,y_v1), verbose=0)\n",
    "print(\"RNN2 Val MAE:\", hist4.history['val_mae'][-1])\n"
   ]
  },
  {
   "cell_type": "markdown",
   "id": "4085ddaa",
   "metadata": {},
   "source": [
    "## 7C. 1-Step Ahead: LSTM Models\n"
   ]
  },
  {
   "cell_type": "code",
   "execution_count": null,
   "id": "20f74f5d",
   "metadata": {},
   "outputs": [
    {
     "name": "stdout",
     "output_type": "stream",
     "text": [
      "LSTM1 Val MAE: 0.5221440196037292\n",
      "LSTM2 Val MAE: 0.7234987616539001\n"
     ]
    }
   ],
   "source": [
    "from tensorflow.keras.layers import LSTM\n",
    "\n",
    "# Architecture 1\n",
    "model_l1 = models.Sequential([\n",
    "    layers.Input(shape=(W,1)),\n",
    "    LSTM(50),\n",
    "    layers.Dense(1)\n",
    "])\n",
    "model_l1.compile('adam','mse',metrics=['mae'])\n",
    "hist5 = model_l1.fit(X_tr1_r, y_tr1, epochs=20, validation_data=(X_v1_r,y_v1), verbose=0)\n",
    "print(\"LSTM1 Val MAE:\", hist5.history['val_mae'][-1])\n",
    "\n",
    "# Architecture 2\n",
    "model_l2 = models.Sequential([\n",
    "    layers.Input(shape=(W,1)),\n",
    "    LSTM(64, return_sequences=True),\n",
    "    LSTM(32),\n",
    "    layers.Dense(1)\n",
    "])\n",
    "model_l2.compile('adam','mse',metrics=['mae'])\n",
    "hist6 = model_l2.fit(X_tr1_r, y_tr1, epochs=20, validation_data=(X_v1_r,y_v1), verbose=0)\n",
    "print(\"LSTM2 Val MAE:\", hist6.history['val_mae'][-1])\n"
   ]
  },
  {
   "cell_type": "markdown",
   "id": "785ab5e3",
   "metadata": {},
   "source": [
    "## 8. Compare 1-Step Models\n"
   ]
  },
  {
   "cell_type": "code",
   "execution_count": 12,
   "id": "f5286f92",
   "metadata": {},
   "outputs": [
    {
     "name": "stdout",
     "output_type": "stream",
     "text": [
      "Baseline -> Val MAE = 0.3394\n",
      "FCN1   -> Val MAE = 0.3828\n",
      "FCN2   -> Val MAE = 0.3658\n",
      "RNN1   -> Val MAE = 0.8405\n",
      "RNN2   -> Val MAE = 0.8205\n",
      "LSTM1  -> Val MAE = 0.5221\n",
      "LSTM2  -> Val MAE = 0.7235\n"
     ]
    }
   ],
   "source": [
    "results_1 = {\n",
    "  'Baseline': mae_base,\n",
    "  'FCN1': hist1.history['val_mae'][-1],\n",
    "  'FCN2': hist2.history['val_mae'][-1],\n",
    "  'RNN1': hist3.history['val_mae'][-1],\n",
    "  'RNN2': hist4.history['val_mae'][-1],\n",
    "  'LSTM1': hist5.history['val_mae'][-1],\n",
    "  'LSTM2': hist6.history['val_mae'][-1]\n",
    "}\n",
    "for k,v in results_1.items():\n",
    "    print(f\"{k:6s} -> Val MAE = {v:.4f}\")\n"
   ]
  },
  {
   "cell_type": "markdown",
   "id": "ab48c439",
   "metadata": {},
   "source": [
    "## 9. 3-Step Ahead Forecasting\n"
   ]
  },
  {
   "cell_type": "markdown",
   "id": "668c1ff5",
   "metadata": {},
   "source": [
    "Create a time series forecasting model for 3-steps ahead forecast (Returning X_{t+1}, X_{t+2}, X_{t+3} at once), using"
   ]
  },
  {
   "cell_type": "code",
   "execution_count": 13,
   "id": "45271439",
   "metadata": {},
   "outputs": [
    {
     "name": "stdout",
     "output_type": "stream",
     "text": [
      "FCN-3step Val MAE: 0.5145215392112732\n",
      "LSTM-3step Val MAE: 0.5869243144989014\n"
     ]
    }
   ],
   "source": [
    "# Prepare for 3-step\n",
    "X_tr3_r = X_tr3.reshape(-1, W, 1)\n",
    "X_v3_r  = X_v3.reshape(-1, W, 1)\n",
    "\n",
    "# A) FCN multi-output\n",
    "model_3a = models.Sequential([\n",
    "    layers.Input(shape=(W,)),\n",
    "    layers.Dense(128, activation='relu'),\n",
    "    layers.Dense(64, activation='relu'),\n",
    "    layers.Dense(3)\n",
    "])\n",
    "model_3a.compile('adam','mse',metrics=['mae'])\n",
    "hist7 = model_3a.fit(X_tr3, y_tr3, epochs=20, validation_data=(X_v3,y_v3), verbose=0)\n",
    "print(\"FCN-3step Val MAE:\", hist7.history['val_mae'][-1])\n",
    "\n",
    "# B) LSTM multi-output\n",
    "model_3b = models.Sequential([\n",
    "    layers.Input(shape=(W,1)),\n",
    "    LSTM(64),\n",
    "    layers.Dense(3)\n",
    "])\n",
    "model_3b.compile('adam','mse',metrics=['mae'])\n",
    "hist8 = model_3b.fit(X_tr3_r, y_tr3, epochs=20, validation_data=(X_v3_r,y_v3), verbose=0)\n",
    "print(\"LSTM-3step Val MAE:\", hist8.history['val_mae'][-1])\n"
   ]
  }
 ],
 "metadata": {
  "kernelspec": {
   "display_name": "Python 3",
   "language": "python",
   "name": "python3"
  },
  "language_info": {
   "codemirror_mode": {
    "name": "ipython",
    "version": 3
   },
   "file_extension": ".py",
   "mimetype": "text/x-python",
   "name": "python",
   "nbconvert_exporter": "python",
   "pygments_lexer": "ipython3",
   "version": "3.11.3"
  }
 },
 "nbformat": 4,
 "nbformat_minor": 5
}
