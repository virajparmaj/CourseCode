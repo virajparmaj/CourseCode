{
 "cells": [
  {
   "cell_type": "markdown",
   "metadata": {},
   "source": [
    "# Part 2: Type or handwritten answers both ok\n",
    "\n",
    "**Part 2-1**  \n",
    "For a moving average process $\\{X_t\\}_{t\\geq 0}$ of the form\n",
    "\n",
    "$$X_t = 0.25 W_{t-2} + 0.5 W_{t-1} +  W_{t},$$\n",
    "\n",
    "determine mean function, auto-covariance function, and auto-correlation\n",
    "function of $X_t$. Is $\\{X_t\\}_{t\\geq 0}$ stationary? Why or why not?"
   ]
  },
  {
   "cell_type": "markdown",
   "metadata": {},
   "source": [
    "![Alt Text](1.png)\n"
   ]
  },
  {
   "cell_type": "markdown",
   "metadata": {},
   "source": [
    "![Alt Text](2.png)\n"
   ]
  },
  {
   "cell_type": "markdown",
   "metadata": {},
   "source": [
    "![Alt Text](3.png)\n"
   ]
  },
  {
   "cell_type": "markdown",
   "metadata": {},
   "source": [
    "**Part 2-2**  \n",
    "Consider a time series $\\{X_t\\}_{t\\geq 0}$ such that\n",
    "\n",
    "$$X_t=3 -2 t + W_t.$$"
   ]
  },
  {
   "cell_type": "markdown",
   "metadata": {},
   "source": [
    "\\(a\\) Find mean function, auto-covariance function, and auto-correlation\n",
    "function of $\\{X_t\\}_{t\\geq 0}$. Determine if $\\{X_t\\}_{t\\geq 0}$ is\n",
    "stationary or not, and explain your reasons."
   ]
  },
  {
   "cell_type": "markdown",
   "metadata": {},
   "source": [
    "![Alt Text](4.png)"
   ]
  },
  {
   "cell_type": "markdown",
   "metadata": {},
   "source": [
    "\\(b\\) Let $\\{Y_t\\}_{t\\geq 0}$ be a time series such that\n",
    "$Y_t:=X_t - X_{t-2}$. Find mean function, auto-covariance function, and\n",
    "auto-correlation function of $\\{Y_t\\}_{t\\geq 0}$. Determine if\n",
    "$\\{Y_t\\}_{t\\geq 0}$ is stationary or not, and explain your reasons."
   ]
  },
  {
   "cell_type": "markdown",
   "metadata": {},
   "source": [
    "![Alt Text](5.png)\n"
   ]
  },
  {
   "cell_type": "markdown",
   "metadata": {},
   "source": [
    "\\(c\\) $$V_t: =\\frac{1}{11} \\sum_{j=-5}^{j=5} X_{t-j},$$. Find the mean\n",
    "function and the simplified expression of $V_t$. Is $V_t$ stationary?\n",
    "Why or why not?"
   ]
  },
  {
   "cell_type": "markdown",
   "metadata": {},
   "source": [
    "![Alt Text](6.png)\n"
   ]
  }
 ],
 "metadata": {
  "language_info": {
   "name": "python"
  }
 },
 "nbformat": 4,
 "nbformat_minor": 2
}
