{
 "cells": [
  {
   "cell_type": "code",
   "execution_count": 1,
   "id": "c1777826-c3ec-4895-bb29-3d2922cbad08",
   "metadata": {},
   "outputs": [],
   "source": [
    "import warnings; warnings.simplefilter('ignore')\n",
    "import numpy as np\n",
    "import pandas as pd\n",
    "import matplotlib.pyplot as plt\n",
    "from datetime import datetime"
   ]
  },
  {
   "cell_type": "markdown",
   "id": "87b8b7cf-f889-4a9d-a2b6-102506dd3895",
   "metadata": {},
   "source": [
    "# HW 3: Classification for time series forecasting"
   ]
  },
  {
   "cell_type": "markdown",
   "id": "f640f02d-8293-4438-9231-e7461e20cbb7",
   "metadata": {},
   "source": [
    "Let's read the air_passenger.csv file using read_csv function in pandas package. Make sure index is a date/time object with a monthly frequency. Print out first five rows of the series. Print out the frequency of the index."
   ]
  },
  {
   "cell_type": "code",
   "execution_count": 2,
   "id": "a0b0e973-ca1d-4c9b-9154-891bb167c671",
   "metadata": {},
   "outputs": [
    {
     "name": "stdout",
     "output_type": "stream",
     "text": [
      "            passengers\n",
      "date                  \n",
      "1949-01-31         112\n",
      "1949-02-28         118\n",
      "1949-03-31         132\n",
      "1949-04-30         129\n",
      "1949-05-31         121\n"
     ]
    }
   ],
   "source": [
    "air=pd.read_csv('air_passenger.csv',index_col='date',parse_dates=True)\n",
    "#same file that you used for the previous HW. \n",
    "air.index.freq = 'M' \n",
    "print(air.head())"
   ]
  },
  {
   "cell_type": "markdown",
   "id": "c03b4375-4127-4fd0-bbbb-95686926c453",
   "metadata": {},
   "source": [
    "Let's create a variable to to see $X_{t}-X_{t-1}$. "
   ]
  },
  {
   "cell_type": "code",
   "execution_count": 3,
   "id": "caeb78e6-af34-442b-98f1-04176940308b",
   "metadata": {},
   "outputs": [],
   "source": [
    "air['diff_air']=air['passengers'].diff(1)"
   ]
  },
  {
   "cell_type": "markdown",
   "id": "8fc1c204-736a-40de-952e-d5439c3139b9",
   "metadata": {},
   "source": [
    "We will work on classification models to predict the up on down of this difference based on lagged variables. Let's create lagged variables and process the data to prep the analysis. "
   ]
  },
  {
   "cell_type": "code",
   "execution_count": 4,
   "id": "856e6217-9b86-4231-a3ca-4c5976567ad8",
   "metadata": {},
   "outputs": [],
   "source": [
    "lags= [1,2,3,4,5,6,7,8,9,10,11,12]\n",
    "for lag in lags:\n",
    "    air[f'lag_{lag}'] = air['passengers'].shift(lag)\n",
    "\n",
    "air=air.dropna()\n",
    "\n",
    "air['direction'] = 'up'\n",
    "air.loc[(air['diff_air'] < 0) , 'direction'] = 'down'\n",
    "air = air.drop(columns=['diff_air','passengers'])"
   ]
  },
  {
   "cell_type": "code",
   "execution_count": 5,
   "id": "18ef880d-53d7-4a83-b673-f74e6bcbb65c",
   "metadata": {},
   "outputs": [
    {
     "name": "stdout",
     "output_type": "stream",
     "text": [
      "            lag_1  lag_2  lag_3  lag_4  lag_5  lag_6  lag_7  lag_8  lag_9  \\\n",
      "date                                                                        \n",
      "1950-01-31  118.0  104.0  119.0  136.0  148.0  148.0  135.0  121.0  129.0   \n",
      "1950-02-28  115.0  118.0  104.0  119.0  136.0  148.0  148.0  135.0  121.0   \n",
      "1950-03-31  126.0  115.0  118.0  104.0  119.0  136.0  148.0  148.0  135.0   \n",
      "1950-04-30  141.0  126.0  115.0  118.0  104.0  119.0  136.0  148.0  148.0   \n",
      "1950-05-31  135.0  141.0  126.0  115.0  118.0  104.0  119.0  136.0  148.0   \n",
      "\n",
      "            lag_10  lag_11  lag_12 direction  \n",
      "date                                          \n",
      "1950-01-31   132.0   118.0   112.0      down  \n",
      "1950-02-28   129.0   132.0   118.0        up  \n",
      "1950-03-31   121.0   129.0   132.0        up  \n",
      "1950-04-30   135.0   121.0   129.0      down  \n",
      "1950-05-31   148.0   135.0   121.0      down  \n"
     ]
    }
   ],
   "source": [
    "print(air.head(5))"
   ]
  },
  {
   "cell_type": "markdown",
   "id": "8e732243-902e-47dc-8302-f6ba7c6e4359",
   "metadata": {},
   "source": [
    "For this part, conduct the following:\n",
    "\n",
    "Train/test split: \n",
    "+ Training set: observations in 1954, \n",
    "+ Test set: observations in 1955. \n",
    "\n"
   ]
  },
  {
   "cell_type": "code",
   "execution_count": 6,
   "id": "83a9319a",
   "metadata": {},
   "outputs": [
    {
     "name": "stdout",
     "output_type": "stream",
     "text": [
      "Training set (1954): (12, 13)\n",
      "            lag_1  lag_2  lag_3  lag_4  lag_5  lag_6  lag_7  lag_8  lag_9  \\\n",
      "date                                                                        \n",
      "1954-01-31  201.0  180.0  211.0  237.0  272.0  264.0  243.0  229.0  235.0   \n",
      "1954-02-28  204.0  201.0  180.0  211.0  237.0  272.0  264.0  243.0  229.0   \n",
      "1954-03-31  188.0  204.0  201.0  180.0  211.0  237.0  272.0  264.0  243.0   \n",
      "1954-04-30  235.0  188.0  204.0  201.0  180.0  211.0  237.0  272.0  264.0   \n",
      "1954-05-31  227.0  235.0  188.0  204.0  201.0  180.0  211.0  237.0  272.0   \n",
      "\n",
      "            lag_10  lag_11  lag_12 direction  \n",
      "date                                          \n",
      "1954-01-31   236.0   196.0   196.0        up  \n",
      "1954-02-28   235.0   236.0   196.0      down  \n",
      "1954-03-31   229.0   235.0   236.0        up  \n",
      "1954-04-30   243.0   229.0   235.0      down  \n",
      "1954-05-31   264.0   243.0   229.0        up  \n",
      "\n",
      "Test set (1955): (12, 13)\n",
      "            lag_1  lag_2  lag_3  lag_4  lag_5  lag_6  lag_7  lag_8  lag_9  \\\n",
      "date                                                                        \n",
      "1955-01-31  229.0  203.0  229.0  259.0  293.0  302.0  264.0  234.0  227.0   \n",
      "1955-02-28  242.0  229.0  203.0  229.0  259.0  293.0  302.0  264.0  234.0   \n",
      "1955-03-31  233.0  242.0  229.0  203.0  229.0  259.0  293.0  302.0  264.0   \n",
      "1955-04-30  267.0  233.0  242.0  229.0  203.0  229.0  259.0  293.0  302.0   \n",
      "1955-05-31  269.0  267.0  233.0  242.0  229.0  203.0  229.0  259.0  293.0   \n",
      "\n",
      "            lag_10  lag_11  lag_12 direction  \n",
      "date                                          \n",
      "1955-01-31   235.0   188.0   204.0        up  \n",
      "1955-02-28   227.0   235.0   188.0      down  \n",
      "1955-03-31   234.0   227.0   235.0        up  \n",
      "1955-04-30   264.0   234.0   227.0        up  \n",
      "1955-05-31   302.0   264.0   234.0        up  \n"
     ]
    }
   ],
   "source": [
    "# Train/test split by year: Training set (1954), Test set (1955)\n",
    "train = air.loc['1954']\n",
    "test = air.loc['1955']\n",
    "\n",
    "# Print basic info about the splits\n",
    "print(\"Training set (1954):\", train.shape)\n",
    "print(train.head())\n",
    "\n",
    "print(\"\\nTest set (1955):\", test.shape)\n",
    "print(test.head())\n"
   ]
  },
  {
   "cell_type": "markdown",
   "id": "242e94af",
   "metadata": {},
   "source": [
    "Fit classification following classification models:\n",
    "+ logistic regression\n",
    "+ k-nn (test on multiple k values, recommend range from 1 to 12)\n",
    "+ decision tree\n",
    "+ random forest"
   ]
  },
  {
   "cell_type": "code",
   "execution_count": 7,
   "id": "e993e8f1",
   "metadata": {},
   "outputs": [
    {
     "name": "stdout",
     "output_type": "stream",
     "text": [
      "Logistic Regression\n",
      "Accuracy: 0.75\n",
      "              precision    recall  f1-score   support\n",
      "\n",
      "        down       0.62      1.00      0.77         5\n",
      "          up       1.00      0.57      0.73         7\n",
      "\n",
      "    accuracy                           0.75        12\n",
      "   macro avg       0.81      0.79      0.75        12\n",
      "weighted avg       0.84      0.75      0.74        12\n",
      "\n",
      "--------------------------------------------------\n",
      "k-NN Results:\n",
      "k = 1: Accuracy = 0.9167\n",
      "k = 2: Accuracy = 0.6667\n",
      "k = 3: Accuracy = 0.6667\n",
      "k = 4: Accuracy = 0.5000\n",
      "k = 5: Accuracy = 0.7500\n",
      "k = 6: Accuracy = 0.6667\n",
      "k = 7: Accuracy = 0.6667\n",
      "k = 8: Accuracy = 0.6667\n",
      "k = 9: Accuracy = 0.5000\n",
      "k = 10: Accuracy = 0.5833\n",
      "k = 11: Accuracy = 0.4167\n",
      "k = 12: Accuracy = 0.4167\n",
      "--------------------------------------------------\n",
      "Decision Tree\n",
      "Accuracy: 0.5833333333333334\n",
      "              precision    recall  f1-score   support\n",
      "\n",
      "        down       0.50      0.80      0.62         5\n",
      "          up       0.75      0.43      0.55         7\n",
      "\n",
      "    accuracy                           0.58        12\n",
      "   macro avg       0.62      0.61      0.58        12\n",
      "weighted avg       0.65      0.58      0.57        12\n",
      "\n",
      "--------------------------------------------------\n",
      "Random Forest\n",
      "Accuracy: 0.6666666666666666\n",
      "              precision    recall  f1-score   support\n",
      "\n",
      "        down       0.57      0.80      0.67         5\n",
      "          up       0.80      0.57      0.67         7\n",
      "\n",
      "    accuracy                           0.67        12\n",
      "   macro avg       0.69      0.69      0.67        12\n",
      "weighted avg       0.70      0.67      0.67        12\n",
      "\n"
     ]
    }
   ],
   "source": [
    "from sklearn.linear_model import LogisticRegression\n",
    "from sklearn.neighbors import KNeighborsClassifier\n",
    "from sklearn.tree import DecisionTreeClassifier\n",
    "from sklearn.ensemble import RandomForestClassifier\n",
    "from sklearn.metrics import accuracy_score, classification_report\n",
    "\n",
    "# Define features and target for train and test sets\n",
    "X_train = train[[f'lag_{i}' for i in range(1, 13)]]\n",
    "y_train = train['direction']\n",
    "X_test  = test[[f'lag_{i}' for i in range(1, 13)]]\n",
    "y_test  = test['direction']\n",
    "\n",
    "# Logistic Regression\n",
    "lr_model = LogisticRegression(max_iter=1000)\n",
    "lr_model.fit(X_train, y_train)\n",
    "y_pred_lr = lr_model.predict(X_test)\n",
    "print(\"Logistic Regression\")\n",
    "print(\"Accuracy:\", accuracy_score(y_test, y_pred_lr))\n",
    "print(classification_report(y_test, y_pred_lr))\n",
    "print(\"-\" * 50)\n",
    "\n",
    "# k-NN (testing k from 1 to 12)\n",
    "print(\"k-NN Results:\")\n",
    "for k in range(1, 13):\n",
    "    knn_model = KNeighborsClassifier(n_neighbors=k)\n",
    "    knn_model.fit(X_train, y_train)\n",
    "    y_pred_knn = knn_model.predict(X_test)\n",
    "    print(f\"k = {k}: Accuracy = {accuracy_score(y_test, y_pred_knn):.4f}\")\n",
    "print(\"-\" * 50)\n",
    "\n",
    "# Decision Tree\n",
    "tree_model = DecisionTreeClassifier(random_state=42)\n",
    "tree_model.fit(X_train, y_train)\n",
    "y_pred_tree = tree_model.predict(X_test)\n",
    "print(\"Decision Tree\")\n",
    "print(\"Accuracy:\", accuracy_score(y_test, y_pred_tree))\n",
    "print(classification_report(y_test, y_pred_tree))\n",
    "print(\"-\" * 50)\n",
    "\n",
    "# Random Forest\n",
    "rf_model = RandomForestClassifier(random_state=42)\n",
    "rf_model.fit(X_train, y_train)\n",
    "y_pred_rf = rf_model.predict(X_test)\n",
    "print(\"Random Forest\")\n",
    "print(\"Accuracy:\", accuracy_score(y_test, y_pred_rf))\n",
    "print(classification_report(y_test, y_pred_rf))\n"
   ]
  },
  {
   "cell_type": "markdown",
   "id": "28024831",
   "metadata": {},
   "source": [
    "\n",
    "\n",
    "And report the following of each models\n",
    "+ Accuracy\n",
    "+ Precision\n",
    "+ Recall"
   ]
  },
  {
   "cell_type": "code",
   "execution_count": 8,
   "id": "538a904a",
   "metadata": {},
   "outputs": [
    {
     "name": "stdout",
     "output_type": "stream",
     "text": [
      "Logistic Regression\n",
      "Accuracy: 0.75\n",
      "Precision: 1.0\n",
      "Recall: 0.5714285714285714\n",
      "--------------------------------------------------\n",
      "k-NN Results:\n",
      "k = 1: Accuracy = 0.9167, Precision = 1.0000, Recall = 0.8571\n",
      "k = 2: Accuracy = 0.6667, Precision = 1.0000, Recall = 0.4286\n",
      "k = 3: Accuracy = 0.6667, Precision = 0.8000, Recall = 0.5714\n",
      "k = 4: Accuracy = 0.5000, Precision = 0.6667, Recall = 0.2857\n",
      "k = 5: Accuracy = 0.7500, Precision = 0.8333, Recall = 0.7143\n",
      "k = 6: Accuracy = 0.6667, Precision = 1.0000, Recall = 0.4286\n",
      "k = 7: Accuracy = 0.6667, Precision = 0.8000, Recall = 0.5714\n",
      "k = 8: Accuracy = 0.6667, Precision = 1.0000, Recall = 0.4286\n",
      "k = 9: Accuracy = 0.5000, Precision = 0.6000, Recall = 0.4286\n",
      "k = 10: Accuracy = 0.5833, Precision = 1.0000, Recall = 0.2857\n",
      "k = 11: Accuracy = 0.4167, Precision = 0.5000, Recall = 0.2857\n",
      "k = 12: Accuracy = 0.4167, Precision = 0.0000, Recall = 0.0000\n",
      "--------------------------------------------------\n",
      "Decision Tree\n",
      "Accuracy: 0.5833333333333334\n",
      "Precision: 0.75\n",
      "Recall: 0.42857142857142855\n",
      "--------------------------------------------------\n",
      "Random Forest\n",
      "Accuracy: 0.6666666666666666\n",
      "Precision: 0.8\n",
      "Recall: 0.5714285714285714\n"
     ]
    }
   ],
   "source": [
    "from sklearn.metrics import accuracy_score, precision_score, recall_score\n",
    "\n",
    "# Logistic Regression\n",
    "lr_model = LogisticRegression(max_iter=1000)\n",
    "lr_model.fit(X_train, y_train)\n",
    "y_pred_lr = lr_model.predict(X_test)\n",
    "acc_lr = accuracy_score(y_test, y_pred_lr)\n",
    "prec_lr = precision_score(y_test, y_pred_lr, pos_label='up')\n",
    "rec_lr = recall_score(y_test, y_pred_lr, pos_label='up')\n",
    "print(\"Logistic Regression\")\n",
    "print(\"Accuracy:\", acc_lr)\n",
    "print(\"Precision:\", prec_lr)\n",
    "print(\"Recall:\", rec_lr)\n",
    "print(\"-\"*50)\n",
    "\n",
    "# k-NN (testing k from 1 to 12)\n",
    "print(\"k-NN Results:\")\n",
    "for k in range(1, 13):\n",
    "    knn_model = KNeighborsClassifier(n_neighbors=k)\n",
    "    knn_model.fit(X_train, y_train)\n",
    "    y_pred_knn = knn_model.predict(X_test)\n",
    "    acc_knn = accuracy_score(y_test, y_pred_knn)\n",
    "    prec_knn = precision_score(y_test, y_pred_knn, pos_label='up')\n",
    "    rec_knn = recall_score(y_test, y_pred_knn, pos_label='up')\n",
    "    print(f\"k = {k}: Accuracy = {acc_knn:.4f}, Precision = {prec_knn:.4f}, Recall = {rec_knn:.4f}\")\n",
    "print(\"-\"*50)\n",
    "\n",
    "# Decision Tree\n",
    "tree_model = DecisionTreeClassifier(random_state=42)\n",
    "tree_model.fit(X_train, y_train)\n",
    "y_pred_tree = tree_model.predict(X_test)\n",
    "acc_tree = accuracy_score(y_test, y_pred_tree)\n",
    "prec_tree = precision_score(y_test, y_pred_tree, pos_label='up')\n",
    "rec_tree = recall_score(y_test, y_pred_tree, pos_label='up')\n",
    "print(\"Decision Tree\")\n",
    "print(\"Accuracy:\", acc_tree)\n",
    "print(\"Precision:\", prec_tree)\n",
    "print(\"Recall:\", rec_tree)\n",
    "print(\"-\"*50)\n",
    "\n",
    "# Random Forest\n",
    "rf_model = RandomForestClassifier(random_state=42)\n",
    "rf_model.fit(X_train, y_train)\n",
    "y_pred_rf = rf_model.predict(X_test)\n",
    "acc_rf = accuracy_score(y_test, y_pred_rf)\n",
    "prec_rf = precision_score(y_test, y_pred_rf, pos_label='up')\n",
    "rec_rf = recall_score(y_test, y_pred_rf, pos_label='up')\n",
    "print(\"Random Forest\")\n",
    "print(\"Accuracy:\", acc_rf)\n",
    "print(\"Precision:\", prec_rf)\n",
    "print(\"Recall:\", rec_rf)\n"
   ]
  }
 ],
 "metadata": {
  "kernelspec": {
   "display_name": "Python 3",
   "language": "python",
   "name": "python3"
  },
  "language_info": {
   "codemirror_mode": {
    "name": "ipython",
    "version": 3
   },
   "file_extension": ".py",
   "mimetype": "text/x-python",
   "name": "python",
   "nbconvert_exporter": "python",
   "pygments_lexer": "ipython3",
   "version": "3.11.3"
  }
 },
 "nbformat": 4,
 "nbformat_minor": 5
}
