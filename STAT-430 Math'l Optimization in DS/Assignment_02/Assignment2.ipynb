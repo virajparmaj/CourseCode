{
 "cells": [
  {
   "cell_type": "markdown",
   "id": "9c9f9eb4",
   "metadata": {},
   "source": [
    "# Assignment 2"
   ]
  },
  {
   "cell_type": "markdown",
   "id": "c7c8d878",
   "metadata": {},
   "source": [
    "### Imports"
   ]
  },
  {
   "cell_type": "code",
   "execution_count": null,
   "id": "4d07a93d",
   "metadata": {},
   "outputs": [],
   "source": []
  },
  {
   "cell_type": "markdown",
   "id": "6796b85a",
   "metadata": {},
   "source": [
    "## Model A\n",
    "\n",
    "\\begin{align}\n",
    "    \\text{Maximize} \\quad & z = 3x_1 + 4x_2 \\\\\n",
    "    \\text{subject to} \\quad\n",
    "    & 2x_1 + x_2 \\leq 20, \\\\\n",
    "    & 4x_1 - x_2 \\geq 15, \\\\\n",
    "    & x_1 + 2x_2 \\leq 15, \\\\\n",
    "    & x_1, x_2 \\geq 0\n",
    "\\end{align}\n",
    "\n"
   ]
  },
  {
   "cell_type": "code",
   "execution_count": null,
   "id": "6d7a46f0",
   "metadata": {},
   "outputs": [],
   "source": []
  },
  {
   "cell_type": "markdown",
   "id": "0b2b4511",
   "metadata": {},
   "source": [
    "## Model B\n",
    "\n",
    "\\begin{align}\n",
    "    \\text{Minimize} \\quad & z = 3x_1 + 4x_2 \\\\\n",
    "    \\text{subject to} \\quad\n",
    "    & 2x_1 + x_2 \\leq 20, \\\\\n",
    "    & 4x_1 - x_2 \\geq 15, \\\\\n",
    "    & x_1 + 2x_2 \\leq 15, \\\\\n",
    "    & x_1, x_2 \\geq 0\n",
    "\\end{align}"
   ]
  },
  {
   "cell_type": "code",
   "execution_count": null,
   "id": "e87f359b",
   "metadata": {},
   "outputs": [],
   "source": []
  },
  {
   "cell_type": "markdown",
   "id": "ac0f5cf4",
   "metadata": {},
   "source": [
    "## Model C\n",
    "\n",
    "\\begin{align}\n",
    "    \\text{Maximize} \\quad & z = 3x_1 + 6x_2 \\\\\n",
    "    \\text{subject to} \\quad\n",
    "    & 2x_1 + x_2 \\leq 20, \\\\\n",
    "    & 4x_1 - x_2 \\geq 15, \\\\\n",
    "    & x_1 + 2x_2 \\leq 15, \\\\\n",
    "    & x_1, x_2 \\geq 0\n",
    "\\end{align}\n",
    "\n"
   ]
  },
  {
   "cell_type": "code",
   "execution_count": null,
   "id": "3dd25094",
   "metadata": {},
   "outputs": [],
   "source": []
  },
  {
   "cell_type": "markdown",
   "id": "3e0a9f66",
   "metadata": {},
   "source": [
    "## Model D\n",
    "\n",
    "\\begin{align}\n",
    "    \\text{Maximize} \\quad & z = 2x_1+x_2 \\ \\\\\n",
    "    \\text{subject to} \\quad\n",
    "    & 2x_1 + x_2 \\leq 20, \\\\\n",
    "    & 4x_1 - x_2 \\geq 15, \\\\\n",
    "    & x_1 + 2x_2 \\leq 15, \\\\\n",
    "    & x_1, x_2 \\geq 0\n",
    "\\end{align}\n",
    "\n"
   ]
  },
  {
   "cell_type": "code",
   "execution_count": null,
   "id": "8ba43a0a",
   "metadata": {},
   "outputs": [],
   "source": []
  },
  {
   "cell_type": "markdown",
   "id": "cb5a1e9a",
   "metadata": {},
   "source": [
    "## Model E\n",
    "\n",
    "\\begin{align}\n",
    "    \\text{Maximize} \\quad & (x_1 - 1)^2 + (x_2 - 3)^2 \\\\\n",
    "    \\text{subject to} \\quad\n",
    "    & 3x_1 + 2x_2 \\leq 14, \\\\\n",
    "    & 5x_1 - x_2 \\leq 10, \\\\\n",
    "    & x_1 + x_2 \\leq 7, \\\\\n",
    "    & x_1, x_2 \\geq 0\n",
    "\\end{align}\n",
    "\n"
   ]
  },
  {
   "cell_type": "code",
   "execution_count": null,
   "id": "5eda0e9d",
   "metadata": {},
   "outputs": [],
   "source": []
  },
  {
   "cell_type": "markdown",
   "id": "783eb3ee",
   "metadata": {},
   "source": [
    "## Model F\n",
    "\n",
    "\\begin{align}\n",
    "    \\text{Minimize} \\quad & (x_1 - 1)^2 + (x_2 - 3)^2 \\\\\n",
    "    \\text{subject to} \\quad\n",
    "    & 3x_1 + 2x_2 \\leq 14, \\\\\n",
    "    & 5x_1 - x_2 \\leq 10, \\\\\n",
    "    & x_1 + x_2 \\leq 7, \\\\\n",
    "    & x_1, x_2 \\geq 0\n",
    "\\end{align}\n",
    "\n"
   ]
  },
  {
   "cell_type": "code",
   "execution_count": null,
   "id": "b82b103f",
   "metadata": {},
   "outputs": [],
   "source": []
  },
  {
   "cell_type": "markdown",
   "id": "fdbad841",
   "metadata": {},
   "source": [
    "## Model G\n",
    "\n",
    "\\begin{align}\n",
    "    \\text{Maximize} \\quad & z = 2x_1 + 3x_2 \\\\\n",
    "    \\text{subject to} \\quad\n",
    "    & 2x_1 - x_2 \\geq 2, \\\\\n",
    "    & -x_1 + x_2 \\geq 1, \\\\\n",
    "    & x_1, x_2 \\geq 0\n",
    "\\end{align}\n",
    "\n"
   ]
  },
  {
   "cell_type": "code",
   "execution_count": null,
   "id": "90a091be",
   "metadata": {},
   "outputs": [],
   "source": []
  },
  {
   "cell_type": "markdown",
   "id": "9ea9c5c9",
   "metadata": {},
   "source": [
    "## Model H\n",
    "\n",
    "\\begin{align}\n",
    "    \\text{Minimize} \\quad & z = 2x_1 + 3x_2 \\\\\n",
    "    \\text{subject to} \\quad\n",
    "    & 2x_1 - x_2 \\geq 2, \\\\\n",
    "    & -x_1 + x_2 \\geq 1, \\\\\n",
    "    & x_1, x_2 \\geq 0\n",
    "\\end{align}"
   ]
  },
  {
   "cell_type": "code",
   "execution_count": null,
   "id": "857b89a7",
   "metadata": {},
   "outputs": [],
   "source": []
  }
 ],
 "metadata": {
  "kernelspec": {
   "display_name": "Python 3 (ipykernel)",
   "language": "python",
   "name": "python3"
  },
  "language_info": {
   "codemirror_mode": {
    "name": "ipython",
    "version": 3
   },
   "file_extension": ".py",
   "mimetype": "text/x-python",
   "name": "python",
   "nbconvert_exporter": "python",
   "pygments_lexer": "ipython3",
   "version": "3.9.12"
  }
 },
 "nbformat": 4,
 "nbformat_minor": 5
}
