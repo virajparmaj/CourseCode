{
 "cells": [
  {
   "cell_type": "markdown",
   "id": "9c9f9eb4",
   "metadata": {},
   "source": [
    "# Assignment 3"
   ]
  },
  {
   "cell_type": "markdown",
   "id": "c7c8d878",
   "metadata": {},
   "source": [
    "### Imports"
   ]
  },
  {
   "cell_type": "code",
   "execution_count": null,
   "id": "4d07a93d",
   "metadata": {},
   "outputs": [],
   "source": []
  },
  {
   "cell_type": "markdown",
   "id": "6796b85a",
   "metadata": {},
   "source": [
    "## Question 2: Original Model\n"
   ]
  },
  {
   "cell_type": "code",
   "execution_count": null,
   "id": "6d7a46f0",
   "metadata": {},
   "outputs": [],
   "source": []
  },
  {
   "cell_type": "code",
   "execution_count": null,
   "id": "2abc9041",
   "metadata": {},
   "outputs": [],
   "source": []
  },
  {
   "cell_type": "code",
   "execution_count": null,
   "id": "d573daa9",
   "metadata": {},
   "outputs": [],
   "source": []
  },
  {
   "cell_type": "code",
   "execution_count": null,
   "id": "94a271c3",
   "metadata": {},
   "outputs": [],
   "source": []
  },
  {
   "cell_type": "markdown",
   "id": "bb219f20",
   "metadata": {},
   "source": [
    "## Question 3\n",
    "\n",
    "### 3.2 Increasing $p_1$ beyond 4"
   ]
  },
  {
   "cell_type": "code",
   "execution_count": null,
   "id": "2cd81d51",
   "metadata": {},
   "outputs": [],
   "source": []
  },
  {
   "cell_type": "markdown",
   "id": "05e855ed",
   "metadata": {},
   "source": [
    "### 3.3 Decreasing $p_1$ beyond 4"
   ]
  },
  {
   "cell_type": "code",
   "execution_count": null,
   "id": "cbfba3fb",
   "metadata": {},
   "outputs": [],
   "source": []
  },
  {
   "cell_type": "markdown",
   "id": "630c4933",
   "metadata": {},
   "source": [
    "## Question 4\n",
    "### 4.2. Increasing $A$"
   ]
  },
  {
   "cell_type": "code",
   "execution_count": null,
   "id": "c3c22ddb",
   "metadata": {},
   "outputs": [],
   "source": []
  },
  {
   "cell_type": "code",
   "execution_count": null,
   "id": "d9024119",
   "metadata": {
    "scrolled": false
   },
   "outputs": [],
   "source": []
  },
  {
   "cell_type": "markdown",
   "id": "f589673d",
   "metadata": {},
   "source": [
    "### 4.3. Decreasing $A$"
   ]
  },
  {
   "cell_type": "code",
   "execution_count": null,
   "id": "2754c188",
   "metadata": {
    "scrolled": false
   },
   "outputs": [],
   "source": []
  },
  {
   "cell_type": "markdown",
   "id": "ffced33d",
   "metadata": {},
   "source": [
    "## Question 5\n",
    "\n",
    "### 5.2. Increasing $D$"
   ]
  },
  {
   "cell_type": "code",
   "execution_count": null,
   "id": "443c852d",
   "metadata": {},
   "outputs": [],
   "source": []
  },
  {
   "cell_type": "code",
   "execution_count": null,
   "id": "800b5690",
   "metadata": {
    "scrolled": false
   },
   "outputs": [],
   "source": []
  },
  {
   "cell_type": "markdown",
   "id": "4b890793",
   "metadata": {},
   "source": [
    "### 5.3. Decreasing D"
   ]
  },
  {
   "cell_type": "code",
   "execution_count": null,
   "id": "ad4109f8",
   "metadata": {},
   "outputs": [],
   "source": []
  },
  {
   "cell_type": "code",
   "execution_count": null,
   "id": "b5a9e158",
   "metadata": {},
   "outputs": [],
   "source": []
  }
 ],
 "metadata": {
  "kernelspec": {
   "display_name": "Python 3 (ipykernel)",
   "language": "python",
   "name": "python3"
  },
  "language_info": {
   "codemirror_mode": {
    "name": "ipython",
    "version": 3
   },
   "file_extension": ".py",
   "mimetype": "text/x-python",
   "name": "python",
   "nbconvert_exporter": "python",
   "pygments_lexer": "ipython3",
   "version": "3.9.12"
  }
 },
 "nbformat": 4,
 "nbformat_minor": 5
}
