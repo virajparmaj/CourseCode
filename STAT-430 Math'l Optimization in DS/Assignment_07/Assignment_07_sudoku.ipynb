{
 "cells": [
  {
   "cell_type": "markdown",
   "id": "9c9f9eb4",
   "metadata": {},
   "source": [
    "# Assignment 7 - Sudoku"
   ]
  },
  {
   "cell_type": "markdown",
   "id": "c7c8d878",
   "metadata": {},
   "source": [
    "### Imports"
   ]
  },
  {
   "cell_type": "code",
   "execution_count": null,
   "id": "4d07a93d",
   "metadata": {},
   "outputs": [],
   "source": []
  },
  {
   "cell_type": "markdown",
   "id": "681c2869",
   "metadata": {},
   "source": [
    "## Tutorial Hint\n",
    "\n",
    "One way to set up and index decision variables with 3 indices is as follows.\n",
    "\n",
    "For instance, suppose we wanted to define set of decision variables $y_{ijk}$ for:\n",
    "* $i=1,2$\n",
    "* $j=1,2,3$\n",
    "* $k=1,2,3,4$"
   ]
  },
  {
   "cell_type": "code",
   "execution_count": 1,
   "id": "b03aa2d6",
   "metadata": {},
   "outputs": [
    {
     "data": {
      "text/plain": [
       "toy_problem:\n",
       "MAXIMIZE\n",
       "None\n",
       "VARIABLES"
      ]
     },
     "execution_count": 1,
     "metadata": {},
     "output_type": "execute_result"
    }
   ],
   "source": [
    "import pulp\n",
    "toy_prob = pulp.LpProblem(\"toy_problem\", pulp.LpMaximize)\n",
    "toy_prob"
   ]
  },
  {
   "cell_type": "markdown",
   "id": "4d860bff",
   "metadata": {},
   "source": [
    "By giving three sets of corresponding `lists` or `ranges()`, we create a `dictionary` (where the $i$ values are the keys) comprised of `dictionaries` (where the $j$ values are the keys) comprised of more `dictionaries` (where the $k$ values are the keys)."
   ]
  },
  {
   "cell_type": "markdown",
   "id": "3e5b3ff5",
   "metadata": {},
   "source": [
    "All decision variables $y_{ijk}$ for $i=1,2$, $j=1,2,3$, $k=1,2,3,4$"
   ]
  },
  {
   "cell_type": "code",
   "execution_count": 2,
   "id": "77b64764",
   "metadata": {},
   "outputs": [
    {
     "data": {
      "text/plain": [
       "{1: {1: {1: y_1_1_1, 2: y_1_1_2, 3: y_1_1_3, 4: y_1_1_4},\n",
       "  2: {1: y_1_2_1, 2: y_1_2_2, 3: y_1_2_3, 4: y_1_2_4},\n",
       "  3: {1: y_1_3_1, 2: y_1_3_2, 3: y_1_3_3, 4: y_1_3_4}},\n",
       " 2: {1: {1: y_2_1_1, 2: y_2_1_2, 3: y_2_1_3, 4: y_2_1_4},\n",
       "  2: {1: y_2_2_1, 2: y_2_2_2, 3: y_2_2_3, 4: y_2_2_4},\n",
       "  3: {1: y_2_3_1, 2: y_2_3_2, 3: y_2_3_3, 4: y_2_3_4}}}"
      ]
     },
     "execution_count": 2,
     "metadata": {},
     "output_type": "execute_result"
    }
   ],
   "source": [
    "y = pulp.LpVariable.dicts(\"y\", (range(1, 3), range(1, 4), range(1, 5)), cat='Binary')\n",
    "y"
   ]
  },
  {
   "cell_type": "markdown",
   "id": "af81ae73",
   "metadata": {},
   "source": [
    "All decision variables $y_{1jk}$ for $j=1,2,3$, $k=1,2,3,4$"
   ]
  },
  {
   "cell_type": "code",
   "execution_count": 3,
   "id": "369ae7c0",
   "metadata": {},
   "outputs": [
    {
     "data": {
      "text/plain": [
       "{1: {1: y_1_1_1, 2: y_1_1_2, 3: y_1_1_3, 4: y_1_1_4},\n",
       " 2: {1: y_1_2_1, 2: y_1_2_2, 3: y_1_2_3, 4: y_1_2_4},\n",
       " 3: {1: y_1_3_1, 2: y_1_3_2, 3: y_1_3_3, 4: y_1_3_4}}"
      ]
     },
     "execution_count": 3,
     "metadata": {},
     "output_type": "execute_result"
    }
   ],
   "source": [
    "y[1]"
   ]
  },
  {
   "cell_type": "markdown",
   "id": "eb28a2d6",
   "metadata": {},
   "source": [
    "All decision variables $y_{13k}$ for $k=1,2,3,4$"
   ]
  },
  {
   "cell_type": "code",
   "execution_count": 4,
   "id": "625f0fa1",
   "metadata": {},
   "outputs": [
    {
     "data": {
      "text/plain": [
       "{1: y_1_3_1, 2: y_1_3_2, 3: y_1_3_3, 4: y_1_3_4}"
      ]
     },
     "execution_count": 4,
     "metadata": {},
     "output_type": "execute_result"
    }
   ],
   "source": [
    "y[1][3]"
   ]
  },
  {
   "cell_type": "markdown",
   "id": "de1a5e0e",
   "metadata": {},
   "source": [
    "Decision variable $y_{132}$"
   ]
  },
  {
   "cell_type": "code",
   "execution_count": 5,
   "id": "5e4c1389",
   "metadata": {},
   "outputs": [
    {
     "data": {
      "text/plain": [
       "y_1_3_2"
      ]
     },
     "execution_count": 5,
     "metadata": {},
     "output_type": "execute_result"
    }
   ],
   "source": [
    "y[1][3][2]"
   ]
  },
  {
   "cell_type": "markdown",
   "id": "47db1b07",
   "metadata": {},
   "source": [
    "## Case Study 2\n",
    "\n",
    "The data in the `Sudoku_Cell_Data.csv` is useful for this problem."
   ]
  },
  {
   "cell_type": "code",
   "execution_count": null,
   "id": "b8e8dde6-1532-412f-b413-cc5edaa469fd",
   "metadata": {},
   "outputs": [],
   "source": []
  },
  {
   "cell_type": "code",
   "execution_count": null,
   "id": "8367b5aa-f135-43c2-a4f9-42585ba8da6b",
   "metadata": {},
   "outputs": [],
   "source": []
  },
  {
   "cell_type": "code",
   "execution_count": null,
   "id": "574c02f8-6bb1-402a-a86f-13134fab9d1b",
   "metadata": {},
   "outputs": [],
   "source": []
  },
  {
   "cell_type": "code",
   "execution_count": null,
   "id": "acab3c27-afc6-4db8-9d88-2311b5ddf6d9",
   "metadata": {},
   "outputs": [],
   "source": []
  },
  {
   "cell_type": "code",
   "execution_count": null,
   "id": "c43bda45-980e-4889-972b-bb0f5f693241",
   "metadata": {},
   "outputs": [],
   "source": []
  },
  {
   "cell_type": "code",
   "execution_count": null,
   "id": "8572c647-33de-4533-a040-c7b89e6d8ed3",
   "metadata": {},
   "outputs": [],
   "source": []
  },
  {
   "cell_type": "code",
   "execution_count": null,
   "id": "6e5c2856-3bbc-4404-bc53-aa38a7202279",
   "metadata": {},
   "outputs": [],
   "source": []
  },
  {
   "cell_type": "code",
   "execution_count": null,
   "id": "08351e9c-b142-4ba2-ba02-3e47305b73c6",
   "metadata": {},
   "outputs": [],
   "source": []
  },
  {
   "cell_type": "code",
   "execution_count": null,
   "id": "876e43d8-efa9-4ee3-9851-21c7b53a89e2",
   "metadata": {},
   "outputs": [],
   "source": []
  },
  {
   "cell_type": "code",
   "execution_count": null,
   "id": "835ab04f-a50f-4470-8469-1dcc39ead1ec",
   "metadata": {},
   "outputs": [],
   "source": []
  },
  {
   "cell_type": "code",
   "execution_count": null,
   "id": "90932e08-c69b-4d63-85e6-411a044107e5",
   "metadata": {},
   "outputs": [],
   "source": []
  },
  {
   "cell_type": "code",
   "execution_count": null,
   "id": "9cfe8835-99e0-43f9-a789-4bb7b68aedb0",
   "metadata": {},
   "outputs": [],
   "source": []
  },
  {
   "cell_type": "code",
   "execution_count": null,
   "id": "5a6b7ca8-02f4-48e8-a8a2-5ff410be1ca6",
   "metadata": {},
   "outputs": [],
   "source": []
  },
  {
   "cell_type": "code",
   "execution_count": null,
   "id": "dd494d8c-dae8-4f9b-8ff1-0c94a7154aa3",
   "metadata": {},
   "outputs": [],
   "source": []
  },
  {
   "cell_type": "code",
   "execution_count": null,
   "id": "4b21e756-0abe-4a66-bc38-09f53172cffa",
   "metadata": {},
   "outputs": [],
   "source": []
  }
 ],
 "metadata": {
  "kernelspec": {
   "display_name": "Python 3 (ipykernel)",
   "language": "python",
   "name": "python3"
  },
  "language_info": {
   "codemirror_mode": {
    "name": "ipython",
    "version": 3
   },
   "file_extension": ".py",
   "mimetype": "text/x-python",
   "name": "python",
   "nbconvert_exporter": "python",
   "pygments_lexer": "ipython3",
   "version": "3.13.5"
  }
 },
 "nbformat": 4,
 "nbformat_minor": 5
}
